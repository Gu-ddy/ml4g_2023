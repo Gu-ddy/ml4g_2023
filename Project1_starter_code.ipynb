{
 "cells": [
  {
   "cell_type": "code",
   "execution_count": 1,
   "metadata": {},
   "outputs": [],
   "source": [
    "# Import libraries that are required to run your project\n",
    "# You are allowed to add more libraries as you need\n",
    "\n",
    "import os\n",
    "import pandas as pd\n",
    "import numpy as np\n",
    "from scipy.stats import spearmanr"
   ]
  },
  {
   "cell_type": "markdown",
   "metadata": {},
   "source": [
    "## Work Package 1.1 - Modeling Choices & Data Pre-processing"
   ]
  },
  {
   "cell_type": "code",
   "execution_count": 4,
   "metadata": {},
   "outputs": [],
   "source": [
    "# TODO:\n",
    "# Load your feature (bed and/or bigwig and/or fasta) and target files (tsv) here.\n",
    "# Decide which features to use for training. Feel free to process them however you need.\n",
    "\n",
    "# NOTE: \n",
    "# bed and bigwig files contain signals of all chromosomes (including sex chromosomes).\n",
    "# Training and validation split based on chromosomes has been done for you. \n",
    "# However, you can resplit the data in any way you want.\n",
    "\n",
    "path_cwd = os.getcwd()\n",
    "path_data = path_cwd+\"/ML4G_Project_1_Data\"  # TODO\n",
    "path_test = path_data+\"/CAGE-train/CAGE-train/X1_train_info.tsv\"   # X3_test_info.tsv ; TODO\n",
    "test_genes = pd.read_csv(path_test, sep='\\t')\n",
    "# ---------------------------INSERT CODE HERE---------------------------\n",
    "\n",
    "\n",
    "\n",
    "\n",
    "# ----------------------------------------------------------------------"
   ]
  },
  {
   "cell_type": "code",
   "execution_count": 5,
   "outputs": [
    {
     "data": {
      "text/plain": "      gene_name    chr  gene_start   gene_end  TSS_start    TSS_end strand\n0       SLC20A1   chr2   112645939  112663825  112658362  112658412      +\n1      C11orf58  chr11    16613132   16758340   16738643   16738693      +\n2        ZSCAN9   chr6    28224886   28233487   28225263   28225313      +\n3          CD19  chr16    28931965   28939342   28931956   28932006      +\n4       TMEM123  chr11   102396332  102470384  102452789  102452839      -\n...         ...    ...         ...        ...        ...        ...    ...\n14305     ACOX1  chr17    75941507   75979177   75955565   75955589      -\n14306     MLXIP  chr12   122078756  122147344  122127887  122127937      +\n14307     ASGR2  chr17     7101322    7115700    7114614    7114653      -\n14308     OR5A1  chr11    59436469   59451380   59443143   59443193      +\n14309      TLR3   chr4   186069155  186088073  186069154  186069204      +\n\n[14310 rows x 7 columns]",
      "text/html": "<div>\n<style scoped>\n    .dataframe tbody tr th:only-of-type {\n        vertical-align: middle;\n    }\n\n    .dataframe tbody tr th {\n        vertical-align: top;\n    }\n\n    .dataframe thead th {\n        text-align: right;\n    }\n</style>\n<table border=\"1\" class=\"dataframe\">\n  <thead>\n    <tr style=\"text-align: right;\">\n      <th></th>\n      <th>gene_name</th>\n      <th>chr</th>\n      <th>gene_start</th>\n      <th>gene_end</th>\n      <th>TSS_start</th>\n      <th>TSS_end</th>\n      <th>strand</th>\n    </tr>\n  </thead>\n  <tbody>\n    <tr>\n      <th>0</th>\n      <td>SLC20A1</td>\n      <td>chr2</td>\n      <td>112645939</td>\n      <td>112663825</td>\n      <td>112658362</td>\n      <td>112658412</td>\n      <td>+</td>\n    </tr>\n    <tr>\n      <th>1</th>\n      <td>C11orf58</td>\n      <td>chr11</td>\n      <td>16613132</td>\n      <td>16758340</td>\n      <td>16738643</td>\n      <td>16738693</td>\n      <td>+</td>\n    </tr>\n    <tr>\n      <th>2</th>\n      <td>ZSCAN9</td>\n      <td>chr6</td>\n      <td>28224886</td>\n      <td>28233487</td>\n      <td>28225263</td>\n      <td>28225313</td>\n      <td>+</td>\n    </tr>\n    <tr>\n      <th>3</th>\n      <td>CD19</td>\n      <td>chr16</td>\n      <td>28931965</td>\n      <td>28939342</td>\n      <td>28931956</td>\n      <td>28932006</td>\n      <td>+</td>\n    </tr>\n    <tr>\n      <th>4</th>\n      <td>TMEM123</td>\n      <td>chr11</td>\n      <td>102396332</td>\n      <td>102470384</td>\n      <td>102452789</td>\n      <td>102452839</td>\n      <td>-</td>\n    </tr>\n    <tr>\n      <th>...</th>\n      <td>...</td>\n      <td>...</td>\n      <td>...</td>\n      <td>...</td>\n      <td>...</td>\n      <td>...</td>\n      <td>...</td>\n    </tr>\n    <tr>\n      <th>14305</th>\n      <td>ACOX1</td>\n      <td>chr17</td>\n      <td>75941507</td>\n      <td>75979177</td>\n      <td>75955565</td>\n      <td>75955589</td>\n      <td>-</td>\n    </tr>\n    <tr>\n      <th>14306</th>\n      <td>MLXIP</td>\n      <td>chr12</td>\n      <td>122078756</td>\n      <td>122147344</td>\n      <td>122127887</td>\n      <td>122127937</td>\n      <td>+</td>\n    </tr>\n    <tr>\n      <th>14307</th>\n      <td>ASGR2</td>\n      <td>chr17</td>\n      <td>7101322</td>\n      <td>7115700</td>\n      <td>7114614</td>\n      <td>7114653</td>\n      <td>-</td>\n    </tr>\n    <tr>\n      <th>14308</th>\n      <td>OR5A1</td>\n      <td>chr11</td>\n      <td>59436469</td>\n      <td>59451380</td>\n      <td>59443143</td>\n      <td>59443193</td>\n      <td>+</td>\n    </tr>\n    <tr>\n      <th>14309</th>\n      <td>TLR3</td>\n      <td>chr4</td>\n      <td>186069155</td>\n      <td>186088073</td>\n      <td>186069154</td>\n      <td>186069204</td>\n      <td>+</td>\n    </tr>\n  </tbody>\n</table>\n<p>14310 rows × 7 columns</p>\n</div>"
     },
     "execution_count": 5,
     "metadata": {},
     "output_type": "execute_result"
    }
   ],
   "source": [
    "test_genes"
   ],
   "metadata": {
    "collapsed": false
   }
  },
  {
   "cell_type": "markdown",
   "metadata": {},
   "source": [
    "## Work Package 1.2 - Model Building"
   ]
  },
  {
   "cell_type": "code",
   "execution_count": null,
   "metadata": {},
   "outputs": [],
   "source": [
    "# TODO: \n",
    "# Select the best model to predict gene expression from the obtained features in WP 1.1.\n",
    "\n",
    "# ---------------------------INSERT CODE HERE---------------------------\n",
    "\n",
    "\n",
    "\n",
    "\n",
    "# ----------------------------------------------------------------------\n"
   ]
  },
  {
   "cell_type": "markdown",
   "metadata": {},
   "source": [
    "## Work Package 1.3 - Prediction on Test Data (Evaluation Metric)"
   ]
  },
  {
   "cell_type": "code",
   "execution_count": null,
   "metadata": {},
   "outputs": [],
   "source": [
    "# TODO:\n",
    "# Using the model trained in WP 1.2, make predictions on the test data (chr 1 of cell line X3).\n",
    "# Store predictions in a variable called \"pred\" which is a numpy array.\n",
    "\n",
    "pred = None\n",
    "# ---------------------------INSERT CODE HERE---------------------------\n",
    "\n",
    "\n",
    "\n",
    "\n",
    "# ----------------------------------------------------------------------\n",
    "\n",
    "# Check if \"pred\" meets the specified constrains\n",
    "assert isinstance(pred, np.ndarray), 'Prediction array must be a numpy array'\n",
    "assert np.issubdtype(pred.dtype, np.number), 'Prediction array must be numeric'\n",
    "assert pred.shape[0] == len(test_genes), 'Each gene should have a unique predicted expression'"
   ]
  },
  {
   "cell_type": "markdown",
   "metadata": {},
   "source": [
    "#### Store Predictions in the Required Format"
   ]
  },
  {
   "cell_type": "code",
   "execution_count": null,
   "metadata": {},
   "outputs": [],
   "source": [
    "# Store predictions in a ZIP. \n",
    "# Upload this zip on the project website under \"Your submission\".\n",
    "# Zip this notebook along with the conda environment (and README, optional) and upload this under \"Your code\".\n",
    "\n",
    "save_dir = 'path/to/save/output/file'  # TODO\n",
    "file_name = 'gex_predicted.csv'         # PLEASE DO NOT CHANGE THIS\n",
    "zip_name = \"LastName_FirstName_Project1.zip\" # TODO\n",
    "save_path = f'{save_dir}/{zip_name}'\n",
    "compression_options = dict(method=\"zip\", archive_name=file_name)\n",
    "\n",
    "test_genes['gex_predicted'] = pred.tolist()\n",
    "test_genes[['gene_name', 'gex_predicted']].to_csv(save_path, compression=compression_options)"
   ]
  }
 ],
 "metadata": {
  "kernelspec": {
   "display_name": "Python 3 (ipykernel)",
   "language": "python",
   "name": "python3"
  },
  "language_info": {
   "codemirror_mode": {
    "name": "ipython",
    "version": 3
   },
   "file_extension": ".py",
   "mimetype": "text/x-python",
   "name": "python",
   "nbconvert_exporter": "python",
   "pygments_lexer": "ipython3",
   "version": "3.9.9"
  }
 },
 "nbformat": 4,
 "nbformat_minor": 2
}
