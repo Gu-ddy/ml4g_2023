{
 "cells": [
  {
   "cell_type": "code",
   "execution_count": 49,
   "metadata": {},
   "outputs": [],
   "source": [
    "# For Data Handling and Preprocessing\n",
    "import os\n",
    "import numpy as np\n",
    "import pandas as pd\n",
    "import scprep\n",
    "import scanpy as sc\n",
    "import scvelo as scv\n",
    "\n",
    "# For Batch Correction\n",
    "import harmonypy as hm\n",
    "\n",
    "# For Clustering\n",
    "from sklearn.decomposition import PCA\n",
    "import umap\n",
    "from hdbscan import HDBSCAN\n",
    "from hdbscan.flat import (HDBSCAN_flat,\n",
    "                          approximate_predict_flat,\n",
    "                          membership_vector_flat,\n",
    "                          all_points_membership_vectors_flat)\n",
    "import sklearn.cluster as cluster\n",
    "from sklearn.metrics import adjusted_rand_score, adjusted_mutual_info_score\n",
    "\n",
    "# For Plotting\n",
    "import matplotlib.pyplot as plt\n",
    "import seaborn as sns\n",
    "%matplotlib inline\n",
    "sns.set(style='white', context='notebook', rc={'figure.figsize':(14,10)})\n"
   ]
  },
  {
   "attachments": {},
   "cell_type": "markdown",
   "metadata": {},
   "source": [
    "## 1. Read Data"
   ]
  },
  {
   "cell_type": "code",
   "execution_count": 94,
   "metadata": {},
   "outputs": [],
   "source": [
    "#set paths\n",
    "path_cwd=os.getcwd()\n",
    "path_train_data=path_cwd + '/ML4G_Project_2_Data/train_data'\n",
    "path_test_data=path_cwd + '/ML4G_Project_2_Data/test_data'\n",
    "\n",
    "#train_data\n",
    "bulk_train=pd.read_csv(path_train_data +'/pancreas_bulk_train.csv',index_col=0)\n",
    "metadata_train=pd.read_csv(path_train_data+ '/pancreas_sc_metadata_train.csv', index_col=0)\n",
    "metadata_train[\"Celltype_Int\"] = pd.factorize(metadata_train[\"Celltype\"])[0]\n",
    "metadata_train[\"Disease_Int\"] = pd.factorize(metadata_train[\"Disease\"])[0]\n",
    "metadata_train[\"Sample_Int\"] = pd.factorize(metadata_train[\"Sample\"])[0]\n",
    "sc_train_raw = pd.read_csv(path_train_data +'/pancreas_sc_train.csv', \n",
    "                       index_col=0, header=0)\n",
    "\n",
    "#test_data\n",
    "metadata_test=pd.read_csv(path_test_data+ '/pancreas_sc_metadata_test_wocelltype.csv', index_col=0)\n",
    "metadata_test[\"Disease_Int\"] = pd.factorize(metadata_test[\"Disease\"])[0]\n",
    "metadata_test[\"Sample_Int\"] = pd.factorize(metadata_test[\"Sample\"])[0]\n",
    "sc_test_raw = pd.read_csv(path_test_data +'/pancreas_sc_test.csv', \n",
    "                        index_col=0, header=0)"
   ]
  },
  {
   "attachments": {},
   "cell_type": "markdown",
   "metadata": {},
   "source": [
    "## 2. Preprocess Data"
   ]
  },
  {
   "cell_type": "code",
   "execution_count": 100,
   "metadata": {},
   "outputs": [],
   "source": [
    "#create preprocessing function\n",
    "def preprocess(adata, \n",
    "               min_counts=1, \n",
    "               min_cells=200,\n",
    "               key_n_counts='n_counts_all', \n",
    "               n_top_genes=1000, \n",
    "               log_transform=True, \n",
    "               harmony=True, \n",
    "               harmony_vars = [\"Sample\", \"Disease\"],\n",
    "               harmony_max_iter=20):\n",
    "    \"\"\"\n",
    "    Preprocesses the data using scanpy functions and harmony if specified.\n",
    "    ----------\n",
    "    adata: AnnData\n",
    "        AnnData object to be preprocessed\"\"\"\n",
    "\n",
    "    #filter genes based on counts and normalize\n",
    "    sc.pp.filter_genes(adata, min_counts=min_counts)\n",
    "    sc.pp.filter_genes(adata, min_cells=min_cells)\n",
    "    sc.pp.normalize_per_cell(adata, key_n_counts=key_n_counts)\n",
    "\n",
    "    #log transform data\n",
    "    if log_transform: \n",
    "        sc.pp.log1p(adata)\n",
    "\n",
    "    sc.pp.highly_variable_genes(adata, \n",
    "                                flavor='cell_ranger', \n",
    "                                n_top_genes=n_top_genes,\n",
    "                                inplace=True,\n",
    "                                subset=True)\n",
    "\n",
    "    #run batch correction\n",
    "    if harmony:\n",
    "        print(\"Running Harmony:\")\n",
    "        ho = hm.run_harmony(adata.X, \n",
    "                            adata.obs, \n",
    "                            harmony_vars, \n",
    "                            max_iter_harmony=harmony_max_iter,\n",
    "                            verbose=False)\n",
    "\n",
    "        # Format output\n",
    "        adata.X = ho.Z_corr.T\n",
    "\n",
    "    \n",
    "    #renormalize after filtering and scale\n",
    "    sc.pp.normalize_per_cell(adata) \n",
    "    sc.pp.scale(adata)\n",
    "    \n",
    "    return adata"
   ]
  },
  {
   "cell_type": "code",
   "execution_count": 103,
   "metadata": {},
   "outputs": [
    {
     "name": "stderr",
     "output_type": "stream",
     "text": [
      "2023-04-25 09:28:17,798 - harmonypy - INFO - Computing initial centroids with sklearn.KMeans...\n"
     ]
    },
    {
     "name": "stdout",
     "output_type": "stream",
     "text": [
      "Running Harmony:\n"
     ]
    },
    {
     "name": "stderr",
     "output_type": "stream",
     "text": [
      "2023-04-25 09:28:18,022 - harmonypy - INFO - sklearn.KMeans initialization complete.\n",
      "2023-04-25 09:28:19,319 - harmonypy - INFO - Computing initial centroids with sklearn.KMeans...\n",
      "2023-04-25 09:28:19,504 - harmonypy - INFO - sklearn.KMeans initialization complete.\n"
     ]
    },
    {
     "name": "stdout",
     "output_type": "stream",
     "text": [
      "Running Harmony:\n"
     ]
    }
   ],
   "source": [
    "#create annData objects\n",
    "sc_train = sc.AnnData(sc_train_raw.T, obs=metadata_train)\n",
    "sc_train.obs_names = sc_train_raw.columns\n",
    "\n",
    "sc_test = sc.AnnData(sc_test_raw.T, obs=metadata_test)\n",
    "sc_test.obs_names = sc_test_raw.columns\n",
    "\n",
    "#apply preprocessing functions\n",
    "sc_train_pp = preprocess(sc_train, \n",
    "                         harmony=True,\n",
    "                         harmony_vars = [\"Disease\"])\n",
    "\n",
    "sc_test_pp = preprocess(sc_test, \n",
    "                         harmony=True,\n",
    "                         harmony_vars = [\"Disease\"])"
   ]
  }
 ],
 "metadata": {
  "kernelspec": {
   "display_name": "eth_ml4g",
   "language": "python",
   "name": "python3"
  },
  "language_info": {
   "codemirror_mode": {
    "name": "ipython",
    "version": 3
   },
   "file_extension": ".py",
   "mimetype": "text/x-python",
   "name": "python",
   "nbconvert_exporter": "python",
   "pygments_lexer": "ipython3",
   "version": "3.9.16"
  },
  "orig_nbformat": 4
 },
 "nbformat": 4,
 "nbformat_minor": 2
}
