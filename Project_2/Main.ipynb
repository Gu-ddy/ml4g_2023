{
 "cells": [
  {
   "cell_type": "code",
   "execution_count": 2,
   "metadata": {
    "collapsed": true
   },
   "outputs": [],
   "source": [
    "import os\n",
    "import pandas as pd"
   ]
  },
  {
   "cell_type": "code",
   "execution_count": 9,
   "outputs": [],
   "source": [
    "path_cwd=os.getcwd()\n",
    "path_train_data=path_cwd + '/ML4G_Project_2_Data/train_data'\n",
    "path_test_data=path_cwd + '/ML4G_Project_2_Data/test_data'"
   ],
   "metadata": {
    "collapsed": false
   }
  },
  {
   "cell_type": "code",
   "execution_count": 13,
   "outputs": [],
   "source": [
    "#train_data\n",
    "bulk_train=pd.read_csv(path_train_data +'/pancreas_bulk_train.csv')\n",
    "metadata_train=pd.read_csv(path_train_data+ '/pancreas_sc_metadata_train.csv')\n",
    "sc_train=pd.read_csv(path_train_data +'/pancreas_sc_train.csv')\n",
    "\n",
    "#test_data\n",
    "metadata_test=pd.read_csv(path_test_data+ '/pancreas_sc_metadata_test_wocelltype.csv')\n",
    "sc_test=pd.read_csv(path_test_data +'/pancreas_sc_test.csv')"
   ],
   "metadata": {
    "collapsed": false
   }
  },
  {
   "cell_type": "markdown",
   "source": [
    "Rows are given by genes, while we have a column for every combination of cells and patient"
   ],
   "metadata": {
    "collapsed": false
   }
  }
 ],
 "metadata": {
  "kernelspec": {
   "display_name": "Python 3",
   "language": "python",
   "name": "python3"
  },
  "language_info": {
   "codemirror_mode": {
    "name": "ipython",
    "version": 2
   },
   "file_extension": ".py",
   "mimetype": "text/x-python",
   "name": "python",
   "nbconvert_exporter": "python",
   "pygments_lexer": "ipython2",
   "version": "2.7.6"
  }
 },
 "nbformat": 4,
 "nbformat_minor": 0
}
