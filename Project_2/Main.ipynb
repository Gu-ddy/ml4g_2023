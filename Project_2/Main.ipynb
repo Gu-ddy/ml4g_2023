{
 "cells": [
  {
   "cell_type": "code",
   "execution_count": 141,
   "metadata": {
    "collapsed": true
   },
   "outputs": [],
   "source": [
    "# important, you need to install scvelo\n",
    "\n",
    "import os\n",
    "import numpy as np\n",
    "import pandas as pd\n",
    "import scanpy as sc\n",
    "import scvelo as scv\n",
    "import matplotlib.pyplot as plt\n",
    "import magic\n",
    "from scipy.stats import spearmanr"
   ]
  },
  {
   "cell_type": "code",
   "execution_count": 142,
   "outputs": [],
   "source": [
    "path_cwd=os.getcwd()\n",
    "path_train_data=path_cwd + '/ML4G_Project_2_Data/train_data'\n",
    "path_test_data=path_cwd + '/ML4G_Project_2_Data/test_data'"
   ],
   "metadata": {
    "collapsed": false
   }
  },
  {
   "cell_type": "code",
   "execution_count": 143,
   "outputs": [],
   "source": [
    "#train_data\n",
    "bulk_train=pd.read_csv(path_train_data +'/pancreas_bulk_train.csv',index_col=0)\n",
    "metadata_train=pd.read_csv(path_train_data+ '/pancreas_sc_metadata_train.csv')\n",
    "sc_train=pd.read_csv(path_train_data +'/pancreas_sc_train.csv', index_col=0)\n",
    "\n",
    "#test_data\n",
    "metadata_test=pd.read_csv(path_test_data+ '/pancreas_sc_metadata_test_wocelltype.csv')\n",
    "sc_test=pd.read_csv(path_test_data +'/pancreas_sc_test.csv', index_col=0)"
   ],
   "metadata": {
    "collapsed": false
   }
  },
  {
   "cell_type": "code",
   "execution_count": 144,
   "outputs": [
    {
     "data": {
      "text/plain": "Unnamed: 0    SGIP1  AZIN2  CLIC4  AGBL4  NECAP2  SLC45A1  TGFBR3   DBT  \\\npatient1_A10    0.0    0.0  127.0    0.0   140.0      0.0     0.0   1.0   \npatient1_A12    0.0    0.0    0.0    0.0     0.0      0.0     0.0  57.0   \npatient1_A13    0.0  110.0    0.0   21.0     0.0      0.0     0.0  56.0   \n\nUnnamed: 0    RFWD2  C1orf21  ...  LOC389831  MGC70870  KIR2DS5  KIR2DL5A  \\\npatient1_A10  103.0    267.0  ...        0.0       0.0      0.0       0.0   \npatient1_A12    0.0      0.0  ...        0.0       0.0      0.0       0.0   \npatient1_A13    0.0      0.0  ...        0.0       0.0      0.0       0.0   \n\nUnnamed: 0    KIR3DS1  KIR2DL5B  KIR2DS2  KIR2DS1  KIR2DL2  KIR2DS3  \npatient1_A10      0.0       0.0      0.0      0.0      0.0      0.0  \npatient1_A12      0.0       0.0      0.0      0.0      0.0      0.0  \npatient1_A13      0.0       0.0      0.0      0.0      0.0      0.0  \n\n[3 rows x 25453 columns]",
      "text/html": "<div>\n<style scoped>\n    .dataframe tbody tr th:only-of-type {\n        vertical-align: middle;\n    }\n\n    .dataframe tbody tr th {\n        vertical-align: top;\n    }\n\n    .dataframe thead th {\n        text-align: right;\n    }\n</style>\n<table border=\"1\" class=\"dataframe\">\n  <thead>\n    <tr style=\"text-align: right;\">\n      <th>Unnamed: 0</th>\n      <th>SGIP1</th>\n      <th>AZIN2</th>\n      <th>CLIC4</th>\n      <th>AGBL4</th>\n      <th>NECAP2</th>\n      <th>SLC45A1</th>\n      <th>TGFBR3</th>\n      <th>DBT</th>\n      <th>RFWD2</th>\n      <th>C1orf21</th>\n      <th>...</th>\n      <th>LOC389831</th>\n      <th>MGC70870</th>\n      <th>KIR2DS5</th>\n      <th>KIR2DL5A</th>\n      <th>KIR3DS1</th>\n      <th>KIR2DL5B</th>\n      <th>KIR2DS2</th>\n      <th>KIR2DS1</th>\n      <th>KIR2DL2</th>\n      <th>KIR2DS3</th>\n    </tr>\n  </thead>\n  <tbody>\n    <tr>\n      <th>patient1_A10</th>\n      <td>0.0</td>\n      <td>0.0</td>\n      <td>127.0</td>\n      <td>0.0</td>\n      <td>140.0</td>\n      <td>0.0</td>\n      <td>0.0</td>\n      <td>1.0</td>\n      <td>103.0</td>\n      <td>267.0</td>\n      <td>...</td>\n      <td>0.0</td>\n      <td>0.0</td>\n      <td>0.0</td>\n      <td>0.0</td>\n      <td>0.0</td>\n      <td>0.0</td>\n      <td>0.0</td>\n      <td>0.0</td>\n      <td>0.0</td>\n      <td>0.0</td>\n    </tr>\n    <tr>\n      <th>patient1_A12</th>\n      <td>0.0</td>\n      <td>0.0</td>\n      <td>0.0</td>\n      <td>0.0</td>\n      <td>0.0</td>\n      <td>0.0</td>\n      <td>0.0</td>\n      <td>57.0</td>\n      <td>0.0</td>\n      <td>0.0</td>\n      <td>...</td>\n      <td>0.0</td>\n      <td>0.0</td>\n      <td>0.0</td>\n      <td>0.0</td>\n      <td>0.0</td>\n      <td>0.0</td>\n      <td>0.0</td>\n      <td>0.0</td>\n      <td>0.0</td>\n      <td>0.0</td>\n    </tr>\n    <tr>\n      <th>patient1_A13</th>\n      <td>0.0</td>\n      <td>110.0</td>\n      <td>0.0</td>\n      <td>21.0</td>\n      <td>0.0</td>\n      <td>0.0</td>\n      <td>0.0</td>\n      <td>56.0</td>\n      <td>0.0</td>\n      <td>0.0</td>\n      <td>...</td>\n      <td>0.0</td>\n      <td>0.0</td>\n      <td>0.0</td>\n      <td>0.0</td>\n      <td>0.0</td>\n      <td>0.0</td>\n      <td>0.0</td>\n      <td>0.0</td>\n      <td>0.0</td>\n      <td>0.0</td>\n    </tr>\n  </tbody>\n</table>\n<p>3 rows × 25453 columns</p>\n</div>"
     },
     "execution_count": 144,
     "metadata": {},
     "output_type": "execute_result"
    }
   ],
   "source": [
    "cells_1=[column for column in sc_train.columns if 'patient1' in column ]\n",
    "cells_2=[column for column in sc_train.columns if 'patient2' in column ]\n",
    "cells_3=[column for column in sc_train.columns if 'patient3' in column ]\n",
    "cells_4=[column for column in sc_train.columns if 'patient4' in column ]\n",
    "\n",
    "# For the moment we work only with the first patient\n",
    "sc1_train=sc_train[cells_1].T # we transpose the dataframe since we want a cells x genes dataframe for applying MAGIC\n",
    "sc1_train.head(3)"
   ],
   "metadata": {
    "collapsed": false
   }
  },
  {
   "cell_type": "code",
   "execution_count": 145,
   "outputs": [
    {
     "name": "stdout",
     "output_type": "stream",
     "text": [
      "Normalized count data: X.\n"
     ]
    },
    {
     "data": {
      "text/plain": "Unnamed: 0    SGIP1     AZIN2     CLIC4     AGBL4    NECAP2  SLC45A1  TGFBR3  \\\npatient1_A10    0.0  0.000000  4.584115  0.000000  4.680622      0.0     0.0   \npatient1_A12    0.0  0.000000  0.000000  0.000000  0.000000      0.0     0.0   \npatient1_A13    0.0  4.803261  0.000000  3.181477  0.000000      0.0     0.0   \n\nUnnamed: 0         DBT     RFWD2   C1orf21  ...  LOC389831  MGC70870  KIR2DS5  \\\npatient1_A10  0.567086  4.377034  5.321808  ...        0.0       0.0      0.0   \npatient1_A12  3.694045  0.000000  0.000000  ...        0.0       0.0      0.0   \npatient1_A13  4.136011  0.000000  0.000000  ...        0.0       0.0      0.0   \n\nUnnamed: 0    KIR2DL5A  KIR3DS1  KIR2DL5B  KIR2DS2  KIR2DS1  KIR2DL2  KIR2DS3  \npatient1_A10       0.0      0.0       0.0      0.0      0.0      0.0      0.0  \npatient1_A12       0.0      0.0       0.0      0.0      0.0      0.0      0.0  \npatient1_A13       0.0      0.0       0.0      0.0      0.0      0.0      0.0  \n\n[3 rows x 25453 columns]",
      "text/html": "<div>\n<style scoped>\n    .dataframe tbody tr th:only-of-type {\n        vertical-align: middle;\n    }\n\n    .dataframe tbody tr th {\n        vertical-align: top;\n    }\n\n    .dataframe thead th {\n        text-align: right;\n    }\n</style>\n<table border=\"1\" class=\"dataframe\">\n  <thead>\n    <tr style=\"text-align: right;\">\n      <th>Unnamed: 0</th>\n      <th>SGIP1</th>\n      <th>AZIN2</th>\n      <th>CLIC4</th>\n      <th>AGBL4</th>\n      <th>NECAP2</th>\n      <th>SLC45A1</th>\n      <th>TGFBR3</th>\n      <th>DBT</th>\n      <th>RFWD2</th>\n      <th>C1orf21</th>\n      <th>...</th>\n      <th>LOC389831</th>\n      <th>MGC70870</th>\n      <th>KIR2DS5</th>\n      <th>KIR2DL5A</th>\n      <th>KIR3DS1</th>\n      <th>KIR2DL5B</th>\n      <th>KIR2DS2</th>\n      <th>KIR2DS1</th>\n      <th>KIR2DL2</th>\n      <th>KIR2DS3</th>\n    </tr>\n  </thead>\n  <tbody>\n    <tr>\n      <th>patient1_A10</th>\n      <td>0.0</td>\n      <td>0.000000</td>\n      <td>4.584115</td>\n      <td>0.000000</td>\n      <td>4.680622</td>\n      <td>0.0</td>\n      <td>0.0</td>\n      <td>0.567086</td>\n      <td>4.377034</td>\n      <td>5.321808</td>\n      <td>...</td>\n      <td>0.0</td>\n      <td>0.0</td>\n      <td>0.0</td>\n      <td>0.0</td>\n      <td>0.0</td>\n      <td>0.0</td>\n      <td>0.0</td>\n      <td>0.0</td>\n      <td>0.0</td>\n      <td>0.0</td>\n    </tr>\n    <tr>\n      <th>patient1_A12</th>\n      <td>0.0</td>\n      <td>0.000000</td>\n      <td>0.000000</td>\n      <td>0.000000</td>\n      <td>0.000000</td>\n      <td>0.0</td>\n      <td>0.0</td>\n      <td>3.694045</td>\n      <td>0.000000</td>\n      <td>0.000000</td>\n      <td>...</td>\n      <td>0.0</td>\n      <td>0.0</td>\n      <td>0.0</td>\n      <td>0.0</td>\n      <td>0.0</td>\n      <td>0.0</td>\n      <td>0.0</td>\n      <td>0.0</td>\n      <td>0.0</td>\n      <td>0.0</td>\n    </tr>\n    <tr>\n      <th>patient1_A13</th>\n      <td>0.0</td>\n      <td>4.803261</td>\n      <td>0.000000</td>\n      <td>3.181477</td>\n      <td>0.000000</td>\n      <td>0.0</td>\n      <td>0.0</td>\n      <td>4.136011</td>\n      <td>0.000000</td>\n      <td>0.000000</td>\n      <td>...</td>\n      <td>0.0</td>\n      <td>0.0</td>\n      <td>0.0</td>\n      <td>0.0</td>\n      <td>0.0</td>\n      <td>0.0</td>\n      <td>0.0</td>\n      <td>0.0</td>\n      <td>0.0</td>\n      <td>0.0</td>\n    </tr>\n  </tbody>\n</table>\n<p>3 rows × 25453 columns</p>\n</div>"
     },
     "execution_count": 145,
     "metadata": {},
     "output_type": "execute_result"
    }
   ],
   "source": [
    "# Pre processing: Normalize per total reads per cell and transform with log\n",
    "sc1_train=ad.AnnData(sc1_train) #Needed to use scv functions for pre processing\n",
    "scv.pp.normalize_per_cell(sc1_train)\n",
    "scv.pp.log1p(sc1_train)\n",
    "sc1_train=pd.DataFrame(sc1_train.X, columns = sc1_train.var_names,index=sc1_train.obs_names)\n",
    "\n",
    "sc1_train.head(3)"
   ],
   "metadata": {
    "collapsed": false
   }
  },
  {
   "cell_type": "code",
   "execution_count": 147,
   "outputs": [
    {
     "name": "stderr",
     "output_type": "stream",
     "text": [
      "C:\\Users\\gugli\\AppData\\Roaming\\Python\\Python310\\site-packages\\magic\\magic.py:586: DeprecationWarning: Call to deprecated method warning. (Use TaskLogger.log_warning instead) -- Deprecated since version 1.1.0.\n",
      "  _logger.warning(\n",
      "C:\\Users\\gugli\\AppData\\Roaming\\Python\\Python310\\site-packages\\magic\\magic.py:748: DeprecationWarning: Call to deprecated method task. (Use TaskLogger.log_task instead) -- Deprecated since version 1.1.0.\n",
      "  with _logger.task(\"imputation\"):\n",
      "C:\\Users\\gugli\\AppData\\Roaming\\Python\\Python310\\site-packages\\magic\\magic.py:650: DeprecationWarning: Call to deprecated method task. (Use TaskLogger.log_task instead) -- Deprecated since version 1.1.0.\n",
      "  with _logger.task(\"MAGIC\"):\n",
      "C:\\Users\\gugli\\AppData\\Roaming\\Python\\Python310\\site-packages\\magic\\magic.py:381: DeprecationWarning: Call to deprecated method info. (Use TaskLogger.log_info instead) -- Deprecated since version 1.1.0.\n",
      "  _logger.info(\n",
      "C:\\Users\\gugli\\AppData\\Roaming\\Python\\Python310\\site-packages\\magic\\magic.py:436: DeprecationWarning: Call to deprecated method task. (Use TaskLogger.log_task instead) -- Deprecated since version 1.1.0.\n",
      "  with _logger.task(\"graph and diffusion operator\"):\n"
     ]
    },
    {
     "name": "stdout",
     "output_type": "stream",
     "text": [
      "  Running MAGIC with `solver='exact'` on 25453-dimensional data may take a long time. Consider denoising specific genes with `genes=<list-like>` or using `solver='approximate'`.\n"
     ]
    },
    {
     "name": "stderr",
     "output_type": "stream",
     "text": [
      "C:\\Users\\gugli\\AppData\\Roaming\\Python\\Python310\\site-packages\\magic\\magic.py:586: DeprecationWarning: Call to deprecated method warning. (Use TaskLogger.log_warning instead) -- Deprecated since version 1.1.0.\n",
      "  _logger.warning(\n",
      "C:\\Users\\gugli\\AppData\\Roaming\\Python\\Python310\\site-packages\\magic\\magic.py:748: DeprecationWarning: Call to deprecated method task. (Use TaskLogger.log_task instead) -- Deprecated since version 1.1.0.\n",
      "  with _logger.task(\"imputation\"):\n",
      "C:\\Users\\gugli\\AppData\\Roaming\\Python\\Python310\\site-packages\\magic\\magic.py:650: DeprecationWarning: Call to deprecated method task. (Use TaskLogger.log_task instead) -- Deprecated since version 1.1.0.\n",
      "  with _logger.task(\"MAGIC\"):\n",
      "C:\\Users\\gugli\\AppData\\Roaming\\Python\\Python310\\site-packages\\magic\\magic.py:381: DeprecationWarning: Call to deprecated method info. (Use TaskLogger.log_info instead) -- Deprecated since version 1.1.0.\n",
      "  _logger.info(\n",
      "C:\\Users\\gugli\\AppData\\Roaming\\Python\\Python310\\site-packages\\magic\\magic.py:436: DeprecationWarning: Call to deprecated method task. (Use TaskLogger.log_task instead) -- Deprecated since version 1.1.0.\n",
      "  with _logger.task(\"graph and diffusion operator\"):\n"
     ]
    },
    {
     "name": "stdout",
     "output_type": "stream",
     "text": [
      "  Running MAGIC with `solver='exact'` on 25453-dimensional data may take a long time. Consider denoising specific genes with `genes=<list-like>` or using `solver='approximate'`.\n"
     ]
    },
    {
     "name": "stderr",
     "output_type": "stream",
     "text": [
      "C:\\Users\\gugli\\AppData\\Roaming\\Python\\Python310\\site-packages\\magic\\magic.py:586: DeprecationWarning: Call to deprecated method warning. (Use TaskLogger.log_warning instead) -- Deprecated since version 1.1.0.\n",
      "  _logger.warning(\n",
      "C:\\Users\\gugli\\AppData\\Roaming\\Python\\Python310\\site-packages\\magic\\magic.py:748: DeprecationWarning: Call to deprecated method task. (Use TaskLogger.log_task instead) -- Deprecated since version 1.1.0.\n",
      "  with _logger.task(\"imputation\"):\n",
      "C:\\Users\\gugli\\AppData\\Roaming\\Python\\Python310\\site-packages\\magic\\magic.py:650: DeprecationWarning: Call to deprecated method task. (Use TaskLogger.log_task instead) -- Deprecated since version 1.1.0.\n",
      "  with _logger.task(\"MAGIC\"):\n",
      "C:\\Users\\gugli\\AppData\\Roaming\\Python\\Python310\\site-packages\\magic\\magic.py:381: DeprecationWarning: Call to deprecated method info. (Use TaskLogger.log_info instead) -- Deprecated since version 1.1.0.\n",
      "  _logger.info(\n",
      "C:\\Users\\gugli\\AppData\\Roaming\\Python\\Python310\\site-packages\\magic\\magic.py:436: DeprecationWarning: Call to deprecated method task. (Use TaskLogger.log_task instead) -- Deprecated since version 1.1.0.\n",
      "  with _logger.task(\"graph and diffusion operator\"):\n"
     ]
    },
    {
     "name": "stdout",
     "output_type": "stream",
     "text": [
      "  Running MAGIC with `solver='exact'` on 25453-dimensional data may take a long time. Consider denoising specific genes with `genes=<list-like>` or using `solver='approximate'`.\n"
     ]
    },
    {
     "name": "stderr",
     "output_type": "stream",
     "text": [
      "C:\\Users\\gugli\\AppData\\Roaming\\Python\\Python310\\site-packages\\magic\\magic.py:586: DeprecationWarning: Call to deprecated method warning. (Use TaskLogger.log_warning instead) -- Deprecated since version 1.1.0.\n",
      "  _logger.warning(\n",
      "C:\\Users\\gugli\\AppData\\Roaming\\Python\\Python310\\site-packages\\magic\\magic.py:748: DeprecationWarning: Call to deprecated method task. (Use TaskLogger.log_task instead) -- Deprecated since version 1.1.0.\n",
      "  with _logger.task(\"imputation\"):\n",
      "C:\\Users\\gugli\\AppData\\Roaming\\Python\\Python310\\site-packages\\magic\\magic.py:650: DeprecationWarning: Call to deprecated method task. (Use TaskLogger.log_task instead) -- Deprecated since version 1.1.0.\n",
      "  with _logger.task(\"MAGIC\"):\n",
      "C:\\Users\\gugli\\AppData\\Roaming\\Python\\Python310\\site-packages\\magic\\magic.py:381: DeprecationWarning: Call to deprecated method info. (Use TaskLogger.log_info instead) -- Deprecated since version 1.1.0.\n",
      "  _logger.info(\n",
      "C:\\Users\\gugli\\AppData\\Roaming\\Python\\Python310\\site-packages\\magic\\magic.py:436: DeprecationWarning: Call to deprecated method task. (Use TaskLogger.log_task instead) -- Deprecated since version 1.1.0.\n",
      "  with _logger.task(\"graph and diffusion operator\"):\n"
     ]
    },
    {
     "name": "stdout",
     "output_type": "stream",
     "text": [
      "  Running MAGIC with `solver='exact'` on 25453-dimensional data may take a long time. Consider denoising specific genes with `genes=<list-like>` or using `solver='approximate'`.\n"
     ]
    },
    {
     "name": "stderr",
     "output_type": "stream",
     "text": [
      "C:\\Users\\gugli\\AppData\\Roaming\\Python\\Python310\\site-packages\\magic\\magic.py:586: DeprecationWarning: Call to deprecated method warning. (Use TaskLogger.log_warning instead) -- Deprecated since version 1.1.0.\n",
      "  _logger.warning(\n",
      "C:\\Users\\gugli\\AppData\\Roaming\\Python\\Python310\\site-packages\\magic\\magic.py:748: DeprecationWarning: Call to deprecated method task. (Use TaskLogger.log_task instead) -- Deprecated since version 1.1.0.\n",
      "  with _logger.task(\"imputation\"):\n",
      "C:\\Users\\gugli\\AppData\\Roaming\\Python\\Python310\\site-packages\\magic\\magic.py:650: DeprecationWarning: Call to deprecated method task. (Use TaskLogger.log_task instead) -- Deprecated since version 1.1.0.\n",
      "  with _logger.task(\"MAGIC\"):\n",
      "C:\\Users\\gugli\\AppData\\Roaming\\Python\\Python310\\site-packages\\magic\\magic.py:381: DeprecationWarning: Call to deprecated method info. (Use TaskLogger.log_info instead) -- Deprecated since version 1.1.0.\n",
      "  _logger.info(\n",
      "C:\\Users\\gugli\\AppData\\Roaming\\Python\\Python310\\site-packages\\magic\\magic.py:436: DeprecationWarning: Call to deprecated method task. (Use TaskLogger.log_task instead) -- Deprecated since version 1.1.0.\n",
      "  with _logger.task(\"graph and diffusion operator\"):\n"
     ]
    },
    {
     "name": "stdout",
     "output_type": "stream",
     "text": [
      "  Running MAGIC with `solver='exact'` on 25453-dimensional data may take a long time. Consider denoising specific genes with `genes=<list-like>` or using `solver='approximate'`.\n"
     ]
    },
    {
     "name": "stderr",
     "output_type": "stream",
     "text": [
      "C:\\Users\\gugli\\AppData\\Roaming\\Python\\Python310\\site-packages\\magic\\magic.py:586: DeprecationWarning: Call to deprecated method warning. (Use TaskLogger.log_warning instead) -- Deprecated since version 1.1.0.\n",
      "  _logger.warning(\n",
      "C:\\Users\\gugli\\AppData\\Roaming\\Python\\Python310\\site-packages\\magic\\magic.py:748: DeprecationWarning: Call to deprecated method task. (Use TaskLogger.log_task instead) -- Deprecated since version 1.1.0.\n",
      "  with _logger.task(\"imputation\"):\n",
      "C:\\Users\\gugli\\AppData\\Roaming\\Python\\Python310\\site-packages\\magic\\magic.py:650: DeprecationWarning: Call to deprecated method task. (Use TaskLogger.log_task instead) -- Deprecated since version 1.1.0.\n",
      "  with _logger.task(\"MAGIC\"):\n",
      "C:\\Users\\gugli\\AppData\\Roaming\\Python\\Python310\\site-packages\\magic\\magic.py:381: DeprecationWarning: Call to deprecated method info. (Use TaskLogger.log_info instead) -- Deprecated since version 1.1.0.\n",
      "  _logger.info(\n",
      "C:\\Users\\gugli\\AppData\\Roaming\\Python\\Python310\\site-packages\\magic\\magic.py:436: DeprecationWarning: Call to deprecated method task. (Use TaskLogger.log_task instead) -- Deprecated since version 1.1.0.\n",
      "  with _logger.task(\"graph and diffusion operator\"):\n"
     ]
    },
    {
     "name": "stdout",
     "output_type": "stream",
     "text": [
      "  Running MAGIC with `solver='exact'` on 25453-dimensional data may take a long time. Consider denoising specific genes with `genes=<list-like>` or using `solver='approximate'`.\n"
     ]
    },
    {
     "name": "stderr",
     "output_type": "stream",
     "text": [
      "C:\\Users\\gugli\\AppData\\Roaming\\Python\\Python310\\site-packages\\magic\\magic.py:586: DeprecationWarning: Call to deprecated method warning. (Use TaskLogger.log_warning instead) -- Deprecated since version 1.1.0.\n",
      "  _logger.warning(\n",
      "C:\\Users\\gugli\\AppData\\Roaming\\Python\\Python310\\site-packages\\magic\\magic.py:748: DeprecationWarning: Call to deprecated method task. (Use TaskLogger.log_task instead) -- Deprecated since version 1.1.0.\n",
      "  with _logger.task(\"imputation\"):\n",
      "C:\\Users\\gugli\\AppData\\Roaming\\Python\\Python310\\site-packages\\magic\\magic.py:650: DeprecationWarning: Call to deprecated method task. (Use TaskLogger.log_task instead) -- Deprecated since version 1.1.0.\n",
      "  with _logger.task(\"MAGIC\"):\n",
      "C:\\Users\\gugli\\AppData\\Roaming\\Python\\Python310\\site-packages\\magic\\magic.py:381: DeprecationWarning: Call to deprecated method info. (Use TaskLogger.log_info instead) -- Deprecated since version 1.1.0.\n",
      "  _logger.info(\n",
      "C:\\Users\\gugli\\AppData\\Roaming\\Python\\Python310\\site-packages\\magic\\magic.py:436: DeprecationWarning: Call to deprecated method task. (Use TaskLogger.log_task instead) -- Deprecated since version 1.1.0.\n",
      "  with _logger.task(\"graph and diffusion operator\"):\n"
     ]
    },
    {
     "name": "stdout",
     "output_type": "stream",
     "text": [
      "  Running MAGIC with `solver='exact'` on 25453-dimensional data may take a long time. Consider denoising specific genes with `genes=<list-like>` or using `solver='approximate'`.\n"
     ]
    },
    {
     "name": "stderr",
     "output_type": "stream",
     "text": [
      "C:\\Users\\gugli\\AppData\\Roaming\\Python\\Python310\\site-packages\\magic\\magic.py:586: DeprecationWarning: Call to deprecated method warning. (Use TaskLogger.log_warning instead) -- Deprecated since version 1.1.0.\n",
      "  _logger.warning(\n",
      "C:\\Users\\gugli\\AppData\\Roaming\\Python\\Python310\\site-packages\\magic\\magic.py:748: DeprecationWarning: Call to deprecated method task. (Use TaskLogger.log_task instead) -- Deprecated since version 1.1.0.\n",
      "  with _logger.task(\"imputation\"):\n",
      "C:\\Users\\gugli\\AppData\\Roaming\\Python\\Python310\\site-packages\\magic\\magic.py:650: DeprecationWarning: Call to deprecated method task. (Use TaskLogger.log_task instead) -- Deprecated since version 1.1.0.\n",
      "  with _logger.task(\"MAGIC\"):\n",
      "C:\\Users\\gugli\\AppData\\Roaming\\Python\\Python310\\site-packages\\magic\\magic.py:381: DeprecationWarning: Call to deprecated method info. (Use TaskLogger.log_info instead) -- Deprecated since version 1.1.0.\n",
      "  _logger.info(\n",
      "C:\\Users\\gugli\\AppData\\Roaming\\Python\\Python310\\site-packages\\magic\\magic.py:436: DeprecationWarning: Call to deprecated method task. (Use TaskLogger.log_task instead) -- Deprecated since version 1.1.0.\n",
      "  with _logger.task(\"graph and diffusion operator\"):\n"
     ]
    },
    {
     "name": "stdout",
     "output_type": "stream",
     "text": [
      "  Running MAGIC with `solver='exact'` on 25453-dimensional data may take a long time. Consider denoising specific genes with `genes=<list-like>` or using `solver='approximate'`.\n"
     ]
    },
    {
     "name": "stderr",
     "output_type": "stream",
     "text": [
      "C:\\Users\\gugli\\AppData\\Roaming\\Python\\Python310\\site-packages\\magic\\magic.py:586: DeprecationWarning: Call to deprecated method warning. (Use TaskLogger.log_warning instead) -- Deprecated since version 1.1.0.\n",
      "  _logger.warning(\n",
      "C:\\Users\\gugli\\AppData\\Roaming\\Python\\Python310\\site-packages\\magic\\magic.py:748: DeprecationWarning: Call to deprecated method task. (Use TaskLogger.log_task instead) -- Deprecated since version 1.1.0.\n",
      "  with _logger.task(\"imputation\"):\n",
      "C:\\Users\\gugli\\AppData\\Roaming\\Python\\Python310\\site-packages\\magic\\magic.py:650: DeprecationWarning: Call to deprecated method task. (Use TaskLogger.log_task instead) -- Deprecated since version 1.1.0.\n",
      "  with _logger.task(\"MAGIC\"):\n",
      "C:\\Users\\gugli\\AppData\\Roaming\\Python\\Python310\\site-packages\\magic\\magic.py:381: DeprecationWarning: Call to deprecated method info. (Use TaskLogger.log_info instead) -- Deprecated since version 1.1.0.\n",
      "  _logger.info(\n",
      "C:\\Users\\gugli\\AppData\\Roaming\\Python\\Python310\\site-packages\\magic\\magic.py:436: DeprecationWarning: Call to deprecated method task. (Use TaskLogger.log_task instead) -- Deprecated since version 1.1.0.\n",
      "  with _logger.task(\"graph and diffusion operator\"):\n"
     ]
    },
    {
     "name": "stdout",
     "output_type": "stream",
     "text": [
      "  Running MAGIC with `solver='exact'` on 25453-dimensional data may take a long time. Consider denoising specific genes with `genes=<list-like>` or using `solver='approximate'`.\n"
     ]
    },
    {
     "name": "stderr",
     "output_type": "stream",
     "text": [
      "C:\\Users\\gugli\\AppData\\Roaming\\Python\\Python310\\site-packages\\magic\\magic.py:586: DeprecationWarning: Call to deprecated method warning. (Use TaskLogger.log_warning instead) -- Deprecated since version 1.1.0.\n",
      "  _logger.warning(\n",
      "C:\\Users\\gugli\\AppData\\Roaming\\Python\\Python310\\site-packages\\magic\\magic.py:748: DeprecationWarning: Call to deprecated method task. (Use TaskLogger.log_task instead) -- Deprecated since version 1.1.0.\n",
      "  with _logger.task(\"imputation\"):\n",
      "C:\\Users\\gugli\\AppData\\Roaming\\Python\\Python310\\site-packages\\magic\\magic.py:650: DeprecationWarning: Call to deprecated method task. (Use TaskLogger.log_task instead) -- Deprecated since version 1.1.0.\n",
      "  with _logger.task(\"MAGIC\"):\n",
      "C:\\Users\\gugli\\AppData\\Roaming\\Python\\Python310\\site-packages\\magic\\magic.py:381: DeprecationWarning: Call to deprecated method info. (Use TaskLogger.log_info instead) -- Deprecated since version 1.1.0.\n",
      "  _logger.info(\n",
      "C:\\Users\\gugli\\AppData\\Roaming\\Python\\Python310\\site-packages\\magic\\magic.py:436: DeprecationWarning: Call to deprecated method task. (Use TaskLogger.log_task instead) -- Deprecated since version 1.1.0.\n",
      "  with _logger.task(\"graph and diffusion operator\"):\n"
     ]
    },
    {
     "name": "stdout",
     "output_type": "stream",
     "text": [
      "  Running MAGIC with `solver='exact'` on 25453-dimensional data may take a long time. Consider denoising specific genes with `genes=<list-like>` or using `solver='approximate'`.\n"
     ]
    },
    {
     "name": "stderr",
     "output_type": "stream",
     "text": [
      "C:\\Users\\gugli\\AppData\\Roaming\\Python\\Python310\\site-packages\\magic\\magic.py:586: DeprecationWarning: Call to deprecated method warning. (Use TaskLogger.log_warning instead) -- Deprecated since version 1.1.0.\n",
      "  _logger.warning(\n",
      "C:\\Users\\gugli\\AppData\\Roaming\\Python\\Python310\\site-packages\\magic\\magic.py:748: DeprecationWarning: Call to deprecated method task. (Use TaskLogger.log_task instead) -- Deprecated since version 1.1.0.\n",
      "  with _logger.task(\"imputation\"):\n",
      "C:\\Users\\gugli\\AppData\\Roaming\\Python\\Python310\\site-packages\\magic\\magic.py:650: DeprecationWarning: Call to deprecated method task. (Use TaskLogger.log_task instead) -- Deprecated since version 1.1.0.\n",
      "  with _logger.task(\"MAGIC\"):\n",
      "C:\\Users\\gugli\\AppData\\Roaming\\Python\\Python310\\site-packages\\magic\\magic.py:381: DeprecationWarning: Call to deprecated method info. (Use TaskLogger.log_info instead) -- Deprecated since version 1.1.0.\n",
      "  _logger.info(\n",
      "C:\\Users\\gugli\\AppData\\Roaming\\Python\\Python310\\site-packages\\magic\\magic.py:436: DeprecationWarning: Call to deprecated method task. (Use TaskLogger.log_task instead) -- Deprecated since version 1.1.0.\n",
      "  with _logger.task(\"graph and diffusion operator\"):\n"
     ]
    },
    {
     "name": "stdout",
     "output_type": "stream",
     "text": [
      "  Running MAGIC with `solver='exact'` on 25453-dimensional data may take a long time. Consider denoising specific genes with `genes=<list-like>` or using `solver='approximate'`.\n"
     ]
    },
    {
     "name": "stderr",
     "output_type": "stream",
     "text": [
      "C:\\Users\\gugli\\AppData\\Roaming\\Python\\Python310\\site-packages\\magic\\magic.py:586: DeprecationWarning: Call to deprecated method warning. (Use TaskLogger.log_warning instead) -- Deprecated since version 1.1.0.\n",
      "  _logger.warning(\n",
      "C:\\Users\\gugli\\AppData\\Roaming\\Python\\Python310\\site-packages\\magic\\magic.py:748: DeprecationWarning: Call to deprecated method task. (Use TaskLogger.log_task instead) -- Deprecated since version 1.1.0.\n",
      "  with _logger.task(\"imputation\"):\n",
      "C:\\Users\\gugli\\AppData\\Roaming\\Python\\Python310\\site-packages\\magic\\magic.py:650: DeprecationWarning: Call to deprecated method task. (Use TaskLogger.log_task instead) -- Deprecated since version 1.1.0.\n",
      "  with _logger.task(\"MAGIC\"):\n",
      "C:\\Users\\gugli\\AppData\\Roaming\\Python\\Python310\\site-packages\\magic\\magic.py:381: DeprecationWarning: Call to deprecated method info. (Use TaskLogger.log_info instead) -- Deprecated since version 1.1.0.\n",
      "  _logger.info(\n",
      "C:\\Users\\gugli\\AppData\\Roaming\\Python\\Python310\\site-packages\\magic\\magic.py:436: DeprecationWarning: Call to deprecated method task. (Use TaskLogger.log_task instead) -- Deprecated since version 1.1.0.\n",
      "  with _logger.task(\"graph and diffusion operator\"):\n"
     ]
    },
    {
     "name": "stdout",
     "output_type": "stream",
     "text": [
      "  Running MAGIC with `solver='exact'` on 25453-dimensional data may take a long time. Consider denoising specific genes with `genes=<list-like>` or using `solver='approximate'`.\n"
     ]
    },
    {
     "name": "stderr",
     "output_type": "stream",
     "text": [
      "C:\\Users\\gugli\\AppData\\Roaming\\Python\\Python310\\site-packages\\magic\\magic.py:586: DeprecationWarning: Call to deprecated method warning. (Use TaskLogger.log_warning instead) -- Deprecated since version 1.1.0.\n",
      "  _logger.warning(\n",
      "C:\\Users\\gugli\\AppData\\Roaming\\Python\\Python310\\site-packages\\magic\\magic.py:748: DeprecationWarning: Call to deprecated method task. (Use TaskLogger.log_task instead) -- Deprecated since version 1.1.0.\n",
      "  with _logger.task(\"imputation\"):\n",
      "C:\\Users\\gugli\\AppData\\Roaming\\Python\\Python310\\site-packages\\magic\\magic.py:650: DeprecationWarning: Call to deprecated method task. (Use TaskLogger.log_task instead) -- Deprecated since version 1.1.0.\n",
      "  with _logger.task(\"MAGIC\"):\n",
      "C:\\Users\\gugli\\AppData\\Roaming\\Python\\Python310\\site-packages\\magic\\magic.py:381: DeprecationWarning: Call to deprecated method info. (Use TaskLogger.log_info instead) -- Deprecated since version 1.1.0.\n",
      "  _logger.info(\n",
      "C:\\Users\\gugli\\AppData\\Roaming\\Python\\Python310\\site-packages\\magic\\magic.py:436: DeprecationWarning: Call to deprecated method task. (Use TaskLogger.log_task instead) -- Deprecated since version 1.1.0.\n",
      "  with _logger.task(\"graph and diffusion operator\"):\n"
     ]
    },
    {
     "name": "stdout",
     "output_type": "stream",
     "text": [
      "  Running MAGIC with `solver='exact'` on 25453-dimensional data may take a long time. Consider denoising specific genes with `genes=<list-like>` or using `solver='approximate'`.\n"
     ]
    },
    {
     "name": "stderr",
     "output_type": "stream",
     "text": [
      "C:\\Users\\gugli\\AppData\\Roaming\\Python\\Python310\\site-packages\\magic\\magic.py:586: DeprecationWarning: Call to deprecated method warning. (Use TaskLogger.log_warning instead) -- Deprecated since version 1.1.0.\n",
      "  _logger.warning(\n",
      "C:\\Users\\gugli\\AppData\\Roaming\\Python\\Python310\\site-packages\\magic\\magic.py:748: DeprecationWarning: Call to deprecated method task. (Use TaskLogger.log_task instead) -- Deprecated since version 1.1.0.\n",
      "  with _logger.task(\"imputation\"):\n",
      "C:\\Users\\gugli\\AppData\\Roaming\\Python\\Python310\\site-packages\\magic\\magic.py:650: DeprecationWarning: Call to deprecated method task. (Use TaskLogger.log_task instead) -- Deprecated since version 1.1.0.\n",
      "  with _logger.task(\"MAGIC\"):\n",
      "C:\\Users\\gugli\\AppData\\Roaming\\Python\\Python310\\site-packages\\magic\\magic.py:381: DeprecationWarning: Call to deprecated method info. (Use TaskLogger.log_info instead) -- Deprecated since version 1.1.0.\n",
      "  _logger.info(\n",
      "C:\\Users\\gugli\\AppData\\Roaming\\Python\\Python310\\site-packages\\magic\\magic.py:436: DeprecationWarning: Call to deprecated method task. (Use TaskLogger.log_task instead) -- Deprecated since version 1.1.0.\n",
      "  with _logger.task(\"graph and diffusion operator\"):\n"
     ]
    },
    {
     "name": "stdout",
     "output_type": "stream",
     "text": [
      "  Running MAGIC with `solver='exact'` on 25453-dimensional data may take a long time. Consider denoising specific genes with `genes=<list-like>` or using `solver='approximate'`.\n"
     ]
    },
    {
     "name": "stderr",
     "output_type": "stream",
     "text": [
      "C:\\Users\\gugli\\AppData\\Roaming\\Python\\Python310\\site-packages\\magic\\magic.py:586: DeprecationWarning: Call to deprecated method warning. (Use TaskLogger.log_warning instead) -- Deprecated since version 1.1.0.\n",
      "  _logger.warning(\n",
      "C:\\Users\\gugli\\AppData\\Roaming\\Python\\Python310\\site-packages\\magic\\magic.py:748: DeprecationWarning: Call to deprecated method task. (Use TaskLogger.log_task instead) -- Deprecated since version 1.1.0.\n",
      "  with _logger.task(\"imputation\"):\n",
      "C:\\Users\\gugli\\AppData\\Roaming\\Python\\Python310\\site-packages\\magic\\magic.py:650: DeprecationWarning: Call to deprecated method task. (Use TaskLogger.log_task instead) -- Deprecated since version 1.1.0.\n",
      "  with _logger.task(\"MAGIC\"):\n",
      "C:\\Users\\gugli\\AppData\\Roaming\\Python\\Python310\\site-packages\\magic\\magic.py:381: DeprecationWarning: Call to deprecated method info. (Use TaskLogger.log_info instead) -- Deprecated since version 1.1.0.\n",
      "  _logger.info(\n",
      "C:\\Users\\gugli\\AppData\\Roaming\\Python\\Python310\\site-packages\\magic\\magic.py:436: DeprecationWarning: Call to deprecated method task. (Use TaskLogger.log_task instead) -- Deprecated since version 1.1.0.\n",
      "  with _logger.task(\"graph and diffusion operator\"):\n"
     ]
    },
    {
     "name": "stdout",
     "output_type": "stream",
     "text": [
      "  Running MAGIC with `solver='exact'` on 25453-dimensional data may take a long time. Consider denoising specific genes with `genes=<list-like>` or using `solver='approximate'`.\n"
     ]
    },
    {
     "name": "stderr",
     "output_type": "stream",
     "text": [
      "C:\\Users\\gugli\\AppData\\Roaming\\Python\\Python310\\site-packages\\magic\\magic.py:586: DeprecationWarning: Call to deprecated method warning. (Use TaskLogger.log_warning instead) -- Deprecated since version 1.1.0.\n",
      "  _logger.warning(\n",
      "C:\\Users\\gugli\\AppData\\Roaming\\Python\\Python310\\site-packages\\magic\\magic.py:748: DeprecationWarning: Call to deprecated method task. (Use TaskLogger.log_task instead) -- Deprecated since version 1.1.0.\n",
      "  with _logger.task(\"imputation\"):\n",
      "C:\\Users\\gugli\\AppData\\Roaming\\Python\\Python310\\site-packages\\magic\\magic.py:650: DeprecationWarning: Call to deprecated method task. (Use TaskLogger.log_task instead) -- Deprecated since version 1.1.0.\n",
      "  with _logger.task(\"MAGIC\"):\n",
      "C:\\Users\\gugli\\AppData\\Roaming\\Python\\Python310\\site-packages\\magic\\magic.py:381: DeprecationWarning: Call to deprecated method info. (Use TaskLogger.log_info instead) -- Deprecated since version 1.1.0.\n",
      "  _logger.info(\n",
      "C:\\Users\\gugli\\AppData\\Roaming\\Python\\Python310\\site-packages\\magic\\magic.py:436: DeprecationWarning: Call to deprecated method task. (Use TaskLogger.log_task instead) -- Deprecated since version 1.1.0.\n",
      "  with _logger.task(\"graph and diffusion operator\"):\n"
     ]
    },
    {
     "name": "stdout",
     "output_type": "stream",
     "text": [
      "  Running MAGIC with `solver='exact'` on 25453-dimensional data may take a long time. Consider denoising specific genes with `genes=<list-like>` or using `solver='approximate'`.\n"
     ]
    },
    {
     "name": "stderr",
     "output_type": "stream",
     "text": [
      "C:\\Users\\gugli\\AppData\\Roaming\\Python\\Python310\\site-packages\\magic\\magic.py:586: DeprecationWarning: Call to deprecated method warning. (Use TaskLogger.log_warning instead) -- Deprecated since version 1.1.0.\n",
      "  _logger.warning(\n",
      "C:\\Users\\gugli\\AppData\\Roaming\\Python\\Python310\\site-packages\\magic\\magic.py:748: DeprecationWarning: Call to deprecated method task. (Use TaskLogger.log_task instead) -- Deprecated since version 1.1.0.\n",
      "  with _logger.task(\"imputation\"):\n",
      "C:\\Users\\gugli\\AppData\\Roaming\\Python\\Python310\\site-packages\\magic\\magic.py:650: DeprecationWarning: Call to deprecated method task. (Use TaskLogger.log_task instead) -- Deprecated since version 1.1.0.\n",
      "  with _logger.task(\"MAGIC\"):\n",
      "C:\\Users\\gugli\\AppData\\Roaming\\Python\\Python310\\site-packages\\magic\\magic.py:381: DeprecationWarning: Call to deprecated method info. (Use TaskLogger.log_info instead) -- Deprecated since version 1.1.0.\n",
      "  _logger.info(\n",
      "C:\\Users\\gugli\\AppData\\Roaming\\Python\\Python310\\site-packages\\magic\\magic.py:436: DeprecationWarning: Call to deprecated method task. (Use TaskLogger.log_task instead) -- Deprecated since version 1.1.0.\n",
      "  with _logger.task(\"graph and diffusion operator\"):\n"
     ]
    },
    {
     "name": "stdout",
     "output_type": "stream",
     "text": [
      "  Running MAGIC with `solver='exact'` on 25453-dimensional data may take a long time. Consider denoising specific genes with `genes=<list-like>` or using `solver='approximate'`.\n"
     ]
    },
    {
     "name": "stderr",
     "output_type": "stream",
     "text": [
      "C:\\Users\\gugli\\AppData\\Roaming\\Python\\Python310\\site-packages\\magic\\magic.py:586: DeprecationWarning: Call to deprecated method warning. (Use TaskLogger.log_warning instead) -- Deprecated since version 1.1.0.\n",
      "  _logger.warning(\n",
      "C:\\Users\\gugli\\AppData\\Roaming\\Python\\Python310\\site-packages\\magic\\magic.py:748: DeprecationWarning: Call to deprecated method task. (Use TaskLogger.log_task instead) -- Deprecated since version 1.1.0.\n",
      "  with _logger.task(\"imputation\"):\n",
      "C:\\Users\\gugli\\AppData\\Roaming\\Python\\Python310\\site-packages\\magic\\magic.py:650: DeprecationWarning: Call to deprecated method task. (Use TaskLogger.log_task instead) -- Deprecated since version 1.1.0.\n",
      "  with _logger.task(\"MAGIC\"):\n",
      "C:\\Users\\gugli\\AppData\\Roaming\\Python\\Python310\\site-packages\\magic\\magic.py:381: DeprecationWarning: Call to deprecated method info. (Use TaskLogger.log_info instead) -- Deprecated since version 1.1.0.\n",
      "  _logger.info(\n",
      "C:\\Users\\gugli\\AppData\\Roaming\\Python\\Python310\\site-packages\\magic\\magic.py:436: DeprecationWarning: Call to deprecated method task. (Use TaskLogger.log_task instead) -- Deprecated since version 1.1.0.\n",
      "  with _logger.task(\"graph and diffusion operator\"):\n"
     ]
    },
    {
     "name": "stdout",
     "output_type": "stream",
     "text": [
      "  Running MAGIC with `solver='exact'` on 25453-dimensional data may take a long time. Consider denoising specific genes with `genes=<list-like>` or using `solver='approximate'`.\n"
     ]
    },
    {
     "name": "stderr",
     "output_type": "stream",
     "text": [
      "C:\\Users\\gugli\\AppData\\Roaming\\Python\\Python310\\site-packages\\magic\\magic.py:586: DeprecationWarning: Call to deprecated method warning. (Use TaskLogger.log_warning instead) -- Deprecated since version 1.1.0.\n",
      "  _logger.warning(\n",
      "C:\\Users\\gugli\\AppData\\Roaming\\Python\\Python310\\site-packages\\magic\\magic.py:748: DeprecationWarning: Call to deprecated method task. (Use TaskLogger.log_task instead) -- Deprecated since version 1.1.0.\n",
      "  with _logger.task(\"imputation\"):\n",
      "C:\\Users\\gugli\\AppData\\Roaming\\Python\\Python310\\site-packages\\magic\\magic.py:650: DeprecationWarning: Call to deprecated method task. (Use TaskLogger.log_task instead) -- Deprecated since version 1.1.0.\n",
      "  with _logger.task(\"MAGIC\"):\n",
      "C:\\Users\\gugli\\AppData\\Roaming\\Python\\Python310\\site-packages\\magic\\magic.py:381: DeprecationWarning: Call to deprecated method info. (Use TaskLogger.log_info instead) -- Deprecated since version 1.1.0.\n",
      "  _logger.info(\n",
      "C:\\Users\\gugli\\AppData\\Roaming\\Python\\Python310\\site-packages\\magic\\magic.py:436: DeprecationWarning: Call to deprecated method task. (Use TaskLogger.log_task instead) -- Deprecated since version 1.1.0.\n",
      "  with _logger.task(\"graph and diffusion operator\"):\n"
     ]
    },
    {
     "name": "stdout",
     "output_type": "stream",
     "text": [
      "  Running MAGIC with `solver='exact'` on 25453-dimensional data may take a long time. Consider denoising specific genes with `genes=<list-like>` or using `solver='approximate'`.\n"
     ]
    },
    {
     "name": "stderr",
     "output_type": "stream",
     "text": [
      "C:\\Users\\gugli\\AppData\\Roaming\\Python\\Python310\\site-packages\\magic\\magic.py:586: DeprecationWarning: Call to deprecated method warning. (Use TaskLogger.log_warning instead) -- Deprecated since version 1.1.0.\n",
      "  _logger.warning(\n",
      "C:\\Users\\gugli\\AppData\\Roaming\\Python\\Python310\\site-packages\\magic\\magic.py:748: DeprecationWarning: Call to deprecated method task. (Use TaskLogger.log_task instead) -- Deprecated since version 1.1.0.\n",
      "  with _logger.task(\"imputation\"):\n",
      "C:\\Users\\gugli\\AppData\\Roaming\\Python\\Python310\\site-packages\\magic\\magic.py:650: DeprecationWarning: Call to deprecated method task. (Use TaskLogger.log_task instead) -- Deprecated since version 1.1.0.\n",
      "  with _logger.task(\"MAGIC\"):\n",
      "C:\\Users\\gugli\\AppData\\Roaming\\Python\\Python310\\site-packages\\magic\\magic.py:381: DeprecationWarning: Call to deprecated method info. (Use TaskLogger.log_info instead) -- Deprecated since version 1.1.0.\n",
      "  _logger.info(\n",
      "C:\\Users\\gugli\\AppData\\Roaming\\Python\\Python310\\site-packages\\magic\\magic.py:436: DeprecationWarning: Call to deprecated method task. (Use TaskLogger.log_task instead) -- Deprecated since version 1.1.0.\n",
      "  with _logger.task(\"graph and diffusion operator\"):\n"
     ]
    },
    {
     "name": "stdout",
     "output_type": "stream",
     "text": [
      "  Running MAGIC with `solver='exact'` on 25453-dimensional data may take a long time. Consider denoising specific genes with `genes=<list-like>` or using `solver='approximate'`.\n"
     ]
    },
    {
     "name": "stderr",
     "output_type": "stream",
     "text": [
      "C:\\Users\\gugli\\AppData\\Roaming\\Python\\Python310\\site-packages\\magic\\magic.py:586: DeprecationWarning: Call to deprecated method warning. (Use TaskLogger.log_warning instead) -- Deprecated since version 1.1.0.\n",
      "  _logger.warning(\n",
      "C:\\Users\\gugli\\AppData\\Roaming\\Python\\Python310\\site-packages\\magic\\magic.py:748: DeprecationWarning: Call to deprecated method task. (Use TaskLogger.log_task instead) -- Deprecated since version 1.1.0.\n",
      "  with _logger.task(\"imputation\"):\n",
      "C:\\Users\\gugli\\AppData\\Roaming\\Python\\Python310\\site-packages\\magic\\magic.py:650: DeprecationWarning: Call to deprecated method task. (Use TaskLogger.log_task instead) -- Deprecated since version 1.1.0.\n",
      "  with _logger.task(\"MAGIC\"):\n",
      "C:\\Users\\gugli\\AppData\\Roaming\\Python\\Python310\\site-packages\\magic\\magic.py:381: DeprecationWarning: Call to deprecated method info. (Use TaskLogger.log_info instead) -- Deprecated since version 1.1.0.\n",
      "  _logger.info(\n",
      "C:\\Users\\gugli\\AppData\\Roaming\\Python\\Python310\\site-packages\\magic\\magic.py:436: DeprecationWarning: Call to deprecated method task. (Use TaskLogger.log_task instead) -- Deprecated since version 1.1.0.\n",
      "  with _logger.task(\"graph and diffusion operator\"):\n"
     ]
    },
    {
     "name": "stdout",
     "output_type": "stream",
     "text": [
      "  Running MAGIC with `solver='exact'` on 25453-dimensional data may take a long time. Consider denoising specific genes with `genes=<list-like>` or using `solver='approximate'`.\n"
     ]
    },
    {
     "name": "stderr",
     "output_type": "stream",
     "text": [
      "C:\\Users\\gugli\\AppData\\Roaming\\Python\\Python310\\site-packages\\magic\\magic.py:586: DeprecationWarning: Call to deprecated method warning. (Use TaskLogger.log_warning instead) -- Deprecated since version 1.1.0.\n",
      "  _logger.warning(\n",
      "C:\\Users\\gugli\\AppData\\Roaming\\Python\\Python310\\site-packages\\magic\\magic.py:748: DeprecationWarning: Call to deprecated method task. (Use TaskLogger.log_task instead) -- Deprecated since version 1.1.0.\n",
      "  with _logger.task(\"imputation\"):\n",
      "C:\\Users\\gugli\\AppData\\Roaming\\Python\\Python310\\site-packages\\magic\\magic.py:650: DeprecationWarning: Call to deprecated method task. (Use TaskLogger.log_task instead) -- Deprecated since version 1.1.0.\n",
      "  with _logger.task(\"MAGIC\"):\n",
      "C:\\Users\\gugli\\AppData\\Roaming\\Python\\Python310\\site-packages\\magic\\magic.py:381: DeprecationWarning: Call to deprecated method info. (Use TaskLogger.log_info instead) -- Deprecated since version 1.1.0.\n",
      "  _logger.info(\n",
      "C:\\Users\\gugli\\AppData\\Roaming\\Python\\Python310\\site-packages\\magic\\magic.py:436: DeprecationWarning: Call to deprecated method task. (Use TaskLogger.log_task instead) -- Deprecated since version 1.1.0.\n",
      "  with _logger.task(\"graph and diffusion operator\"):\n"
     ]
    },
    {
     "name": "stdout",
     "output_type": "stream",
     "text": [
      "  Running MAGIC with `solver='exact'` on 25453-dimensional data may take a long time. Consider denoising specific genes with `genes=<list-like>` or using `solver='approximate'`.\n"
     ]
    },
    {
     "name": "stderr",
     "output_type": "stream",
     "text": [
      "C:\\Users\\gugli\\AppData\\Roaming\\Python\\Python310\\site-packages\\magic\\magic.py:586: DeprecationWarning: Call to deprecated method warning. (Use TaskLogger.log_warning instead) -- Deprecated since version 1.1.0.\n",
      "  _logger.warning(\n",
      "C:\\Users\\gugli\\AppData\\Roaming\\Python\\Python310\\site-packages\\magic\\magic.py:748: DeprecationWarning: Call to deprecated method task. (Use TaskLogger.log_task instead) -- Deprecated since version 1.1.0.\n",
      "  with _logger.task(\"imputation\"):\n",
      "C:\\Users\\gugli\\AppData\\Roaming\\Python\\Python310\\site-packages\\magic\\magic.py:650: DeprecationWarning: Call to deprecated method task. (Use TaskLogger.log_task instead) -- Deprecated since version 1.1.0.\n",
      "  with _logger.task(\"MAGIC\"):\n",
      "C:\\Users\\gugli\\AppData\\Roaming\\Python\\Python310\\site-packages\\magic\\magic.py:381: DeprecationWarning: Call to deprecated method info. (Use TaskLogger.log_info instead) -- Deprecated since version 1.1.0.\n",
      "  _logger.info(\n",
      "C:\\Users\\gugli\\AppData\\Roaming\\Python\\Python310\\site-packages\\magic\\magic.py:436: DeprecationWarning: Call to deprecated method task. (Use TaskLogger.log_task instead) -- Deprecated since version 1.1.0.\n",
      "  with _logger.task(\"graph and diffusion operator\"):\n"
     ]
    },
    {
     "name": "stdout",
     "output_type": "stream",
     "text": [
      "  Running MAGIC with `solver='exact'` on 25453-dimensional data may take a long time. Consider denoising specific genes with `genes=<list-like>` or using `solver='approximate'`.\n"
     ]
    },
    {
     "name": "stderr",
     "output_type": "stream",
     "text": [
      "C:\\Users\\gugli\\AppData\\Roaming\\Python\\Python310\\site-packages\\magic\\magic.py:586: DeprecationWarning: Call to deprecated method warning. (Use TaskLogger.log_warning instead) -- Deprecated since version 1.1.0.\n",
      "  _logger.warning(\n",
      "C:\\Users\\gugli\\AppData\\Roaming\\Python\\Python310\\site-packages\\magic\\magic.py:748: DeprecationWarning: Call to deprecated method task. (Use TaskLogger.log_task instead) -- Deprecated since version 1.1.0.\n",
      "  with _logger.task(\"imputation\"):\n",
      "C:\\Users\\gugli\\AppData\\Roaming\\Python\\Python310\\site-packages\\magic\\magic.py:650: DeprecationWarning: Call to deprecated method task. (Use TaskLogger.log_task instead) -- Deprecated since version 1.1.0.\n",
      "  with _logger.task(\"MAGIC\"):\n",
      "C:\\Users\\gugli\\AppData\\Roaming\\Python\\Python310\\site-packages\\magic\\magic.py:381: DeprecationWarning: Call to deprecated method info. (Use TaskLogger.log_info instead) -- Deprecated since version 1.1.0.\n",
      "  _logger.info(\n",
      "C:\\Users\\gugli\\AppData\\Roaming\\Python\\Python310\\site-packages\\magic\\magic.py:436: DeprecationWarning: Call to deprecated method task. (Use TaskLogger.log_task instead) -- Deprecated since version 1.1.0.\n",
      "  with _logger.task(\"graph and diffusion operator\"):\n"
     ]
    },
    {
     "name": "stdout",
     "output_type": "stream",
     "text": [
      "  Running MAGIC with `solver='exact'` on 25453-dimensional data may take a long time. Consider denoising specific genes with `genes=<list-like>` or using `solver='approximate'`.\n"
     ]
    },
    {
     "name": "stderr",
     "output_type": "stream",
     "text": [
      "C:\\Users\\gugli\\AppData\\Roaming\\Python\\Python310\\site-packages\\magic\\magic.py:586: DeprecationWarning: Call to deprecated method warning. (Use TaskLogger.log_warning instead) -- Deprecated since version 1.1.0.\n",
      "  _logger.warning(\n",
      "C:\\Users\\gugli\\AppData\\Roaming\\Python\\Python310\\site-packages\\magic\\magic.py:748: DeprecationWarning: Call to deprecated method task. (Use TaskLogger.log_task instead) -- Deprecated since version 1.1.0.\n",
      "  with _logger.task(\"imputation\"):\n",
      "C:\\Users\\gugli\\AppData\\Roaming\\Python\\Python310\\site-packages\\magic\\magic.py:650: DeprecationWarning: Call to deprecated method task. (Use TaskLogger.log_task instead) -- Deprecated since version 1.1.0.\n",
      "  with _logger.task(\"MAGIC\"):\n",
      "C:\\Users\\gugli\\AppData\\Roaming\\Python\\Python310\\site-packages\\magic\\magic.py:381: DeprecationWarning: Call to deprecated method info. (Use TaskLogger.log_info instead) -- Deprecated since version 1.1.0.\n",
      "  _logger.info(\n",
      "C:\\Users\\gugli\\AppData\\Roaming\\Python\\Python310\\site-packages\\magic\\magic.py:436: DeprecationWarning: Call to deprecated method task. (Use TaskLogger.log_task instead) -- Deprecated since version 1.1.0.\n",
      "  with _logger.task(\"graph and diffusion operator\"):\n"
     ]
    },
    {
     "name": "stdout",
     "output_type": "stream",
     "text": [
      "  Running MAGIC with `solver='exact'` on 25453-dimensional data may take a long time. Consider denoising specific genes with `genes=<list-like>` or using `solver='approximate'`.\n"
     ]
    },
    {
     "name": "stderr",
     "output_type": "stream",
     "text": [
      "C:\\Users\\gugli\\AppData\\Roaming\\Python\\Python310\\site-packages\\magic\\magic.py:586: DeprecationWarning: Call to deprecated method warning. (Use TaskLogger.log_warning instead) -- Deprecated since version 1.1.0.\n",
      "  _logger.warning(\n",
      "C:\\Users\\gugli\\AppData\\Roaming\\Python\\Python310\\site-packages\\magic\\magic.py:748: DeprecationWarning: Call to deprecated method task. (Use TaskLogger.log_task instead) -- Deprecated since version 1.1.0.\n",
      "  with _logger.task(\"imputation\"):\n",
      "C:\\Users\\gugli\\AppData\\Roaming\\Python\\Python310\\site-packages\\magic\\magic.py:650: DeprecationWarning: Call to deprecated method task. (Use TaskLogger.log_task instead) -- Deprecated since version 1.1.0.\n",
      "  with _logger.task(\"MAGIC\"):\n",
      "C:\\Users\\gugli\\AppData\\Roaming\\Python\\Python310\\site-packages\\magic\\magic.py:381: DeprecationWarning: Call to deprecated method info. (Use TaskLogger.log_info instead) -- Deprecated since version 1.1.0.\n",
      "  _logger.info(\n",
      "C:\\Users\\gugli\\AppData\\Roaming\\Python\\Python310\\site-packages\\magic\\magic.py:436: DeprecationWarning: Call to deprecated method task. (Use TaskLogger.log_task instead) -- Deprecated since version 1.1.0.\n",
      "  with _logger.task(\"graph and diffusion operator\"):\n"
     ]
    },
    {
     "name": "stdout",
     "output_type": "stream",
     "text": [
      "  Running MAGIC with `solver='exact'` on 25453-dimensional data may take a long time. Consider denoising specific genes with `genes=<list-like>` or using `solver='approximate'`.\n"
     ]
    },
    {
     "name": "stderr",
     "output_type": "stream",
     "text": [
      "C:\\Users\\gugli\\AppData\\Roaming\\Python\\Python310\\site-packages\\magic\\magic.py:586: DeprecationWarning: Call to deprecated method warning. (Use TaskLogger.log_warning instead) -- Deprecated since version 1.1.0.\n",
      "  _logger.warning(\n",
      "C:\\Users\\gugli\\AppData\\Roaming\\Python\\Python310\\site-packages\\magic\\magic.py:748: DeprecationWarning: Call to deprecated method task. (Use TaskLogger.log_task instead) -- Deprecated since version 1.1.0.\n",
      "  with _logger.task(\"imputation\"):\n",
      "C:\\Users\\gugli\\AppData\\Roaming\\Python\\Python310\\site-packages\\magic\\magic.py:650: DeprecationWarning: Call to deprecated method task. (Use TaskLogger.log_task instead) -- Deprecated since version 1.1.0.\n",
      "  with _logger.task(\"MAGIC\"):\n",
      "C:\\Users\\gugli\\AppData\\Roaming\\Python\\Python310\\site-packages\\magic\\magic.py:381: DeprecationWarning: Call to deprecated method info. (Use TaskLogger.log_info instead) -- Deprecated since version 1.1.0.\n",
      "  _logger.info(\n",
      "C:\\Users\\gugli\\AppData\\Roaming\\Python\\Python310\\site-packages\\magic\\magic.py:436: DeprecationWarning: Call to deprecated method task. (Use TaskLogger.log_task instead) -- Deprecated since version 1.1.0.\n",
      "  with _logger.task(\"graph and diffusion operator\"):\n"
     ]
    },
    {
     "name": "stdout",
     "output_type": "stream",
     "text": [
      "  Running MAGIC with `solver='exact'` on 25453-dimensional data may take a long time. Consider denoising specific genes with `genes=<list-like>` or using `solver='approximate'`.\n"
     ]
    },
    {
     "name": "stderr",
     "output_type": "stream",
     "text": [
      "C:\\Users\\gugli\\AppData\\Roaming\\Python\\Python310\\site-packages\\magic\\magic.py:586: DeprecationWarning: Call to deprecated method warning. (Use TaskLogger.log_warning instead) -- Deprecated since version 1.1.0.\n",
      "  _logger.warning(\n",
      "C:\\Users\\gugli\\AppData\\Roaming\\Python\\Python310\\site-packages\\magic\\magic.py:748: DeprecationWarning: Call to deprecated method task. (Use TaskLogger.log_task instead) -- Deprecated since version 1.1.0.\n",
      "  with _logger.task(\"imputation\"):\n",
      "C:\\Users\\gugli\\AppData\\Roaming\\Python\\Python310\\site-packages\\magic\\magic.py:650: DeprecationWarning: Call to deprecated method task. (Use TaskLogger.log_task instead) -- Deprecated since version 1.1.0.\n",
      "  with _logger.task(\"MAGIC\"):\n",
      "C:\\Users\\gugli\\AppData\\Roaming\\Python\\Python310\\site-packages\\magic\\magic.py:381: DeprecationWarning: Call to deprecated method info. (Use TaskLogger.log_info instead) -- Deprecated since version 1.1.0.\n",
      "  _logger.info(\n",
      "C:\\Users\\gugli\\AppData\\Roaming\\Python\\Python310\\site-packages\\magic\\magic.py:436: DeprecationWarning: Call to deprecated method task. (Use TaskLogger.log_task instead) -- Deprecated since version 1.1.0.\n",
      "  with _logger.task(\"graph and diffusion operator\"):\n"
     ]
    },
    {
     "name": "stdout",
     "output_type": "stream",
     "text": [
      "  Running MAGIC with `solver='exact'` on 25453-dimensional data may take a long time. Consider denoising specific genes with `genes=<list-like>` or using `solver='approximate'`.\n"
     ]
    },
    {
     "name": "stderr",
     "output_type": "stream",
     "text": [
      "C:\\Users\\gugli\\AppData\\Roaming\\Python\\Python310\\site-packages\\magic\\magic.py:586: DeprecationWarning: Call to deprecated method warning. (Use TaskLogger.log_warning instead) -- Deprecated since version 1.1.0.\n",
      "  _logger.warning(\n",
      "C:\\Users\\gugli\\AppData\\Roaming\\Python\\Python310\\site-packages\\magic\\magic.py:748: DeprecationWarning: Call to deprecated method task. (Use TaskLogger.log_task instead) -- Deprecated since version 1.1.0.\n",
      "  with _logger.task(\"imputation\"):\n",
      "C:\\Users\\gugli\\AppData\\Roaming\\Python\\Python310\\site-packages\\magic\\magic.py:650: DeprecationWarning: Call to deprecated method task. (Use TaskLogger.log_task instead) -- Deprecated since version 1.1.0.\n",
      "  with _logger.task(\"MAGIC\"):\n",
      "C:\\Users\\gugli\\AppData\\Roaming\\Python\\Python310\\site-packages\\magic\\magic.py:381: DeprecationWarning: Call to deprecated method info. (Use TaskLogger.log_info instead) -- Deprecated since version 1.1.0.\n",
      "  _logger.info(\n",
      "C:\\Users\\gugli\\AppData\\Roaming\\Python\\Python310\\site-packages\\magic\\magic.py:436: DeprecationWarning: Call to deprecated method task. (Use TaskLogger.log_task instead) -- Deprecated since version 1.1.0.\n",
      "  with _logger.task(\"graph and diffusion operator\"):\n"
     ]
    },
    {
     "name": "stdout",
     "output_type": "stream",
     "text": [
      "  Running MAGIC with `solver='exact'` on 25453-dimensional data may take a long time. Consider denoising specific genes with `genes=<list-like>` or using `solver='approximate'`.\n"
     ]
    },
    {
     "name": "stderr",
     "output_type": "stream",
     "text": [
      "C:\\Users\\gugli\\AppData\\Roaming\\Python\\Python310\\site-packages\\magic\\magic.py:586: DeprecationWarning: Call to deprecated method warning. (Use TaskLogger.log_warning instead) -- Deprecated since version 1.1.0.\n",
      "  _logger.warning(\n",
      "C:\\Users\\gugli\\AppData\\Roaming\\Python\\Python310\\site-packages\\magic\\magic.py:748: DeprecationWarning: Call to deprecated method task. (Use TaskLogger.log_task instead) -- Deprecated since version 1.1.0.\n",
      "  with _logger.task(\"imputation\"):\n",
      "C:\\Users\\gugli\\AppData\\Roaming\\Python\\Python310\\site-packages\\magic\\magic.py:650: DeprecationWarning: Call to deprecated method task. (Use TaskLogger.log_task instead) -- Deprecated since version 1.1.0.\n",
      "  with _logger.task(\"MAGIC\"):\n",
      "C:\\Users\\gugli\\AppData\\Roaming\\Python\\Python310\\site-packages\\magic\\magic.py:381: DeprecationWarning: Call to deprecated method info. (Use TaskLogger.log_info instead) -- Deprecated since version 1.1.0.\n",
      "  _logger.info(\n",
      "C:\\Users\\gugli\\AppData\\Roaming\\Python\\Python310\\site-packages\\magic\\magic.py:436: DeprecationWarning: Call to deprecated method task. (Use TaskLogger.log_task instead) -- Deprecated since version 1.1.0.\n",
      "  with _logger.task(\"graph and diffusion operator\"):\n"
     ]
    },
    {
     "name": "stdout",
     "output_type": "stream",
     "text": [
      "  Running MAGIC with `solver='exact'` on 25453-dimensional data may take a long time. Consider denoising specific genes with `genes=<list-like>` or using `solver='approximate'`.\n"
     ]
    },
    {
     "name": "stderr",
     "output_type": "stream",
     "text": [
      "C:\\Users\\gugli\\AppData\\Roaming\\Python\\Python310\\site-packages\\magic\\magic.py:586: DeprecationWarning: Call to deprecated method warning. (Use TaskLogger.log_warning instead) -- Deprecated since version 1.1.0.\n",
      "  _logger.warning(\n",
      "C:\\Users\\gugli\\AppData\\Roaming\\Python\\Python310\\site-packages\\magic\\magic.py:748: DeprecationWarning: Call to deprecated method task. (Use TaskLogger.log_task instead) -- Deprecated since version 1.1.0.\n",
      "  with _logger.task(\"imputation\"):\n",
      "C:\\Users\\gugli\\AppData\\Roaming\\Python\\Python310\\site-packages\\magic\\magic.py:650: DeprecationWarning: Call to deprecated method task. (Use TaskLogger.log_task instead) -- Deprecated since version 1.1.0.\n",
      "  with _logger.task(\"MAGIC\"):\n",
      "C:\\Users\\gugli\\AppData\\Roaming\\Python\\Python310\\site-packages\\magic\\magic.py:381: DeprecationWarning: Call to deprecated method info. (Use TaskLogger.log_info instead) -- Deprecated since version 1.1.0.\n",
      "  _logger.info(\n",
      "C:\\Users\\gugli\\AppData\\Roaming\\Python\\Python310\\site-packages\\magic\\magic.py:436: DeprecationWarning: Call to deprecated method task. (Use TaskLogger.log_task instead) -- Deprecated since version 1.1.0.\n",
      "  with _logger.task(\"graph and diffusion operator\"):\n"
     ]
    },
    {
     "name": "stdout",
     "output_type": "stream",
     "text": [
      "  Running MAGIC with `solver='exact'` on 25453-dimensional data may take a long time. Consider denoising specific genes with `genes=<list-like>` or using `solver='approximate'`.\n"
     ]
    },
    {
     "name": "stderr",
     "output_type": "stream",
     "text": [
      "C:\\Users\\gugli\\AppData\\Roaming\\Python\\Python310\\site-packages\\magic\\magic.py:586: DeprecationWarning: Call to deprecated method warning. (Use TaskLogger.log_warning instead) -- Deprecated since version 1.1.0.\n",
      "  _logger.warning(\n",
      "C:\\Users\\gugli\\AppData\\Roaming\\Python\\Python310\\site-packages\\magic\\magic.py:748: DeprecationWarning: Call to deprecated method task. (Use TaskLogger.log_task instead) -- Deprecated since version 1.1.0.\n",
      "  with _logger.task(\"imputation\"):\n",
      "C:\\Users\\gugli\\AppData\\Roaming\\Python\\Python310\\site-packages\\magic\\magic.py:650: DeprecationWarning: Call to deprecated method task. (Use TaskLogger.log_task instead) -- Deprecated since version 1.1.0.\n",
      "  with _logger.task(\"MAGIC\"):\n",
      "C:\\Users\\gugli\\AppData\\Roaming\\Python\\Python310\\site-packages\\magic\\magic.py:381: DeprecationWarning: Call to deprecated method info. (Use TaskLogger.log_info instead) -- Deprecated since version 1.1.0.\n",
      "  _logger.info(\n",
      "C:\\Users\\gugli\\AppData\\Roaming\\Python\\Python310\\site-packages\\magic\\magic.py:436: DeprecationWarning: Call to deprecated method task. (Use TaskLogger.log_task instead) -- Deprecated since version 1.1.0.\n",
      "  with _logger.task(\"graph and diffusion operator\"):\n"
     ]
    },
    {
     "name": "stdout",
     "output_type": "stream",
     "text": [
      "  Running MAGIC with `solver='exact'` on 25453-dimensional data may take a long time. Consider denoising specific genes with `genes=<list-like>` or using `solver='approximate'`.\n"
     ]
    },
    {
     "name": "stderr",
     "output_type": "stream",
     "text": [
      "C:\\Users\\gugli\\AppData\\Roaming\\Python\\Python310\\site-packages\\magic\\magic.py:586: DeprecationWarning: Call to deprecated method warning. (Use TaskLogger.log_warning instead) -- Deprecated since version 1.1.0.\n",
      "  _logger.warning(\n",
      "C:\\Users\\gugli\\AppData\\Roaming\\Python\\Python310\\site-packages\\magic\\magic.py:748: DeprecationWarning: Call to deprecated method task. (Use TaskLogger.log_task instead) -- Deprecated since version 1.1.0.\n",
      "  with _logger.task(\"imputation\"):\n",
      "C:\\Users\\gugli\\AppData\\Roaming\\Python\\Python310\\site-packages\\magic\\magic.py:650: DeprecationWarning: Call to deprecated method task. (Use TaskLogger.log_task instead) -- Deprecated since version 1.1.0.\n",
      "  with _logger.task(\"MAGIC\"):\n",
      "C:\\Users\\gugli\\AppData\\Roaming\\Python\\Python310\\site-packages\\magic\\magic.py:381: DeprecationWarning: Call to deprecated method info. (Use TaskLogger.log_info instead) -- Deprecated since version 1.1.0.\n",
      "  _logger.info(\n",
      "C:\\Users\\gugli\\AppData\\Roaming\\Python\\Python310\\site-packages\\magic\\magic.py:436: DeprecationWarning: Call to deprecated method task. (Use TaskLogger.log_task instead) -- Deprecated since version 1.1.0.\n",
      "  with _logger.task(\"graph and diffusion operator\"):\n"
     ]
    },
    {
     "name": "stdout",
     "output_type": "stream",
     "text": [
      "  Running MAGIC with `solver='exact'` on 25453-dimensional data may take a long time. Consider denoising specific genes with `genes=<list-like>` or using `solver='approximate'`.\n"
     ]
    },
    {
     "name": "stderr",
     "output_type": "stream",
     "text": [
      "C:\\Users\\gugli\\AppData\\Roaming\\Python\\Python310\\site-packages\\magic\\magic.py:586: DeprecationWarning: Call to deprecated method warning. (Use TaskLogger.log_warning instead) -- Deprecated since version 1.1.0.\n",
      "  _logger.warning(\n",
      "C:\\Users\\gugli\\AppData\\Roaming\\Python\\Python310\\site-packages\\magic\\magic.py:748: DeprecationWarning: Call to deprecated method task. (Use TaskLogger.log_task instead) -- Deprecated since version 1.1.0.\n",
      "  with _logger.task(\"imputation\"):\n",
      "C:\\Users\\gugli\\AppData\\Roaming\\Python\\Python310\\site-packages\\magic\\magic.py:650: DeprecationWarning: Call to deprecated method task. (Use TaskLogger.log_task instead) -- Deprecated since version 1.1.0.\n",
      "  with _logger.task(\"MAGIC\"):\n",
      "C:\\Users\\gugli\\AppData\\Roaming\\Python\\Python310\\site-packages\\magic\\magic.py:381: DeprecationWarning: Call to deprecated method info. (Use TaskLogger.log_info instead) -- Deprecated since version 1.1.0.\n",
      "  _logger.info(\n",
      "C:\\Users\\gugli\\AppData\\Roaming\\Python\\Python310\\site-packages\\magic\\magic.py:436: DeprecationWarning: Call to deprecated method task. (Use TaskLogger.log_task instead) -- Deprecated since version 1.1.0.\n",
      "  with _logger.task(\"graph and diffusion operator\"):\n"
     ]
    },
    {
     "name": "stdout",
     "output_type": "stream",
     "text": [
      "  Running MAGIC with `solver='exact'` on 25453-dimensional data may take a long time. Consider denoising specific genes with `genes=<list-like>` or using `solver='approximate'`.\n"
     ]
    },
    {
     "name": "stderr",
     "output_type": "stream",
     "text": [
      "C:\\Users\\gugli\\AppData\\Roaming\\Python\\Python310\\site-packages\\magic\\magic.py:586: DeprecationWarning: Call to deprecated method warning. (Use TaskLogger.log_warning instead) -- Deprecated since version 1.1.0.\n",
      "  _logger.warning(\n",
      "C:\\Users\\gugli\\AppData\\Roaming\\Python\\Python310\\site-packages\\magic\\magic.py:748: DeprecationWarning: Call to deprecated method task. (Use TaskLogger.log_task instead) -- Deprecated since version 1.1.0.\n",
      "  with _logger.task(\"imputation\"):\n",
      "C:\\Users\\gugli\\AppData\\Roaming\\Python\\Python310\\site-packages\\magic\\magic.py:650: DeprecationWarning: Call to deprecated method task. (Use TaskLogger.log_task instead) -- Deprecated since version 1.1.0.\n",
      "  with _logger.task(\"MAGIC\"):\n",
      "C:\\Users\\gugli\\AppData\\Roaming\\Python\\Python310\\site-packages\\magic\\magic.py:381: DeprecationWarning: Call to deprecated method info. (Use TaskLogger.log_info instead) -- Deprecated since version 1.1.0.\n",
      "  _logger.info(\n",
      "C:\\Users\\gugli\\AppData\\Roaming\\Python\\Python310\\site-packages\\magic\\magic.py:436: DeprecationWarning: Call to deprecated method task. (Use TaskLogger.log_task instead) -- Deprecated since version 1.1.0.\n",
      "  with _logger.task(\"graph and diffusion operator\"):\n"
     ]
    },
    {
     "name": "stdout",
     "output_type": "stream",
     "text": [
      "  Running MAGIC with `solver='exact'` on 25453-dimensional data may take a long time. Consider denoising specific genes with `genes=<list-like>` or using `solver='approximate'`.\n"
     ]
    },
    {
     "name": "stderr",
     "output_type": "stream",
     "text": [
      "C:\\Users\\gugli\\AppData\\Roaming\\Python\\Python310\\site-packages\\magic\\magic.py:586: DeprecationWarning: Call to deprecated method warning. (Use TaskLogger.log_warning instead) -- Deprecated since version 1.1.0.\n",
      "  _logger.warning(\n",
      "C:\\Users\\gugli\\AppData\\Roaming\\Python\\Python310\\site-packages\\magic\\magic.py:748: DeprecationWarning: Call to deprecated method task. (Use TaskLogger.log_task instead) -- Deprecated since version 1.1.0.\n",
      "  with _logger.task(\"imputation\"):\n",
      "C:\\Users\\gugli\\AppData\\Roaming\\Python\\Python310\\site-packages\\magic\\magic.py:650: DeprecationWarning: Call to deprecated method task. (Use TaskLogger.log_task instead) -- Deprecated since version 1.1.0.\n",
      "  with _logger.task(\"MAGIC\"):\n",
      "C:\\Users\\gugli\\AppData\\Roaming\\Python\\Python310\\site-packages\\magic\\magic.py:381: DeprecationWarning: Call to deprecated method info. (Use TaskLogger.log_info instead) -- Deprecated since version 1.1.0.\n",
      "  _logger.info(\n",
      "C:\\Users\\gugli\\AppData\\Roaming\\Python\\Python310\\site-packages\\magic\\magic.py:436: DeprecationWarning: Call to deprecated method task. (Use TaskLogger.log_task instead) -- Deprecated since version 1.1.0.\n",
      "  with _logger.task(\"graph and diffusion operator\"):\n"
     ]
    },
    {
     "name": "stdout",
     "output_type": "stream",
     "text": [
      "  Running MAGIC with `solver='exact'` on 25453-dimensional data may take a long time. Consider denoising specific genes with `genes=<list-like>` or using `solver='approximate'`.\n"
     ]
    },
    {
     "name": "stderr",
     "output_type": "stream",
     "text": [
      "C:\\Users\\gugli\\AppData\\Roaming\\Python\\Python310\\site-packages\\magic\\magic.py:586: DeprecationWarning: Call to deprecated method warning. (Use TaskLogger.log_warning instead) -- Deprecated since version 1.1.0.\n",
      "  _logger.warning(\n",
      "C:\\Users\\gugli\\AppData\\Roaming\\Python\\Python310\\site-packages\\magic\\magic.py:748: DeprecationWarning: Call to deprecated method task. (Use TaskLogger.log_task instead) -- Deprecated since version 1.1.0.\n",
      "  with _logger.task(\"imputation\"):\n",
      "C:\\Users\\gugli\\AppData\\Roaming\\Python\\Python310\\site-packages\\magic\\magic.py:650: DeprecationWarning: Call to deprecated method task. (Use TaskLogger.log_task instead) -- Deprecated since version 1.1.0.\n",
      "  with _logger.task(\"MAGIC\"):\n",
      "C:\\Users\\gugli\\AppData\\Roaming\\Python\\Python310\\site-packages\\magic\\magic.py:381: DeprecationWarning: Call to deprecated method info. (Use TaskLogger.log_info instead) -- Deprecated since version 1.1.0.\n",
      "  _logger.info(\n",
      "C:\\Users\\gugli\\AppData\\Roaming\\Python\\Python310\\site-packages\\magic\\magic.py:436: DeprecationWarning: Call to deprecated method task. (Use TaskLogger.log_task instead) -- Deprecated since version 1.1.0.\n",
      "  with _logger.task(\"graph and diffusion operator\"):\n"
     ]
    },
    {
     "name": "stdout",
     "output_type": "stream",
     "text": [
      "  Running MAGIC with `solver='exact'` on 25453-dimensional data may take a long time. Consider denoising specific genes with `genes=<list-like>` or using `solver='approximate'`.\n"
     ]
    },
    {
     "name": "stderr",
     "output_type": "stream",
     "text": [
      "C:\\Users\\gugli\\AppData\\Roaming\\Python\\Python310\\site-packages\\magic\\magic.py:586: DeprecationWarning: Call to deprecated method warning. (Use TaskLogger.log_warning instead) -- Deprecated since version 1.1.0.\n",
      "  _logger.warning(\n",
      "C:\\Users\\gugli\\AppData\\Roaming\\Python\\Python310\\site-packages\\magic\\magic.py:748: DeprecationWarning: Call to deprecated method task. (Use TaskLogger.log_task instead) -- Deprecated since version 1.1.0.\n",
      "  with _logger.task(\"imputation\"):\n",
      "C:\\Users\\gugli\\AppData\\Roaming\\Python\\Python310\\site-packages\\magic\\magic.py:650: DeprecationWarning: Call to deprecated method task. (Use TaskLogger.log_task instead) -- Deprecated since version 1.1.0.\n",
      "  with _logger.task(\"MAGIC\"):\n",
      "C:\\Users\\gugli\\AppData\\Roaming\\Python\\Python310\\site-packages\\magic\\magic.py:381: DeprecationWarning: Call to deprecated method info. (Use TaskLogger.log_info instead) -- Deprecated since version 1.1.0.\n",
      "  _logger.info(\n",
      "C:\\Users\\gugli\\AppData\\Roaming\\Python\\Python310\\site-packages\\magic\\magic.py:436: DeprecationWarning: Call to deprecated method task. (Use TaskLogger.log_task instead) -- Deprecated since version 1.1.0.\n",
      "  with _logger.task(\"graph and diffusion operator\"):\n"
     ]
    },
    {
     "name": "stdout",
     "output_type": "stream",
     "text": [
      "  Running MAGIC with `solver='exact'` on 25453-dimensional data may take a long time. Consider denoising specific genes with `genes=<list-like>` or using `solver='approximate'`.\n"
     ]
    },
    {
     "name": "stderr",
     "output_type": "stream",
     "text": [
      "C:\\Users\\gugli\\AppData\\Roaming\\Python\\Python310\\site-packages\\magic\\magic.py:586: DeprecationWarning: Call to deprecated method warning. (Use TaskLogger.log_warning instead) -- Deprecated since version 1.1.0.\n",
      "  _logger.warning(\n",
      "C:\\Users\\gugli\\AppData\\Roaming\\Python\\Python310\\site-packages\\magic\\magic.py:748: DeprecationWarning: Call to deprecated method task. (Use TaskLogger.log_task instead) -- Deprecated since version 1.1.0.\n",
      "  with _logger.task(\"imputation\"):\n",
      "C:\\Users\\gugli\\AppData\\Roaming\\Python\\Python310\\site-packages\\magic\\magic.py:650: DeprecationWarning: Call to deprecated method task. (Use TaskLogger.log_task instead) -- Deprecated since version 1.1.0.\n",
      "  with _logger.task(\"MAGIC\"):\n",
      "C:\\Users\\gugli\\AppData\\Roaming\\Python\\Python310\\site-packages\\magic\\magic.py:381: DeprecationWarning: Call to deprecated method info. (Use TaskLogger.log_info instead) -- Deprecated since version 1.1.0.\n",
      "  _logger.info(\n",
      "C:\\Users\\gugli\\AppData\\Roaming\\Python\\Python310\\site-packages\\magic\\magic.py:436: DeprecationWarning: Call to deprecated method task. (Use TaskLogger.log_task instead) -- Deprecated since version 1.1.0.\n",
      "  with _logger.task(\"graph and diffusion operator\"):\n"
     ]
    },
    {
     "name": "stdout",
     "output_type": "stream",
     "text": [
      "  Running MAGIC with `solver='exact'` on 25453-dimensional data may take a long time. Consider denoising specific genes with `genes=<list-like>` or using `solver='approximate'`.\n"
     ]
    },
    {
     "name": "stderr",
     "output_type": "stream",
     "text": [
      "C:\\Users\\gugli\\AppData\\Roaming\\Python\\Python310\\site-packages\\magic\\magic.py:586: DeprecationWarning: Call to deprecated method warning. (Use TaskLogger.log_warning instead) -- Deprecated since version 1.1.0.\n",
      "  _logger.warning(\n",
      "C:\\Users\\gugli\\AppData\\Roaming\\Python\\Python310\\site-packages\\magic\\magic.py:748: DeprecationWarning: Call to deprecated method task. (Use TaskLogger.log_task instead) -- Deprecated since version 1.1.0.\n",
      "  with _logger.task(\"imputation\"):\n",
      "C:\\Users\\gugli\\AppData\\Roaming\\Python\\Python310\\site-packages\\magic\\magic.py:650: DeprecationWarning: Call to deprecated method task. (Use TaskLogger.log_task instead) -- Deprecated since version 1.1.0.\n",
      "  with _logger.task(\"MAGIC\"):\n",
      "C:\\Users\\gugli\\AppData\\Roaming\\Python\\Python310\\site-packages\\magic\\magic.py:381: DeprecationWarning: Call to deprecated method info. (Use TaskLogger.log_info instead) -- Deprecated since version 1.1.0.\n",
      "  _logger.info(\n",
      "C:\\Users\\gugli\\AppData\\Roaming\\Python\\Python310\\site-packages\\magic\\magic.py:436: DeprecationWarning: Call to deprecated method task. (Use TaskLogger.log_task instead) -- Deprecated since version 1.1.0.\n",
      "  with _logger.task(\"graph and diffusion operator\"):\n"
     ]
    },
    {
     "name": "stdout",
     "output_type": "stream",
     "text": [
      "  Running MAGIC with `solver='exact'` on 25453-dimensional data may take a long time. Consider denoising specific genes with `genes=<list-like>` or using `solver='approximate'`.\n"
     ]
    },
    {
     "name": "stderr",
     "output_type": "stream",
     "text": [
      "C:\\Users\\gugli\\AppData\\Roaming\\Python\\Python310\\site-packages\\magic\\magic.py:586: DeprecationWarning: Call to deprecated method warning. (Use TaskLogger.log_warning instead) -- Deprecated since version 1.1.0.\n",
      "  _logger.warning(\n",
      "C:\\Users\\gugli\\AppData\\Roaming\\Python\\Python310\\site-packages\\magic\\magic.py:748: DeprecationWarning: Call to deprecated method task. (Use TaskLogger.log_task instead) -- Deprecated since version 1.1.0.\n",
      "  with _logger.task(\"imputation\"):\n",
      "C:\\Users\\gugli\\AppData\\Roaming\\Python\\Python310\\site-packages\\magic\\magic.py:650: DeprecationWarning: Call to deprecated method task. (Use TaskLogger.log_task instead) -- Deprecated since version 1.1.0.\n",
      "  with _logger.task(\"MAGIC\"):\n",
      "C:\\Users\\gugli\\AppData\\Roaming\\Python\\Python310\\site-packages\\magic\\magic.py:381: DeprecationWarning: Call to deprecated method info. (Use TaskLogger.log_info instead) -- Deprecated since version 1.1.0.\n",
      "  _logger.info(\n",
      "C:\\Users\\gugli\\AppData\\Roaming\\Python\\Python310\\site-packages\\magic\\magic.py:436: DeprecationWarning: Call to deprecated method task. (Use TaskLogger.log_task instead) -- Deprecated since version 1.1.0.\n",
      "  with _logger.task(\"graph and diffusion operator\"):\n"
     ]
    },
    {
     "name": "stdout",
     "output_type": "stream",
     "text": [
      "  Running MAGIC with `solver='exact'` on 25453-dimensional data may take a long time. Consider denoising specific genes with `genes=<list-like>` or using `solver='approximate'`.\n"
     ]
    },
    {
     "name": "stderr",
     "output_type": "stream",
     "text": [
      "C:\\Users\\gugli\\AppData\\Roaming\\Python\\Python310\\site-packages\\magic\\magic.py:586: DeprecationWarning: Call to deprecated method warning. (Use TaskLogger.log_warning instead) -- Deprecated since version 1.1.0.\n",
      "  _logger.warning(\n",
      "C:\\Users\\gugli\\AppData\\Roaming\\Python\\Python310\\site-packages\\magic\\magic.py:748: DeprecationWarning: Call to deprecated method task. (Use TaskLogger.log_task instead) -- Deprecated since version 1.1.0.\n",
      "  with _logger.task(\"imputation\"):\n",
      "C:\\Users\\gugli\\AppData\\Roaming\\Python\\Python310\\site-packages\\magic\\magic.py:650: DeprecationWarning: Call to deprecated method task. (Use TaskLogger.log_task instead) -- Deprecated since version 1.1.0.\n",
      "  with _logger.task(\"MAGIC\"):\n",
      "C:\\Users\\gugli\\AppData\\Roaming\\Python\\Python310\\site-packages\\magic\\magic.py:381: DeprecationWarning: Call to deprecated method info. (Use TaskLogger.log_info instead) -- Deprecated since version 1.1.0.\n",
      "  _logger.info(\n",
      "C:\\Users\\gugli\\AppData\\Roaming\\Python\\Python310\\site-packages\\magic\\magic.py:436: DeprecationWarning: Call to deprecated method task. (Use TaskLogger.log_task instead) -- Deprecated since version 1.1.0.\n",
      "  with _logger.task(\"graph and diffusion operator\"):\n"
     ]
    },
    {
     "name": "stdout",
     "output_type": "stream",
     "text": [
      "  Running MAGIC with `solver='exact'` on 25453-dimensional data may take a long time. Consider denoising specific genes with `genes=<list-like>` or using `solver='approximate'`.\n"
     ]
    },
    {
     "name": "stderr",
     "output_type": "stream",
     "text": [
      "C:\\Users\\gugli\\AppData\\Roaming\\Python\\Python310\\site-packages\\magic\\magic.py:586: DeprecationWarning: Call to deprecated method warning. (Use TaskLogger.log_warning instead) -- Deprecated since version 1.1.0.\n",
      "  _logger.warning(\n",
      "C:\\Users\\gugli\\AppData\\Roaming\\Python\\Python310\\site-packages\\magic\\magic.py:748: DeprecationWarning: Call to deprecated method task. (Use TaskLogger.log_task instead) -- Deprecated since version 1.1.0.\n",
      "  with _logger.task(\"imputation\"):\n",
      "C:\\Users\\gugli\\AppData\\Roaming\\Python\\Python310\\site-packages\\magic\\magic.py:650: DeprecationWarning: Call to deprecated method task. (Use TaskLogger.log_task instead) -- Deprecated since version 1.1.0.\n",
      "  with _logger.task(\"MAGIC\"):\n",
      "C:\\Users\\gugli\\AppData\\Roaming\\Python\\Python310\\site-packages\\magic\\magic.py:381: DeprecationWarning: Call to deprecated method info. (Use TaskLogger.log_info instead) -- Deprecated since version 1.1.0.\n",
      "  _logger.info(\n",
      "C:\\Users\\gugli\\AppData\\Roaming\\Python\\Python310\\site-packages\\magic\\magic.py:436: DeprecationWarning: Call to deprecated method task. (Use TaskLogger.log_task instead) -- Deprecated since version 1.1.0.\n",
      "  with _logger.task(\"graph and diffusion operator\"):\n"
     ]
    },
    {
     "name": "stdout",
     "output_type": "stream",
     "text": [
      "  Running MAGIC with `solver='exact'` on 25453-dimensional data may take a long time. Consider denoising specific genes with `genes=<list-like>` or using `solver='approximate'`.\n"
     ]
    },
    {
     "name": "stderr",
     "output_type": "stream",
     "text": [
      "C:\\Users\\gugli\\AppData\\Roaming\\Python\\Python310\\site-packages\\magic\\magic.py:586: DeprecationWarning: Call to deprecated method warning. (Use TaskLogger.log_warning instead) -- Deprecated since version 1.1.0.\n",
      "  _logger.warning(\n",
      "C:\\Users\\gugli\\AppData\\Roaming\\Python\\Python310\\site-packages\\magic\\magic.py:748: DeprecationWarning: Call to deprecated method task. (Use TaskLogger.log_task instead) -- Deprecated since version 1.1.0.\n",
      "  with _logger.task(\"imputation\"):\n",
      "C:\\Users\\gugli\\AppData\\Roaming\\Python\\Python310\\site-packages\\magic\\magic.py:650: DeprecationWarning: Call to deprecated method task. (Use TaskLogger.log_task instead) -- Deprecated since version 1.1.0.\n",
      "  with _logger.task(\"MAGIC\"):\n",
      "C:\\Users\\gugli\\AppData\\Roaming\\Python\\Python310\\site-packages\\magic\\magic.py:381: DeprecationWarning: Call to deprecated method info. (Use TaskLogger.log_info instead) -- Deprecated since version 1.1.0.\n",
      "  _logger.info(\n",
      "C:\\Users\\gugli\\AppData\\Roaming\\Python\\Python310\\site-packages\\magic\\magic.py:436: DeprecationWarning: Call to deprecated method task. (Use TaskLogger.log_task instead) -- Deprecated since version 1.1.0.\n",
      "  with _logger.task(\"graph and diffusion operator\"):\n"
     ]
    },
    {
     "name": "stdout",
     "output_type": "stream",
     "text": [
      "  Running MAGIC with `solver='exact'` on 25453-dimensional data may take a long time. Consider denoising specific genes with `genes=<list-like>` or using `solver='approximate'`.\n"
     ]
    },
    {
     "name": "stderr",
     "output_type": "stream",
     "text": [
      "C:\\Users\\gugli\\AppData\\Roaming\\Python\\Python310\\site-packages\\magic\\magic.py:586: DeprecationWarning: Call to deprecated method warning. (Use TaskLogger.log_warning instead) -- Deprecated since version 1.1.0.\n",
      "  _logger.warning(\n",
      "C:\\Users\\gugli\\AppData\\Roaming\\Python\\Python310\\site-packages\\magic\\magic.py:748: DeprecationWarning: Call to deprecated method task. (Use TaskLogger.log_task instead) -- Deprecated since version 1.1.0.\n",
      "  with _logger.task(\"imputation\"):\n",
      "C:\\Users\\gugli\\AppData\\Roaming\\Python\\Python310\\site-packages\\magic\\magic.py:650: DeprecationWarning: Call to deprecated method task. (Use TaskLogger.log_task instead) -- Deprecated since version 1.1.0.\n",
      "  with _logger.task(\"MAGIC\"):\n",
      "C:\\Users\\gugli\\AppData\\Roaming\\Python\\Python310\\site-packages\\magic\\magic.py:381: DeprecationWarning: Call to deprecated method info. (Use TaskLogger.log_info instead) -- Deprecated since version 1.1.0.\n",
      "  _logger.info(\n",
      "C:\\Users\\gugli\\AppData\\Roaming\\Python\\Python310\\site-packages\\magic\\magic.py:436: DeprecationWarning: Call to deprecated method task. (Use TaskLogger.log_task instead) -- Deprecated since version 1.1.0.\n",
      "  with _logger.task(\"graph and diffusion operator\"):\n"
     ]
    },
    {
     "name": "stdout",
     "output_type": "stream",
     "text": [
      "  Running MAGIC with `solver='exact'` on 25453-dimensional data may take a long time. Consider denoising specific genes with `genes=<list-like>` or using `solver='approximate'`.\n"
     ]
    },
    {
     "name": "stderr",
     "output_type": "stream",
     "text": [
      "C:\\Users\\gugli\\AppData\\Roaming\\Python\\Python310\\site-packages\\magic\\magic.py:586: DeprecationWarning: Call to deprecated method warning. (Use TaskLogger.log_warning instead) -- Deprecated since version 1.1.0.\n",
      "  _logger.warning(\n",
      "C:\\Users\\gugli\\AppData\\Roaming\\Python\\Python310\\site-packages\\magic\\magic.py:748: DeprecationWarning: Call to deprecated method task. (Use TaskLogger.log_task instead) -- Deprecated since version 1.1.0.\n",
      "  with _logger.task(\"imputation\"):\n",
      "C:\\Users\\gugli\\AppData\\Roaming\\Python\\Python310\\site-packages\\magic\\magic.py:650: DeprecationWarning: Call to deprecated method task. (Use TaskLogger.log_task instead) -- Deprecated since version 1.1.0.\n",
      "  with _logger.task(\"MAGIC\"):\n",
      "C:\\Users\\gugli\\AppData\\Roaming\\Python\\Python310\\site-packages\\magic\\magic.py:381: DeprecationWarning: Call to deprecated method info. (Use TaskLogger.log_info instead) -- Deprecated since version 1.1.0.\n",
      "  _logger.info(\n",
      "C:\\Users\\gugli\\AppData\\Roaming\\Python\\Python310\\site-packages\\magic\\magic.py:436: DeprecationWarning: Call to deprecated method task. (Use TaskLogger.log_task instead) -- Deprecated since version 1.1.0.\n",
      "  with _logger.task(\"graph and diffusion operator\"):\n"
     ]
    },
    {
     "name": "stdout",
     "output_type": "stream",
     "text": [
      "  Running MAGIC with `solver='exact'` on 25453-dimensional data may take a long time. Consider denoising specific genes with `genes=<list-like>` or using `solver='approximate'`.\n"
     ]
    },
    {
     "name": "stderr",
     "output_type": "stream",
     "text": [
      "C:\\Users\\gugli\\AppData\\Roaming\\Python\\Python310\\site-packages\\magic\\magic.py:586: DeprecationWarning: Call to deprecated method warning. (Use TaskLogger.log_warning instead) -- Deprecated since version 1.1.0.\n",
      "  _logger.warning(\n",
      "C:\\Users\\gugli\\AppData\\Roaming\\Python\\Python310\\site-packages\\magic\\magic.py:748: DeprecationWarning: Call to deprecated method task. (Use TaskLogger.log_task instead) -- Deprecated since version 1.1.0.\n",
      "  with _logger.task(\"imputation\"):\n",
      "C:\\Users\\gugli\\AppData\\Roaming\\Python\\Python310\\site-packages\\magic\\magic.py:650: DeprecationWarning: Call to deprecated method task. (Use TaskLogger.log_task instead) -- Deprecated since version 1.1.0.\n",
      "  with _logger.task(\"MAGIC\"):\n",
      "C:\\Users\\gugli\\AppData\\Roaming\\Python\\Python310\\site-packages\\magic\\magic.py:381: DeprecationWarning: Call to deprecated method info. (Use TaskLogger.log_info instead) -- Deprecated since version 1.1.0.\n",
      "  _logger.info(\n",
      "C:\\Users\\gugli\\AppData\\Roaming\\Python\\Python310\\site-packages\\magic\\magic.py:436: DeprecationWarning: Call to deprecated method task. (Use TaskLogger.log_task instead) -- Deprecated since version 1.1.0.\n",
      "  with _logger.task(\"graph and diffusion operator\"):\n"
     ]
    },
    {
     "name": "stdout",
     "output_type": "stream",
     "text": [
      "  Running MAGIC with `solver='exact'` on 25453-dimensional data may take a long time. Consider denoising specific genes with `genes=<list-like>` or using `solver='approximate'`.\n"
     ]
    },
    {
     "name": "stderr",
     "output_type": "stream",
     "text": [
      "C:\\Users\\gugli\\AppData\\Roaming\\Python\\Python310\\site-packages\\magic\\magic.py:586: DeprecationWarning: Call to deprecated method warning. (Use TaskLogger.log_warning instead) -- Deprecated since version 1.1.0.\n",
      "  _logger.warning(\n",
      "C:\\Users\\gugli\\AppData\\Roaming\\Python\\Python310\\site-packages\\magic\\magic.py:748: DeprecationWarning: Call to deprecated method task. (Use TaskLogger.log_task instead) -- Deprecated since version 1.1.0.\n",
      "  with _logger.task(\"imputation\"):\n",
      "C:\\Users\\gugli\\AppData\\Roaming\\Python\\Python310\\site-packages\\magic\\magic.py:650: DeprecationWarning: Call to deprecated method task. (Use TaskLogger.log_task instead) -- Deprecated since version 1.1.0.\n",
      "  with _logger.task(\"MAGIC\"):\n",
      "C:\\Users\\gugli\\AppData\\Roaming\\Python\\Python310\\site-packages\\magic\\magic.py:381: DeprecationWarning: Call to deprecated method info. (Use TaskLogger.log_info instead) -- Deprecated since version 1.1.0.\n",
      "  _logger.info(\n",
      "C:\\Users\\gugli\\AppData\\Roaming\\Python\\Python310\\site-packages\\magic\\magic.py:436: DeprecationWarning: Call to deprecated method task. (Use TaskLogger.log_task instead) -- Deprecated since version 1.1.0.\n",
      "  with _logger.task(\"graph and diffusion operator\"):\n"
     ]
    },
    {
     "name": "stdout",
     "output_type": "stream",
     "text": [
      "  Running MAGIC with `solver='exact'` on 25453-dimensional data may take a long time. Consider denoising specific genes with `genes=<list-like>` or using `solver='approximate'`.\n"
     ]
    },
    {
     "name": "stderr",
     "output_type": "stream",
     "text": [
      "C:\\Users\\gugli\\AppData\\Roaming\\Python\\Python310\\site-packages\\magic\\magic.py:586: DeprecationWarning: Call to deprecated method warning. (Use TaskLogger.log_warning instead) -- Deprecated since version 1.1.0.\n",
      "  _logger.warning(\n",
      "C:\\Users\\gugli\\AppData\\Roaming\\Python\\Python310\\site-packages\\magic\\magic.py:748: DeprecationWarning: Call to deprecated method task. (Use TaskLogger.log_task instead) -- Deprecated since version 1.1.0.\n",
      "  with _logger.task(\"imputation\"):\n",
      "C:\\Users\\gugli\\AppData\\Roaming\\Python\\Python310\\site-packages\\magic\\magic.py:650: DeprecationWarning: Call to deprecated method task. (Use TaskLogger.log_task instead) -- Deprecated since version 1.1.0.\n",
      "  with _logger.task(\"MAGIC\"):\n",
      "C:\\Users\\gugli\\AppData\\Roaming\\Python\\Python310\\site-packages\\magic\\magic.py:381: DeprecationWarning: Call to deprecated method info. (Use TaskLogger.log_info instead) -- Deprecated since version 1.1.0.\n",
      "  _logger.info(\n",
      "C:\\Users\\gugli\\AppData\\Roaming\\Python\\Python310\\site-packages\\magic\\magic.py:436: DeprecationWarning: Call to deprecated method task. (Use TaskLogger.log_task instead) -- Deprecated since version 1.1.0.\n",
      "  with _logger.task(\"graph and diffusion operator\"):\n"
     ]
    },
    {
     "name": "stdout",
     "output_type": "stream",
     "text": [
      "  Running MAGIC with `solver='exact'` on 25453-dimensional data may take a long time. Consider denoising specific genes with `genes=<list-like>` or using `solver='approximate'`.\n"
     ]
    },
    {
     "name": "stderr",
     "output_type": "stream",
     "text": [
      "C:\\Users\\gugli\\AppData\\Roaming\\Python\\Python310\\site-packages\\magic\\magic.py:586: DeprecationWarning: Call to deprecated method warning. (Use TaskLogger.log_warning instead) -- Deprecated since version 1.1.0.\n",
      "  _logger.warning(\n",
      "C:\\Users\\gugli\\AppData\\Roaming\\Python\\Python310\\site-packages\\magic\\magic.py:748: DeprecationWarning: Call to deprecated method task. (Use TaskLogger.log_task instead) -- Deprecated since version 1.1.0.\n",
      "  with _logger.task(\"imputation\"):\n",
      "C:\\Users\\gugli\\AppData\\Roaming\\Python\\Python310\\site-packages\\magic\\magic.py:650: DeprecationWarning: Call to deprecated method task. (Use TaskLogger.log_task instead) -- Deprecated since version 1.1.0.\n",
      "  with _logger.task(\"MAGIC\"):\n",
      "C:\\Users\\gugli\\AppData\\Roaming\\Python\\Python310\\site-packages\\magic\\magic.py:381: DeprecationWarning: Call to deprecated method info. (Use TaskLogger.log_info instead) -- Deprecated since version 1.1.0.\n",
      "  _logger.info(\n",
      "C:\\Users\\gugli\\AppData\\Roaming\\Python\\Python310\\site-packages\\magic\\magic.py:436: DeprecationWarning: Call to deprecated method task. (Use TaskLogger.log_task instead) -- Deprecated since version 1.1.0.\n",
      "  with _logger.task(\"graph and diffusion operator\"):\n"
     ]
    },
    {
     "name": "stdout",
     "output_type": "stream",
     "text": [
      "  Running MAGIC with `solver='exact'` on 25453-dimensional data may take a long time. Consider denoising specific genes with `genes=<list-like>` or using `solver='approximate'`.\n"
     ]
    },
    {
     "name": "stderr",
     "output_type": "stream",
     "text": [
      "C:\\Users\\gugli\\AppData\\Roaming\\Python\\Python310\\site-packages\\magic\\magic.py:586: DeprecationWarning: Call to deprecated method warning. (Use TaskLogger.log_warning instead) -- Deprecated since version 1.1.0.\n",
      "  _logger.warning(\n",
      "C:\\Users\\gugli\\AppData\\Roaming\\Python\\Python310\\site-packages\\magic\\magic.py:748: DeprecationWarning: Call to deprecated method task. (Use TaskLogger.log_task instead) -- Deprecated since version 1.1.0.\n",
      "  with _logger.task(\"imputation\"):\n",
      "C:\\Users\\gugli\\AppData\\Roaming\\Python\\Python310\\site-packages\\magic\\magic.py:650: DeprecationWarning: Call to deprecated method task. (Use TaskLogger.log_task instead) -- Deprecated since version 1.1.0.\n",
      "  with _logger.task(\"MAGIC\"):\n",
      "C:\\Users\\gugli\\AppData\\Roaming\\Python\\Python310\\site-packages\\magic\\magic.py:381: DeprecationWarning: Call to deprecated method info. (Use TaskLogger.log_info instead) -- Deprecated since version 1.1.0.\n",
      "  _logger.info(\n",
      "C:\\Users\\gugli\\AppData\\Roaming\\Python\\Python310\\site-packages\\magic\\magic.py:436: DeprecationWarning: Call to deprecated method task. (Use TaskLogger.log_task instead) -- Deprecated since version 1.1.0.\n",
      "  with _logger.task(\"graph and diffusion operator\"):\n"
     ]
    },
    {
     "name": "stdout",
     "output_type": "stream",
     "text": [
      "  Running MAGIC with `solver='exact'` on 25453-dimensional data may take a long time. Consider denoising specific genes with `genes=<list-like>` or using `solver='approximate'`.\n"
     ]
    },
    {
     "name": "stderr",
     "output_type": "stream",
     "text": [
      "C:\\Users\\gugli\\AppData\\Roaming\\Python\\Python310\\site-packages\\magic\\magic.py:586: DeprecationWarning: Call to deprecated method warning. (Use TaskLogger.log_warning instead) -- Deprecated since version 1.1.0.\n",
      "  _logger.warning(\n",
      "C:\\Users\\gugli\\AppData\\Roaming\\Python\\Python310\\site-packages\\magic\\magic.py:748: DeprecationWarning: Call to deprecated method task. (Use TaskLogger.log_task instead) -- Deprecated since version 1.1.0.\n",
      "  with _logger.task(\"imputation\"):\n",
      "C:\\Users\\gugli\\AppData\\Roaming\\Python\\Python310\\site-packages\\magic\\magic.py:650: DeprecationWarning: Call to deprecated method task. (Use TaskLogger.log_task instead) -- Deprecated since version 1.1.0.\n",
      "  with _logger.task(\"MAGIC\"):\n",
      "C:\\Users\\gugli\\AppData\\Roaming\\Python\\Python310\\site-packages\\magic\\magic.py:381: DeprecationWarning: Call to deprecated method info. (Use TaskLogger.log_info instead) -- Deprecated since version 1.1.0.\n",
      "  _logger.info(\n",
      "C:\\Users\\gugli\\AppData\\Roaming\\Python\\Python310\\site-packages\\magic\\magic.py:436: DeprecationWarning: Call to deprecated method task. (Use TaskLogger.log_task instead) -- Deprecated since version 1.1.0.\n",
      "  with _logger.task(\"graph and diffusion operator\"):\n"
     ]
    },
    {
     "name": "stdout",
     "output_type": "stream",
     "text": [
      "  Running MAGIC with `solver='exact'` on 25453-dimensional data may take a long time. Consider denoising specific genes with `genes=<list-like>` or using `solver='approximate'`.\n"
     ]
    },
    {
     "name": "stderr",
     "output_type": "stream",
     "text": [
      "C:\\Users\\gugli\\AppData\\Roaming\\Python\\Python310\\site-packages\\magic\\magic.py:586: DeprecationWarning: Call to deprecated method warning. (Use TaskLogger.log_warning instead) -- Deprecated since version 1.1.0.\n",
      "  _logger.warning(\n",
      "C:\\Users\\gugli\\AppData\\Roaming\\Python\\Python310\\site-packages\\magic\\magic.py:748: DeprecationWarning: Call to deprecated method task. (Use TaskLogger.log_task instead) -- Deprecated since version 1.1.0.\n",
      "  with _logger.task(\"imputation\"):\n",
      "C:\\Users\\gugli\\AppData\\Roaming\\Python\\Python310\\site-packages\\magic\\magic.py:650: DeprecationWarning: Call to deprecated method task. (Use TaskLogger.log_task instead) -- Deprecated since version 1.1.0.\n",
      "  with _logger.task(\"MAGIC\"):\n",
      "C:\\Users\\gugli\\AppData\\Roaming\\Python\\Python310\\site-packages\\magic\\magic.py:381: DeprecationWarning: Call to deprecated method info. (Use TaskLogger.log_info instead) -- Deprecated since version 1.1.0.\n",
      "  _logger.info(\n",
      "C:\\Users\\gugli\\AppData\\Roaming\\Python\\Python310\\site-packages\\magic\\magic.py:436: DeprecationWarning: Call to deprecated method task. (Use TaskLogger.log_task instead) -- Deprecated since version 1.1.0.\n",
      "  with _logger.task(\"graph and diffusion operator\"):\n"
     ]
    },
    {
     "name": "stdout",
     "output_type": "stream",
     "text": [
      "  Running MAGIC with `solver='exact'` on 25453-dimensional data may take a long time. Consider denoising specific genes with `genes=<list-like>` or using `solver='approximate'`.\n"
     ]
    },
    {
     "name": "stderr",
     "output_type": "stream",
     "text": [
      "C:\\Users\\gugli\\AppData\\Roaming\\Python\\Python310\\site-packages\\magic\\magic.py:586: DeprecationWarning: Call to deprecated method warning. (Use TaskLogger.log_warning instead) -- Deprecated since version 1.1.0.\n",
      "  _logger.warning(\n",
      "C:\\Users\\gugli\\AppData\\Roaming\\Python\\Python310\\site-packages\\magic\\magic.py:748: DeprecationWarning: Call to deprecated method task. (Use TaskLogger.log_task instead) -- Deprecated since version 1.1.0.\n",
      "  with _logger.task(\"imputation\"):\n",
      "C:\\Users\\gugli\\AppData\\Roaming\\Python\\Python310\\site-packages\\magic\\magic.py:650: DeprecationWarning: Call to deprecated method task. (Use TaskLogger.log_task instead) -- Deprecated since version 1.1.0.\n",
      "  with _logger.task(\"MAGIC\"):\n",
      "C:\\Users\\gugli\\AppData\\Roaming\\Python\\Python310\\site-packages\\magic\\magic.py:381: DeprecationWarning: Call to deprecated method info. (Use TaskLogger.log_info instead) -- Deprecated since version 1.1.0.\n",
      "  _logger.info(\n",
      "C:\\Users\\gugli\\AppData\\Roaming\\Python\\Python310\\site-packages\\magic\\magic.py:436: DeprecationWarning: Call to deprecated method task. (Use TaskLogger.log_task instead) -- Deprecated since version 1.1.0.\n",
      "  with _logger.task(\"graph and diffusion operator\"):\n"
     ]
    },
    {
     "name": "stdout",
     "output_type": "stream",
     "text": [
      "  Running MAGIC with `solver='exact'` on 25453-dimensional data may take a long time. Consider denoising specific genes with `genes=<list-like>` or using `solver='approximate'`.\n"
     ]
    },
    {
     "name": "stderr",
     "output_type": "stream",
     "text": [
      "C:\\Users\\gugli\\AppData\\Roaming\\Python\\Python310\\site-packages\\magic\\magic.py:586: DeprecationWarning: Call to deprecated method warning. (Use TaskLogger.log_warning instead) -- Deprecated since version 1.1.0.\n",
      "  _logger.warning(\n",
      "C:\\Users\\gugli\\AppData\\Roaming\\Python\\Python310\\site-packages\\magic\\magic.py:748: DeprecationWarning: Call to deprecated method task. (Use TaskLogger.log_task instead) -- Deprecated since version 1.1.0.\n",
      "  with _logger.task(\"imputation\"):\n",
      "C:\\Users\\gugli\\AppData\\Roaming\\Python\\Python310\\site-packages\\magic\\magic.py:650: DeprecationWarning: Call to deprecated method task. (Use TaskLogger.log_task instead) -- Deprecated since version 1.1.0.\n",
      "  with _logger.task(\"MAGIC\"):\n",
      "C:\\Users\\gugli\\AppData\\Roaming\\Python\\Python310\\site-packages\\magic\\magic.py:381: DeprecationWarning: Call to deprecated method info. (Use TaskLogger.log_info instead) -- Deprecated since version 1.1.0.\n",
      "  _logger.info(\n",
      "C:\\Users\\gugli\\AppData\\Roaming\\Python\\Python310\\site-packages\\magic\\magic.py:436: DeprecationWarning: Call to deprecated method task. (Use TaskLogger.log_task instead) -- Deprecated since version 1.1.0.\n",
      "  with _logger.task(\"graph and diffusion operator\"):\n"
     ]
    },
    {
     "name": "stdout",
     "output_type": "stream",
     "text": [
      "  Running MAGIC with `solver='exact'` on 25453-dimensional data may take a long time. Consider denoising specific genes with `genes=<list-like>` or using `solver='approximate'`.\n"
     ]
    },
    {
     "name": "stderr",
     "output_type": "stream",
     "text": [
      "C:\\Users\\gugli\\AppData\\Roaming\\Python\\Python310\\site-packages\\magic\\magic.py:586: DeprecationWarning: Call to deprecated method warning. (Use TaskLogger.log_warning instead) -- Deprecated since version 1.1.0.\n",
      "  _logger.warning(\n",
      "C:\\Users\\gugli\\AppData\\Roaming\\Python\\Python310\\site-packages\\magic\\magic.py:748: DeprecationWarning: Call to deprecated method task. (Use TaskLogger.log_task instead) -- Deprecated since version 1.1.0.\n",
      "  with _logger.task(\"imputation\"):\n",
      "C:\\Users\\gugli\\AppData\\Roaming\\Python\\Python310\\site-packages\\magic\\magic.py:650: DeprecationWarning: Call to deprecated method task. (Use TaskLogger.log_task instead) -- Deprecated since version 1.1.0.\n",
      "  with _logger.task(\"MAGIC\"):\n",
      "C:\\Users\\gugli\\AppData\\Roaming\\Python\\Python310\\site-packages\\magic\\magic.py:381: DeprecationWarning: Call to deprecated method info. (Use TaskLogger.log_info instead) -- Deprecated since version 1.1.0.\n",
      "  _logger.info(\n",
      "C:\\Users\\gugli\\AppData\\Roaming\\Python\\Python310\\site-packages\\magic\\magic.py:436: DeprecationWarning: Call to deprecated method task. (Use TaskLogger.log_task instead) -- Deprecated since version 1.1.0.\n",
      "  with _logger.task(\"graph and diffusion operator\"):\n"
     ]
    },
    {
     "name": "stdout",
     "output_type": "stream",
     "text": [
      "  Running MAGIC with `solver='exact'` on 25453-dimensional data may take a long time. Consider denoising specific genes with `genes=<list-like>` or using `solver='approximate'`.\n"
     ]
    },
    {
     "name": "stderr",
     "output_type": "stream",
     "text": [
      "C:\\Users\\gugli\\AppData\\Roaming\\Python\\Python310\\site-packages\\magic\\magic.py:586: DeprecationWarning: Call to deprecated method warning. (Use TaskLogger.log_warning instead) -- Deprecated since version 1.1.0.\n",
      "  _logger.warning(\n",
      "C:\\Users\\gugli\\AppData\\Roaming\\Python\\Python310\\site-packages\\magic\\magic.py:748: DeprecationWarning: Call to deprecated method task. (Use TaskLogger.log_task instead) -- Deprecated since version 1.1.0.\n",
      "  with _logger.task(\"imputation\"):\n",
      "C:\\Users\\gugli\\AppData\\Roaming\\Python\\Python310\\site-packages\\magic\\magic.py:650: DeprecationWarning: Call to deprecated method task. (Use TaskLogger.log_task instead) -- Deprecated since version 1.1.0.\n",
      "  with _logger.task(\"MAGIC\"):\n",
      "C:\\Users\\gugli\\AppData\\Roaming\\Python\\Python310\\site-packages\\magic\\magic.py:381: DeprecationWarning: Call to deprecated method info. (Use TaskLogger.log_info instead) -- Deprecated since version 1.1.0.\n",
      "  _logger.info(\n",
      "C:\\Users\\gugli\\AppData\\Roaming\\Python\\Python310\\site-packages\\magic\\magic.py:436: DeprecationWarning: Call to deprecated method task. (Use TaskLogger.log_task instead) -- Deprecated since version 1.1.0.\n",
      "  with _logger.task(\"graph and diffusion operator\"):\n"
     ]
    },
    {
     "name": "stdout",
     "output_type": "stream",
     "text": [
      "  Running MAGIC with `solver='exact'` on 25453-dimensional data may take a long time. Consider denoising specific genes with `genes=<list-like>` or using `solver='approximate'`.\n"
     ]
    },
    {
     "name": "stderr",
     "output_type": "stream",
     "text": [
      "C:\\Users\\gugli\\AppData\\Roaming\\Python\\Python310\\site-packages\\magic\\magic.py:586: DeprecationWarning: Call to deprecated method warning. (Use TaskLogger.log_warning instead) -- Deprecated since version 1.1.0.\n",
      "  _logger.warning(\n",
      "C:\\Users\\gugli\\AppData\\Roaming\\Python\\Python310\\site-packages\\magic\\magic.py:748: DeprecationWarning: Call to deprecated method task. (Use TaskLogger.log_task instead) -- Deprecated since version 1.1.0.\n",
      "  with _logger.task(\"imputation\"):\n",
      "C:\\Users\\gugli\\AppData\\Roaming\\Python\\Python310\\site-packages\\magic\\magic.py:650: DeprecationWarning: Call to deprecated method task. (Use TaskLogger.log_task instead) -- Deprecated since version 1.1.0.\n",
      "  with _logger.task(\"MAGIC\"):\n",
      "C:\\Users\\gugli\\AppData\\Roaming\\Python\\Python310\\site-packages\\magic\\magic.py:381: DeprecationWarning: Call to deprecated method info. (Use TaskLogger.log_info instead) -- Deprecated since version 1.1.0.\n",
      "  _logger.info(\n",
      "C:\\Users\\gugli\\AppData\\Roaming\\Python\\Python310\\site-packages\\magic\\magic.py:436: DeprecationWarning: Call to deprecated method task. (Use TaskLogger.log_task instead) -- Deprecated since version 1.1.0.\n",
      "  with _logger.task(\"graph and diffusion operator\"):\n"
     ]
    },
    {
     "name": "stdout",
     "output_type": "stream",
     "text": [
      "  Running MAGIC with `solver='exact'` on 25453-dimensional data may take a long time. Consider denoising specific genes with `genes=<list-like>` or using `solver='approximate'`.\n"
     ]
    },
    {
     "name": "stderr",
     "output_type": "stream",
     "text": [
      "C:\\Users\\gugli\\AppData\\Roaming\\Python\\Python310\\site-packages\\magic\\magic.py:586: DeprecationWarning: Call to deprecated method warning. (Use TaskLogger.log_warning instead) -- Deprecated since version 1.1.0.\n",
      "  _logger.warning(\n",
      "C:\\Users\\gugli\\AppData\\Roaming\\Python\\Python310\\site-packages\\magic\\magic.py:748: DeprecationWarning: Call to deprecated method task. (Use TaskLogger.log_task instead) -- Deprecated since version 1.1.0.\n",
      "  with _logger.task(\"imputation\"):\n",
      "C:\\Users\\gugli\\AppData\\Roaming\\Python\\Python310\\site-packages\\magic\\magic.py:650: DeprecationWarning: Call to deprecated method task. (Use TaskLogger.log_task instead) -- Deprecated since version 1.1.0.\n",
      "  with _logger.task(\"MAGIC\"):\n",
      "C:\\Users\\gugli\\AppData\\Roaming\\Python\\Python310\\site-packages\\magic\\magic.py:381: DeprecationWarning: Call to deprecated method info. (Use TaskLogger.log_info instead) -- Deprecated since version 1.1.0.\n",
      "  _logger.info(\n",
      "C:\\Users\\gugli\\AppData\\Roaming\\Python\\Python310\\site-packages\\magic\\magic.py:436: DeprecationWarning: Call to deprecated method task. (Use TaskLogger.log_task instead) -- Deprecated since version 1.1.0.\n",
      "  with _logger.task(\"graph and diffusion operator\"):\n"
     ]
    },
    {
     "name": "stdout",
     "output_type": "stream",
     "text": [
      "  Running MAGIC with `solver='exact'` on 25453-dimensional data may take a long time. Consider denoising specific genes with `genes=<list-like>` or using `solver='approximate'`.\n"
     ]
    },
    {
     "name": "stderr",
     "output_type": "stream",
     "text": [
      "C:\\Users\\gugli\\AppData\\Roaming\\Python\\Python310\\site-packages\\magic\\magic.py:586: DeprecationWarning: Call to deprecated method warning. (Use TaskLogger.log_warning instead) -- Deprecated since version 1.1.0.\n",
      "  _logger.warning(\n",
      "C:\\Users\\gugli\\AppData\\Roaming\\Python\\Python310\\site-packages\\magic\\magic.py:748: DeprecationWarning: Call to deprecated method task. (Use TaskLogger.log_task instead) -- Deprecated since version 1.1.0.\n",
      "  with _logger.task(\"imputation\"):\n",
      "C:\\Users\\gugli\\AppData\\Roaming\\Python\\Python310\\site-packages\\magic\\magic.py:650: DeprecationWarning: Call to deprecated method task. (Use TaskLogger.log_task instead) -- Deprecated since version 1.1.0.\n",
      "  with _logger.task(\"MAGIC\"):\n",
      "C:\\Users\\gugli\\AppData\\Roaming\\Python\\Python310\\site-packages\\magic\\magic.py:381: DeprecationWarning: Call to deprecated method info. (Use TaskLogger.log_info instead) -- Deprecated since version 1.1.0.\n",
      "  _logger.info(\n",
      "C:\\Users\\gugli\\AppData\\Roaming\\Python\\Python310\\site-packages\\magic\\magic.py:436: DeprecationWarning: Call to deprecated method task. (Use TaskLogger.log_task instead) -- Deprecated since version 1.1.0.\n",
      "  with _logger.task(\"graph and diffusion operator\"):\n"
     ]
    },
    {
     "name": "stdout",
     "output_type": "stream",
     "text": [
      "  Running MAGIC with `solver='exact'` on 25453-dimensional data may take a long time. Consider denoising specific genes with `genes=<list-like>` or using `solver='approximate'`.\n"
     ]
    },
    {
     "name": "stderr",
     "output_type": "stream",
     "text": [
      "C:\\Users\\gugli\\AppData\\Roaming\\Python\\Python310\\site-packages\\magic\\magic.py:586: DeprecationWarning: Call to deprecated method warning. (Use TaskLogger.log_warning instead) -- Deprecated since version 1.1.0.\n",
      "  _logger.warning(\n",
      "C:\\Users\\gugli\\AppData\\Roaming\\Python\\Python310\\site-packages\\magic\\magic.py:748: DeprecationWarning: Call to deprecated method task. (Use TaskLogger.log_task instead) -- Deprecated since version 1.1.0.\n",
      "  with _logger.task(\"imputation\"):\n",
      "C:\\Users\\gugli\\AppData\\Roaming\\Python\\Python310\\site-packages\\magic\\magic.py:650: DeprecationWarning: Call to deprecated method task. (Use TaskLogger.log_task instead) -- Deprecated since version 1.1.0.\n",
      "  with _logger.task(\"MAGIC\"):\n",
      "C:\\Users\\gugli\\AppData\\Roaming\\Python\\Python310\\site-packages\\magic\\magic.py:381: DeprecationWarning: Call to deprecated method info. (Use TaskLogger.log_info instead) -- Deprecated since version 1.1.0.\n",
      "  _logger.info(\n",
      "C:\\Users\\gugli\\AppData\\Roaming\\Python\\Python310\\site-packages\\magic\\magic.py:436: DeprecationWarning: Call to deprecated method task. (Use TaskLogger.log_task instead) -- Deprecated since version 1.1.0.\n",
      "  with _logger.task(\"graph and diffusion operator\"):\n"
     ]
    },
    {
     "name": "stdout",
     "output_type": "stream",
     "text": [
      "  Running MAGIC with `solver='exact'` on 25453-dimensional data may take a long time. Consider denoising specific genes with `genes=<list-like>` or using `solver='approximate'`.\n"
     ]
    },
    {
     "name": "stderr",
     "output_type": "stream",
     "text": [
      "C:\\Users\\gugli\\AppData\\Roaming\\Python\\Python310\\site-packages\\magic\\magic.py:586: DeprecationWarning: Call to deprecated method warning. (Use TaskLogger.log_warning instead) -- Deprecated since version 1.1.0.\n",
      "  _logger.warning(\n",
      "C:\\Users\\gugli\\AppData\\Roaming\\Python\\Python310\\site-packages\\magic\\magic.py:748: DeprecationWarning: Call to deprecated method task. (Use TaskLogger.log_task instead) -- Deprecated since version 1.1.0.\n",
      "  with _logger.task(\"imputation\"):\n",
      "C:\\Users\\gugli\\AppData\\Roaming\\Python\\Python310\\site-packages\\magic\\magic.py:650: DeprecationWarning: Call to deprecated method task. (Use TaskLogger.log_task instead) -- Deprecated since version 1.1.0.\n",
      "  with _logger.task(\"MAGIC\"):\n",
      "C:\\Users\\gugli\\AppData\\Roaming\\Python\\Python310\\site-packages\\magic\\magic.py:381: DeprecationWarning: Call to deprecated method info. (Use TaskLogger.log_info instead) -- Deprecated since version 1.1.0.\n",
      "  _logger.info(\n",
      "C:\\Users\\gugli\\AppData\\Roaming\\Python\\Python310\\site-packages\\magic\\magic.py:436: DeprecationWarning: Call to deprecated method task. (Use TaskLogger.log_task instead) -- Deprecated since version 1.1.0.\n",
      "  with _logger.task(\"graph and diffusion operator\"):\n"
     ]
    },
    {
     "name": "stdout",
     "output_type": "stream",
     "text": [
      "  Running MAGIC with `solver='exact'` on 25453-dimensional data may take a long time. Consider denoising specific genes with `genes=<list-like>` or using `solver='approximate'`.\n"
     ]
    },
    {
     "name": "stderr",
     "output_type": "stream",
     "text": [
      "C:\\Users\\gugli\\AppData\\Roaming\\Python\\Python310\\site-packages\\magic\\magic.py:586: DeprecationWarning: Call to deprecated method warning. (Use TaskLogger.log_warning instead) -- Deprecated since version 1.1.0.\n",
      "  _logger.warning(\n",
      "C:\\Users\\gugli\\AppData\\Roaming\\Python\\Python310\\site-packages\\magic\\magic.py:748: DeprecationWarning: Call to deprecated method task. (Use TaskLogger.log_task instead) -- Deprecated since version 1.1.0.\n",
      "  with _logger.task(\"imputation\"):\n",
      "C:\\Users\\gugli\\AppData\\Roaming\\Python\\Python310\\site-packages\\magic\\magic.py:650: DeprecationWarning: Call to deprecated method task. (Use TaskLogger.log_task instead) -- Deprecated since version 1.1.0.\n",
      "  with _logger.task(\"MAGIC\"):\n",
      "C:\\Users\\gugli\\AppData\\Roaming\\Python\\Python310\\site-packages\\magic\\magic.py:381: DeprecationWarning: Call to deprecated method info. (Use TaskLogger.log_info instead) -- Deprecated since version 1.1.0.\n",
      "  _logger.info(\n",
      "C:\\Users\\gugli\\AppData\\Roaming\\Python\\Python310\\site-packages\\magic\\magic.py:436: DeprecationWarning: Call to deprecated method task. (Use TaskLogger.log_task instead) -- Deprecated since version 1.1.0.\n",
      "  with _logger.task(\"graph and diffusion operator\"):\n"
     ]
    },
    {
     "name": "stdout",
     "output_type": "stream",
     "text": [
      "  Running MAGIC with `solver='exact'` on 25453-dimensional data may take a long time. Consider denoising specific genes with `genes=<list-like>` or using `solver='approximate'`.\n"
     ]
    },
    {
     "name": "stderr",
     "output_type": "stream",
     "text": [
      "C:\\Users\\gugli\\AppData\\Roaming\\Python\\Python310\\site-packages\\magic\\magic.py:586: DeprecationWarning: Call to deprecated method warning. (Use TaskLogger.log_warning instead) -- Deprecated since version 1.1.0.\n",
      "  _logger.warning(\n",
      "C:\\Users\\gugli\\AppData\\Roaming\\Python\\Python310\\site-packages\\magic\\magic.py:748: DeprecationWarning: Call to deprecated method task. (Use TaskLogger.log_task instead) -- Deprecated since version 1.1.0.\n",
      "  with _logger.task(\"imputation\"):\n",
      "C:\\Users\\gugli\\AppData\\Roaming\\Python\\Python310\\site-packages\\magic\\magic.py:650: DeprecationWarning: Call to deprecated method task. (Use TaskLogger.log_task instead) -- Deprecated since version 1.1.0.\n",
      "  with _logger.task(\"MAGIC\"):\n",
      "C:\\Users\\gugli\\AppData\\Roaming\\Python\\Python310\\site-packages\\magic\\magic.py:381: DeprecationWarning: Call to deprecated method info. (Use TaskLogger.log_info instead) -- Deprecated since version 1.1.0.\n",
      "  _logger.info(\n",
      "C:\\Users\\gugli\\AppData\\Roaming\\Python\\Python310\\site-packages\\magic\\magic.py:436: DeprecationWarning: Call to deprecated method task. (Use TaskLogger.log_task instead) -- Deprecated since version 1.1.0.\n",
      "  with _logger.task(\"graph and diffusion operator\"):\n"
     ]
    },
    {
     "name": "stdout",
     "output_type": "stream",
     "text": [
      "  Running MAGIC with `solver='exact'` on 25453-dimensional data may take a long time. Consider denoising specific genes with `genes=<list-like>` or using `solver='approximate'`.\n"
     ]
    },
    {
     "name": "stderr",
     "output_type": "stream",
     "text": [
      "C:\\Users\\gugli\\AppData\\Roaming\\Python\\Python310\\site-packages\\magic\\magic.py:586: DeprecationWarning: Call to deprecated method warning. (Use TaskLogger.log_warning instead) -- Deprecated since version 1.1.0.\n",
      "  _logger.warning(\n",
      "C:\\Users\\gugli\\AppData\\Roaming\\Python\\Python310\\site-packages\\magic\\magic.py:748: DeprecationWarning: Call to deprecated method task. (Use TaskLogger.log_task instead) -- Deprecated since version 1.1.0.\n",
      "  with _logger.task(\"imputation\"):\n",
      "C:\\Users\\gugli\\AppData\\Roaming\\Python\\Python310\\site-packages\\magic\\magic.py:650: DeprecationWarning: Call to deprecated method task. (Use TaskLogger.log_task instead) -- Deprecated since version 1.1.0.\n",
      "  with _logger.task(\"MAGIC\"):\n",
      "C:\\Users\\gugli\\AppData\\Roaming\\Python\\Python310\\site-packages\\magic\\magic.py:381: DeprecationWarning: Call to deprecated method info. (Use TaskLogger.log_info instead) -- Deprecated since version 1.1.0.\n",
      "  _logger.info(\n",
      "C:\\Users\\gugli\\AppData\\Roaming\\Python\\Python310\\site-packages\\magic\\magic.py:436: DeprecationWarning: Call to deprecated method task. (Use TaskLogger.log_task instead) -- Deprecated since version 1.1.0.\n",
      "  with _logger.task(\"graph and diffusion operator\"):\n"
     ]
    },
    {
     "name": "stdout",
     "output_type": "stream",
     "text": [
      "  Running MAGIC with `solver='exact'` on 25453-dimensional data may take a long time. Consider denoising specific genes with `genes=<list-like>` or using `solver='approximate'`.\n"
     ]
    },
    {
     "name": "stderr",
     "output_type": "stream",
     "text": [
      "C:\\Users\\gugli\\AppData\\Roaming\\Python\\Python310\\site-packages\\magic\\magic.py:586: DeprecationWarning: Call to deprecated method warning. (Use TaskLogger.log_warning instead) -- Deprecated since version 1.1.0.\n",
      "  _logger.warning(\n",
      "C:\\Users\\gugli\\AppData\\Roaming\\Python\\Python310\\site-packages\\magic\\magic.py:748: DeprecationWarning: Call to deprecated method task. (Use TaskLogger.log_task instead) -- Deprecated since version 1.1.0.\n",
      "  with _logger.task(\"imputation\"):\n",
      "C:\\Users\\gugli\\AppData\\Roaming\\Python\\Python310\\site-packages\\magic\\magic.py:650: DeprecationWarning: Call to deprecated method task. (Use TaskLogger.log_task instead) -- Deprecated since version 1.1.0.\n",
      "  with _logger.task(\"MAGIC\"):\n",
      "C:\\Users\\gugli\\AppData\\Roaming\\Python\\Python310\\site-packages\\magic\\magic.py:381: DeprecationWarning: Call to deprecated method info. (Use TaskLogger.log_info instead) -- Deprecated since version 1.1.0.\n",
      "  _logger.info(\n",
      "C:\\Users\\gugli\\AppData\\Roaming\\Python\\Python310\\site-packages\\magic\\magic.py:436: DeprecationWarning: Call to deprecated method task. (Use TaskLogger.log_task instead) -- Deprecated since version 1.1.0.\n",
      "  with _logger.task(\"graph and diffusion operator\"):\n"
     ]
    },
    {
     "name": "stdout",
     "output_type": "stream",
     "text": [
      "  Running MAGIC with `solver='exact'` on 25453-dimensional data may take a long time. Consider denoising specific genes with `genes=<list-like>` or using `solver='approximate'`.\n"
     ]
    },
    {
     "name": "stderr",
     "output_type": "stream",
     "text": [
      "C:\\Users\\gugli\\AppData\\Roaming\\Python\\Python310\\site-packages\\magic\\magic.py:586: DeprecationWarning: Call to deprecated method warning. (Use TaskLogger.log_warning instead) -- Deprecated since version 1.1.0.\n",
      "  _logger.warning(\n",
      "C:\\Users\\gugli\\AppData\\Roaming\\Python\\Python310\\site-packages\\magic\\magic.py:748: DeprecationWarning: Call to deprecated method task. (Use TaskLogger.log_task instead) -- Deprecated since version 1.1.0.\n",
      "  with _logger.task(\"imputation\"):\n",
      "C:\\Users\\gugli\\AppData\\Roaming\\Python\\Python310\\site-packages\\magic\\magic.py:650: DeprecationWarning: Call to deprecated method task. (Use TaskLogger.log_task instead) -- Deprecated since version 1.1.0.\n",
      "  with _logger.task(\"MAGIC\"):\n",
      "C:\\Users\\gugli\\AppData\\Roaming\\Python\\Python310\\site-packages\\magic\\magic.py:381: DeprecationWarning: Call to deprecated method info. (Use TaskLogger.log_info instead) -- Deprecated since version 1.1.0.\n",
      "  _logger.info(\n",
      "C:\\Users\\gugli\\AppData\\Roaming\\Python\\Python310\\site-packages\\magic\\magic.py:436: DeprecationWarning: Call to deprecated method task. (Use TaskLogger.log_task instead) -- Deprecated since version 1.1.0.\n",
      "  with _logger.task(\"graph and diffusion operator\"):\n"
     ]
    },
    {
     "name": "stdout",
     "output_type": "stream",
     "text": [
      "  Running MAGIC with `solver='exact'` on 25453-dimensional data may take a long time. Consider denoising specific genes with `genes=<list-like>` or using `solver='approximate'`.\n"
     ]
    },
    {
     "name": "stderr",
     "output_type": "stream",
     "text": [
      "C:\\Users\\gugli\\AppData\\Roaming\\Python\\Python310\\site-packages\\magic\\magic.py:586: DeprecationWarning: Call to deprecated method warning. (Use TaskLogger.log_warning instead) -- Deprecated since version 1.1.0.\n",
      "  _logger.warning(\n",
      "C:\\Users\\gugli\\AppData\\Roaming\\Python\\Python310\\site-packages\\magic\\magic.py:748: DeprecationWarning: Call to deprecated method task. (Use TaskLogger.log_task instead) -- Deprecated since version 1.1.0.\n",
      "  with _logger.task(\"imputation\"):\n",
      "C:\\Users\\gugli\\AppData\\Roaming\\Python\\Python310\\site-packages\\magic\\magic.py:650: DeprecationWarning: Call to deprecated method task. (Use TaskLogger.log_task instead) -- Deprecated since version 1.1.0.\n",
      "  with _logger.task(\"MAGIC\"):\n",
      "C:\\Users\\gugli\\AppData\\Roaming\\Python\\Python310\\site-packages\\magic\\magic.py:381: DeprecationWarning: Call to deprecated method info. (Use TaskLogger.log_info instead) -- Deprecated since version 1.1.0.\n",
      "  _logger.info(\n",
      "C:\\Users\\gugli\\AppData\\Roaming\\Python\\Python310\\site-packages\\magic\\magic.py:436: DeprecationWarning: Call to deprecated method task. (Use TaskLogger.log_task instead) -- Deprecated since version 1.1.0.\n",
      "  with _logger.task(\"graph and diffusion operator\"):\n"
     ]
    },
    {
     "name": "stdout",
     "output_type": "stream",
     "text": [
      "  Running MAGIC with `solver='exact'` on 25453-dimensional data may take a long time. Consider denoising specific genes with `genes=<list-like>` or using `solver='approximate'`.\n"
     ]
    },
    {
     "name": "stderr",
     "output_type": "stream",
     "text": [
      "C:\\Users\\gugli\\AppData\\Roaming\\Python\\Python310\\site-packages\\magic\\magic.py:586: DeprecationWarning: Call to deprecated method warning. (Use TaskLogger.log_warning instead) -- Deprecated since version 1.1.0.\n",
      "  _logger.warning(\n",
      "C:\\Users\\gugli\\AppData\\Roaming\\Python\\Python310\\site-packages\\magic\\magic.py:748: DeprecationWarning: Call to deprecated method task. (Use TaskLogger.log_task instead) -- Deprecated since version 1.1.0.\n",
      "  with _logger.task(\"imputation\"):\n",
      "C:\\Users\\gugli\\AppData\\Roaming\\Python\\Python310\\site-packages\\magic\\magic.py:650: DeprecationWarning: Call to deprecated method task. (Use TaskLogger.log_task instead) -- Deprecated since version 1.1.0.\n",
      "  with _logger.task(\"MAGIC\"):\n",
      "C:\\Users\\gugli\\AppData\\Roaming\\Python\\Python310\\site-packages\\magic\\magic.py:381: DeprecationWarning: Call to deprecated method info. (Use TaskLogger.log_info instead) -- Deprecated since version 1.1.0.\n",
      "  _logger.info(\n",
      "C:\\Users\\gugli\\AppData\\Roaming\\Python\\Python310\\site-packages\\magic\\magic.py:436: DeprecationWarning: Call to deprecated method task. (Use TaskLogger.log_task instead) -- Deprecated since version 1.1.0.\n",
      "  with _logger.task(\"graph and diffusion operator\"):\n"
     ]
    },
    {
     "name": "stdout",
     "output_type": "stream",
     "text": [
      "  Running MAGIC with `solver='exact'` on 25453-dimensional data may take a long time. Consider denoising specific genes with `genes=<list-like>` or using `solver='approximate'`.\n"
     ]
    },
    {
     "name": "stderr",
     "output_type": "stream",
     "text": [
      "C:\\Users\\gugli\\AppData\\Roaming\\Python\\Python310\\site-packages\\magic\\magic.py:586: DeprecationWarning: Call to deprecated method warning. (Use TaskLogger.log_warning instead) -- Deprecated since version 1.1.0.\n",
      "  _logger.warning(\n",
      "C:\\Users\\gugli\\AppData\\Roaming\\Python\\Python310\\site-packages\\magic\\magic.py:748: DeprecationWarning: Call to deprecated method task. (Use TaskLogger.log_task instead) -- Deprecated since version 1.1.0.\n",
      "  with _logger.task(\"imputation\"):\n",
      "C:\\Users\\gugli\\AppData\\Roaming\\Python\\Python310\\site-packages\\magic\\magic.py:650: DeprecationWarning: Call to deprecated method task. (Use TaskLogger.log_task instead) -- Deprecated since version 1.1.0.\n",
      "  with _logger.task(\"MAGIC\"):\n",
      "C:\\Users\\gugli\\AppData\\Roaming\\Python\\Python310\\site-packages\\magic\\magic.py:381: DeprecationWarning: Call to deprecated method info. (Use TaskLogger.log_info instead) -- Deprecated since version 1.1.0.\n",
      "  _logger.info(\n",
      "C:\\Users\\gugli\\AppData\\Roaming\\Python\\Python310\\site-packages\\magic\\magic.py:436: DeprecationWarning: Call to deprecated method task. (Use TaskLogger.log_task instead) -- Deprecated since version 1.1.0.\n",
      "  with _logger.task(\"graph and diffusion operator\"):\n"
     ]
    },
    {
     "name": "stdout",
     "output_type": "stream",
     "text": [
      "  Running MAGIC with `solver='exact'` on 25453-dimensional data may take a long time. Consider denoising specific genes with `genes=<list-like>` or using `solver='approximate'`.\n"
     ]
    },
    {
     "name": "stderr",
     "output_type": "stream",
     "text": [
      "C:\\Users\\gugli\\AppData\\Roaming\\Python\\Python310\\site-packages\\magic\\magic.py:586: DeprecationWarning: Call to deprecated method warning. (Use TaskLogger.log_warning instead) -- Deprecated since version 1.1.0.\n",
      "  _logger.warning(\n",
      "C:\\Users\\gugli\\AppData\\Roaming\\Python\\Python310\\site-packages\\magic\\magic.py:748: DeprecationWarning: Call to deprecated method task. (Use TaskLogger.log_task instead) -- Deprecated since version 1.1.0.\n",
      "  with _logger.task(\"imputation\"):\n",
      "C:\\Users\\gugli\\AppData\\Roaming\\Python\\Python310\\site-packages\\magic\\magic.py:650: DeprecationWarning: Call to deprecated method task. (Use TaskLogger.log_task instead) -- Deprecated since version 1.1.0.\n",
      "  with _logger.task(\"MAGIC\"):\n",
      "C:\\Users\\gugli\\AppData\\Roaming\\Python\\Python310\\site-packages\\magic\\magic.py:381: DeprecationWarning: Call to deprecated method info. (Use TaskLogger.log_info instead) -- Deprecated since version 1.1.0.\n",
      "  _logger.info(\n",
      "C:\\Users\\gugli\\AppData\\Roaming\\Python\\Python310\\site-packages\\magic\\magic.py:436: DeprecationWarning: Call to deprecated method task. (Use TaskLogger.log_task instead) -- Deprecated since version 1.1.0.\n",
      "  with _logger.task(\"graph and diffusion operator\"):\n"
     ]
    },
    {
     "name": "stdout",
     "output_type": "stream",
     "text": [
      "  Running MAGIC with `solver='exact'` on 25453-dimensional data may take a long time. Consider denoising specific genes with `genes=<list-like>` or using `solver='approximate'`.\n"
     ]
    },
    {
     "name": "stderr",
     "output_type": "stream",
     "text": [
      "C:\\Users\\gugli\\AppData\\Roaming\\Python\\Python310\\site-packages\\magic\\magic.py:586: DeprecationWarning: Call to deprecated method warning. (Use TaskLogger.log_warning instead) -- Deprecated since version 1.1.0.\n",
      "  _logger.warning(\n",
      "C:\\Users\\gugli\\AppData\\Roaming\\Python\\Python310\\site-packages\\magic\\magic.py:748: DeprecationWarning: Call to deprecated method task. (Use TaskLogger.log_task instead) -- Deprecated since version 1.1.0.\n",
      "  with _logger.task(\"imputation\"):\n",
      "C:\\Users\\gugli\\AppData\\Roaming\\Python\\Python310\\site-packages\\magic\\magic.py:650: DeprecationWarning: Call to deprecated method task. (Use TaskLogger.log_task instead) -- Deprecated since version 1.1.0.\n",
      "  with _logger.task(\"MAGIC\"):\n",
      "C:\\Users\\gugli\\AppData\\Roaming\\Python\\Python310\\site-packages\\magic\\magic.py:381: DeprecationWarning: Call to deprecated method info. (Use TaskLogger.log_info instead) -- Deprecated since version 1.1.0.\n",
      "  _logger.info(\n",
      "C:\\Users\\gugli\\AppData\\Roaming\\Python\\Python310\\site-packages\\magic\\magic.py:436: DeprecationWarning: Call to deprecated method task. (Use TaskLogger.log_task instead) -- Deprecated since version 1.1.0.\n",
      "  with _logger.task(\"graph and diffusion operator\"):\n"
     ]
    },
    {
     "name": "stdout",
     "output_type": "stream",
     "text": [
      "  Running MAGIC with `solver='exact'` on 25453-dimensional data may take a long time. Consider denoising specific genes with `genes=<list-like>` or using `solver='approximate'`.\n"
     ]
    },
    {
     "name": "stderr",
     "output_type": "stream",
     "text": [
      "C:\\Users\\gugli\\AppData\\Roaming\\Python\\Python310\\site-packages\\magic\\magic.py:586: DeprecationWarning: Call to deprecated method warning. (Use TaskLogger.log_warning instead) -- Deprecated since version 1.1.0.\n",
      "  _logger.warning(\n",
      "C:\\Users\\gugli\\AppData\\Roaming\\Python\\Python310\\site-packages\\magic\\magic.py:748: DeprecationWarning: Call to deprecated method task. (Use TaskLogger.log_task instead) -- Deprecated since version 1.1.0.\n",
      "  with _logger.task(\"imputation\"):\n",
      "C:\\Users\\gugli\\AppData\\Roaming\\Python\\Python310\\site-packages\\magic\\magic.py:650: DeprecationWarning: Call to deprecated method task. (Use TaskLogger.log_task instead) -- Deprecated since version 1.1.0.\n",
      "  with _logger.task(\"MAGIC\"):\n",
      "C:\\Users\\gugli\\AppData\\Roaming\\Python\\Python310\\site-packages\\magic\\magic.py:381: DeprecationWarning: Call to deprecated method info. (Use TaskLogger.log_info instead) -- Deprecated since version 1.1.0.\n",
      "  _logger.info(\n",
      "C:\\Users\\gugli\\AppData\\Roaming\\Python\\Python310\\site-packages\\magic\\magic.py:436: DeprecationWarning: Call to deprecated method task. (Use TaskLogger.log_task instead) -- Deprecated since version 1.1.0.\n",
      "  with _logger.task(\"graph and diffusion operator\"):\n"
     ]
    },
    {
     "name": "stdout",
     "output_type": "stream",
     "text": [
      "  Running MAGIC with `solver='exact'` on 25453-dimensional data may take a long time. Consider denoising specific genes with `genes=<list-like>` or using `solver='approximate'`.\n"
     ]
    },
    {
     "name": "stderr",
     "output_type": "stream",
     "text": [
      "C:\\Users\\gugli\\AppData\\Roaming\\Python\\Python310\\site-packages\\magic\\magic.py:586: DeprecationWarning: Call to deprecated method warning. (Use TaskLogger.log_warning instead) -- Deprecated since version 1.1.0.\n",
      "  _logger.warning(\n",
      "C:\\Users\\gugli\\AppData\\Roaming\\Python\\Python310\\site-packages\\magic\\magic.py:748: DeprecationWarning: Call to deprecated method task. (Use TaskLogger.log_task instead) -- Deprecated since version 1.1.0.\n",
      "  with _logger.task(\"imputation\"):\n",
      "C:\\Users\\gugli\\AppData\\Roaming\\Python\\Python310\\site-packages\\magic\\magic.py:650: DeprecationWarning: Call to deprecated method task. (Use TaskLogger.log_task instead) -- Deprecated since version 1.1.0.\n",
      "  with _logger.task(\"MAGIC\"):\n",
      "C:\\Users\\gugli\\AppData\\Roaming\\Python\\Python310\\site-packages\\magic\\magic.py:381: DeprecationWarning: Call to deprecated method info. (Use TaskLogger.log_info instead) -- Deprecated since version 1.1.0.\n",
      "  _logger.info(\n",
      "C:\\Users\\gugli\\AppData\\Roaming\\Python\\Python310\\site-packages\\magic\\magic.py:436: DeprecationWarning: Call to deprecated method task. (Use TaskLogger.log_task instead) -- Deprecated since version 1.1.0.\n",
      "  with _logger.task(\"graph and diffusion operator\"):\n"
     ]
    },
    {
     "name": "stdout",
     "output_type": "stream",
     "text": [
      "  Running MAGIC with `solver='exact'` on 25453-dimensional data may take a long time. Consider denoising specific genes with `genes=<list-like>` or using `solver='approximate'`.\n"
     ]
    },
    {
     "name": "stderr",
     "output_type": "stream",
     "text": [
      "C:\\Users\\gugli\\AppData\\Roaming\\Python\\Python310\\site-packages\\magic\\magic.py:586: DeprecationWarning: Call to deprecated method warning. (Use TaskLogger.log_warning instead) -- Deprecated since version 1.1.0.\n",
      "  _logger.warning(\n",
      "C:\\Users\\gugli\\AppData\\Roaming\\Python\\Python310\\site-packages\\magic\\magic.py:748: DeprecationWarning: Call to deprecated method task. (Use TaskLogger.log_task instead) -- Deprecated since version 1.1.0.\n",
      "  with _logger.task(\"imputation\"):\n",
      "C:\\Users\\gugli\\AppData\\Roaming\\Python\\Python310\\site-packages\\magic\\magic.py:650: DeprecationWarning: Call to deprecated method task. (Use TaskLogger.log_task instead) -- Deprecated since version 1.1.0.\n",
      "  with _logger.task(\"MAGIC\"):\n",
      "C:\\Users\\gugli\\AppData\\Roaming\\Python\\Python310\\site-packages\\magic\\magic.py:381: DeprecationWarning: Call to deprecated method info. (Use TaskLogger.log_info instead) -- Deprecated since version 1.1.0.\n",
      "  _logger.info(\n",
      "C:\\Users\\gugli\\AppData\\Roaming\\Python\\Python310\\site-packages\\magic\\magic.py:436: DeprecationWarning: Call to deprecated method task. (Use TaskLogger.log_task instead) -- Deprecated since version 1.1.0.\n",
      "  with _logger.task(\"graph and diffusion operator\"):\n"
     ]
    },
    {
     "name": "stdout",
     "output_type": "stream",
     "text": [
      "  Running MAGIC with `solver='exact'` on 25453-dimensional data may take a long time. Consider denoising specific genes with `genes=<list-like>` or using `solver='approximate'`.\n"
     ]
    },
    {
     "name": "stderr",
     "output_type": "stream",
     "text": [
      "C:\\Users\\gugli\\AppData\\Roaming\\Python\\Python310\\site-packages\\magic\\magic.py:586: DeprecationWarning: Call to deprecated method warning. (Use TaskLogger.log_warning instead) -- Deprecated since version 1.1.0.\n",
      "  _logger.warning(\n",
      "C:\\Users\\gugli\\AppData\\Roaming\\Python\\Python310\\site-packages\\magic\\magic.py:748: DeprecationWarning: Call to deprecated method task. (Use TaskLogger.log_task instead) -- Deprecated since version 1.1.0.\n",
      "  with _logger.task(\"imputation\"):\n",
      "C:\\Users\\gugli\\AppData\\Roaming\\Python\\Python310\\site-packages\\magic\\magic.py:650: DeprecationWarning: Call to deprecated method task. (Use TaskLogger.log_task instead) -- Deprecated since version 1.1.0.\n",
      "  with _logger.task(\"MAGIC\"):\n",
      "C:\\Users\\gugli\\AppData\\Roaming\\Python\\Python310\\site-packages\\magic\\magic.py:381: DeprecationWarning: Call to deprecated method info. (Use TaskLogger.log_info instead) -- Deprecated since version 1.1.0.\n",
      "  _logger.info(\n",
      "C:\\Users\\gugli\\AppData\\Roaming\\Python\\Python310\\site-packages\\magic\\magic.py:436: DeprecationWarning: Call to deprecated method task. (Use TaskLogger.log_task instead) -- Deprecated since version 1.1.0.\n",
      "  with _logger.task(\"graph and diffusion operator\"):\n"
     ]
    },
    {
     "name": "stdout",
     "output_type": "stream",
     "text": [
      "  Running MAGIC with `solver='exact'` on 25453-dimensional data may take a long time. Consider denoising specific genes with `genes=<list-like>` or using `solver='approximate'`.\n"
     ]
    },
    {
     "name": "stderr",
     "output_type": "stream",
     "text": [
      "C:\\Users\\gugli\\AppData\\Roaming\\Python\\Python310\\site-packages\\magic\\magic.py:586: DeprecationWarning: Call to deprecated method warning. (Use TaskLogger.log_warning instead) -- Deprecated since version 1.1.0.\n",
      "  _logger.warning(\n",
      "C:\\Users\\gugli\\AppData\\Roaming\\Python\\Python310\\site-packages\\magic\\magic.py:748: DeprecationWarning: Call to deprecated method task. (Use TaskLogger.log_task instead) -- Deprecated since version 1.1.0.\n",
      "  with _logger.task(\"imputation\"):\n",
      "C:\\Users\\gugli\\AppData\\Roaming\\Python\\Python310\\site-packages\\magic\\magic.py:650: DeprecationWarning: Call to deprecated method task. (Use TaskLogger.log_task instead) -- Deprecated since version 1.1.0.\n",
      "  with _logger.task(\"MAGIC\"):\n",
      "C:\\Users\\gugli\\AppData\\Roaming\\Python\\Python310\\site-packages\\magic\\magic.py:381: DeprecationWarning: Call to deprecated method info. (Use TaskLogger.log_info instead) -- Deprecated since version 1.1.0.\n",
      "  _logger.info(\n",
      "C:\\Users\\gugli\\AppData\\Roaming\\Python\\Python310\\site-packages\\magic\\magic.py:436: DeprecationWarning: Call to deprecated method task. (Use TaskLogger.log_task instead) -- Deprecated since version 1.1.0.\n",
      "  with _logger.task(\"graph and diffusion operator\"):\n"
     ]
    },
    {
     "name": "stdout",
     "output_type": "stream",
     "text": [
      "  Running MAGIC with `solver='exact'` on 25453-dimensional data may take a long time. Consider denoising specific genes with `genes=<list-like>` or using `solver='approximate'`.\n"
     ]
    },
    {
     "name": "stderr",
     "output_type": "stream",
     "text": [
      "C:\\Users\\gugli\\AppData\\Roaming\\Python\\Python310\\site-packages\\magic\\magic.py:586: DeprecationWarning: Call to deprecated method warning. (Use TaskLogger.log_warning instead) -- Deprecated since version 1.1.0.\n",
      "  _logger.warning(\n",
      "C:\\Users\\gugli\\AppData\\Roaming\\Python\\Python310\\site-packages\\magic\\magic.py:748: DeprecationWarning: Call to deprecated method task. (Use TaskLogger.log_task instead) -- Deprecated since version 1.1.0.\n",
      "  with _logger.task(\"imputation\"):\n",
      "C:\\Users\\gugli\\AppData\\Roaming\\Python\\Python310\\site-packages\\magic\\magic.py:650: DeprecationWarning: Call to deprecated method task. (Use TaskLogger.log_task instead) -- Deprecated since version 1.1.0.\n",
      "  with _logger.task(\"MAGIC\"):\n",
      "C:\\Users\\gugli\\AppData\\Roaming\\Python\\Python310\\site-packages\\magic\\magic.py:381: DeprecationWarning: Call to deprecated method info. (Use TaskLogger.log_info instead) -- Deprecated since version 1.1.0.\n",
      "  _logger.info(\n",
      "C:\\Users\\gugli\\AppData\\Roaming\\Python\\Python310\\site-packages\\magic\\magic.py:436: DeprecationWarning: Call to deprecated method task. (Use TaskLogger.log_task instead) -- Deprecated since version 1.1.0.\n",
      "  with _logger.task(\"graph and diffusion operator\"):\n"
     ]
    },
    {
     "name": "stdout",
     "output_type": "stream",
     "text": [
      "  Running MAGIC with `solver='exact'` on 25453-dimensional data may take a long time. Consider denoising specific genes with `genes=<list-like>` or using `solver='approximate'`.\n"
     ]
    },
    {
     "name": "stderr",
     "output_type": "stream",
     "text": [
      "C:\\Users\\gugli\\AppData\\Roaming\\Python\\Python310\\site-packages\\magic\\magic.py:586: DeprecationWarning: Call to deprecated method warning. (Use TaskLogger.log_warning instead) -- Deprecated since version 1.1.0.\n",
      "  _logger.warning(\n",
      "C:\\Users\\gugli\\AppData\\Roaming\\Python\\Python310\\site-packages\\magic\\magic.py:748: DeprecationWarning: Call to deprecated method task. (Use TaskLogger.log_task instead) -- Deprecated since version 1.1.0.\n",
      "  with _logger.task(\"imputation\"):\n",
      "C:\\Users\\gugli\\AppData\\Roaming\\Python\\Python310\\site-packages\\magic\\magic.py:650: DeprecationWarning: Call to deprecated method task. (Use TaskLogger.log_task instead) -- Deprecated since version 1.1.0.\n",
      "  with _logger.task(\"MAGIC\"):\n",
      "C:\\Users\\gugli\\AppData\\Roaming\\Python\\Python310\\site-packages\\magic\\magic.py:381: DeprecationWarning: Call to deprecated method info. (Use TaskLogger.log_info instead) -- Deprecated since version 1.1.0.\n",
      "  _logger.info(\n",
      "C:\\Users\\gugli\\AppData\\Roaming\\Python\\Python310\\site-packages\\magic\\magic.py:436: DeprecationWarning: Call to deprecated method task. (Use TaskLogger.log_task instead) -- Deprecated since version 1.1.0.\n",
      "  with _logger.task(\"graph and diffusion operator\"):\n"
     ]
    },
    {
     "name": "stdout",
     "output_type": "stream",
     "text": [
      "  Running MAGIC with `solver='exact'` on 25453-dimensional data may take a long time. Consider denoising specific genes with `genes=<list-like>` or using `solver='approximate'`.\n"
     ]
    },
    {
     "name": "stderr",
     "output_type": "stream",
     "text": [
      "C:\\Users\\gugli\\AppData\\Roaming\\Python\\Python310\\site-packages\\magic\\magic.py:586: DeprecationWarning: Call to deprecated method warning. (Use TaskLogger.log_warning instead) -- Deprecated since version 1.1.0.\n",
      "  _logger.warning(\n",
      "C:\\Users\\gugli\\AppData\\Roaming\\Python\\Python310\\site-packages\\magic\\magic.py:748: DeprecationWarning: Call to deprecated method task. (Use TaskLogger.log_task instead) -- Deprecated since version 1.1.0.\n",
      "  with _logger.task(\"imputation\"):\n",
      "C:\\Users\\gugli\\AppData\\Roaming\\Python\\Python310\\site-packages\\magic\\magic.py:650: DeprecationWarning: Call to deprecated method task. (Use TaskLogger.log_task instead) -- Deprecated since version 1.1.0.\n",
      "  with _logger.task(\"MAGIC\"):\n",
      "C:\\Users\\gugli\\AppData\\Roaming\\Python\\Python310\\site-packages\\magic\\magic.py:381: DeprecationWarning: Call to deprecated method info. (Use TaskLogger.log_info instead) -- Deprecated since version 1.1.0.\n",
      "  _logger.info(\n",
      "C:\\Users\\gugli\\AppData\\Roaming\\Python\\Python310\\site-packages\\magic\\magic.py:436: DeprecationWarning: Call to deprecated method task. (Use TaskLogger.log_task instead) -- Deprecated since version 1.1.0.\n",
      "  with _logger.task(\"graph and diffusion operator\"):\n"
     ]
    },
    {
     "name": "stdout",
     "output_type": "stream",
     "text": [
      "  Running MAGIC with `solver='exact'` on 25453-dimensional data may take a long time. Consider denoising specific genes with `genes=<list-like>` or using `solver='approximate'`.\n"
     ]
    },
    {
     "name": "stderr",
     "output_type": "stream",
     "text": [
      "C:\\Users\\gugli\\AppData\\Roaming\\Python\\Python310\\site-packages\\magic\\magic.py:586: DeprecationWarning: Call to deprecated method warning. (Use TaskLogger.log_warning instead) -- Deprecated since version 1.1.0.\n",
      "  _logger.warning(\n",
      "C:\\Users\\gugli\\AppData\\Roaming\\Python\\Python310\\site-packages\\magic\\magic.py:748: DeprecationWarning: Call to deprecated method task. (Use TaskLogger.log_task instead) -- Deprecated since version 1.1.0.\n",
      "  with _logger.task(\"imputation\"):\n",
      "C:\\Users\\gugli\\AppData\\Roaming\\Python\\Python310\\site-packages\\magic\\magic.py:650: DeprecationWarning: Call to deprecated method task. (Use TaskLogger.log_task instead) -- Deprecated since version 1.1.0.\n",
      "  with _logger.task(\"MAGIC\"):\n",
      "C:\\Users\\gugli\\AppData\\Roaming\\Python\\Python310\\site-packages\\magic\\magic.py:381: DeprecationWarning: Call to deprecated method info. (Use TaskLogger.log_info instead) -- Deprecated since version 1.1.0.\n",
      "  _logger.info(\n",
      "C:\\Users\\gugli\\AppData\\Roaming\\Python\\Python310\\site-packages\\magic\\magic.py:436: DeprecationWarning: Call to deprecated method task. (Use TaskLogger.log_task instead) -- Deprecated since version 1.1.0.\n",
      "  with _logger.task(\"graph and diffusion operator\"):\n"
     ]
    },
    {
     "name": "stdout",
     "output_type": "stream",
     "text": [
      "  Running MAGIC with `solver='exact'` on 25453-dimensional data may take a long time. Consider denoising specific genes with `genes=<list-like>` or using `solver='approximate'`.\n"
     ]
    },
    {
     "name": "stderr",
     "output_type": "stream",
     "text": [
      "C:\\Users\\gugli\\AppData\\Roaming\\Python\\Python310\\site-packages\\magic\\magic.py:586: DeprecationWarning: Call to deprecated method warning. (Use TaskLogger.log_warning instead) -- Deprecated since version 1.1.0.\n",
      "  _logger.warning(\n",
      "C:\\Users\\gugli\\AppData\\Roaming\\Python\\Python310\\site-packages\\magic\\magic.py:748: DeprecationWarning: Call to deprecated method task. (Use TaskLogger.log_task instead) -- Deprecated since version 1.1.0.\n",
      "  with _logger.task(\"imputation\"):\n",
      "C:\\Users\\gugli\\AppData\\Roaming\\Python\\Python310\\site-packages\\magic\\magic.py:650: DeprecationWarning: Call to deprecated method task. (Use TaskLogger.log_task instead) -- Deprecated since version 1.1.0.\n",
      "  with _logger.task(\"MAGIC\"):\n",
      "C:\\Users\\gugli\\AppData\\Roaming\\Python\\Python310\\site-packages\\magic\\magic.py:381: DeprecationWarning: Call to deprecated method info. (Use TaskLogger.log_info instead) -- Deprecated since version 1.1.0.\n",
      "  _logger.info(\n",
      "C:\\Users\\gugli\\AppData\\Roaming\\Python\\Python310\\site-packages\\magic\\magic.py:436: DeprecationWarning: Call to deprecated method task. (Use TaskLogger.log_task instead) -- Deprecated since version 1.1.0.\n",
      "  with _logger.task(\"graph and diffusion operator\"):\n"
     ]
    },
    {
     "name": "stdout",
     "output_type": "stream",
     "text": [
      "  Running MAGIC with `solver='exact'` on 25453-dimensional data may take a long time. Consider denoising specific genes with `genes=<list-like>` or using `solver='approximate'`.\n"
     ]
    },
    {
     "name": "stderr",
     "output_type": "stream",
     "text": [
      "C:\\Users\\gugli\\AppData\\Roaming\\Python\\Python310\\site-packages\\magic\\magic.py:586: DeprecationWarning: Call to deprecated method warning. (Use TaskLogger.log_warning instead) -- Deprecated since version 1.1.0.\n",
      "  _logger.warning(\n",
      "C:\\Users\\gugli\\AppData\\Roaming\\Python\\Python310\\site-packages\\magic\\magic.py:748: DeprecationWarning: Call to deprecated method task. (Use TaskLogger.log_task instead) -- Deprecated since version 1.1.0.\n",
      "  with _logger.task(\"imputation\"):\n",
      "C:\\Users\\gugli\\AppData\\Roaming\\Python\\Python310\\site-packages\\magic\\magic.py:650: DeprecationWarning: Call to deprecated method task. (Use TaskLogger.log_task instead) -- Deprecated since version 1.1.0.\n",
      "  with _logger.task(\"MAGIC\"):\n",
      "C:\\Users\\gugli\\AppData\\Roaming\\Python\\Python310\\site-packages\\magic\\magic.py:381: DeprecationWarning: Call to deprecated method info. (Use TaskLogger.log_info instead) -- Deprecated since version 1.1.0.\n",
      "  _logger.info(\n",
      "C:\\Users\\gugli\\AppData\\Roaming\\Python\\Python310\\site-packages\\magic\\magic.py:436: DeprecationWarning: Call to deprecated method task. (Use TaskLogger.log_task instead) -- Deprecated since version 1.1.0.\n",
      "  with _logger.task(\"graph and diffusion operator\"):\n"
     ]
    },
    {
     "name": "stdout",
     "output_type": "stream",
     "text": [
      "  Running MAGIC with `solver='exact'` on 25453-dimensional data may take a long time. Consider denoising specific genes with `genes=<list-like>` or using `solver='approximate'`.\n"
     ]
    },
    {
     "name": "stderr",
     "output_type": "stream",
     "text": [
      "C:\\Users\\gugli\\AppData\\Roaming\\Python\\Python310\\site-packages\\magic\\magic.py:586: DeprecationWarning: Call to deprecated method warning. (Use TaskLogger.log_warning instead) -- Deprecated since version 1.1.0.\n",
      "  _logger.warning(\n",
      "C:\\Users\\gugli\\AppData\\Roaming\\Python\\Python310\\site-packages\\magic\\magic.py:748: DeprecationWarning: Call to deprecated method task. (Use TaskLogger.log_task instead) -- Deprecated since version 1.1.0.\n",
      "  with _logger.task(\"imputation\"):\n",
      "C:\\Users\\gugli\\AppData\\Roaming\\Python\\Python310\\site-packages\\magic\\magic.py:650: DeprecationWarning: Call to deprecated method task. (Use TaskLogger.log_task instead) -- Deprecated since version 1.1.0.\n",
      "  with _logger.task(\"MAGIC\"):\n",
      "C:\\Users\\gugli\\AppData\\Roaming\\Python\\Python310\\site-packages\\magic\\magic.py:381: DeprecationWarning: Call to deprecated method info. (Use TaskLogger.log_info instead) -- Deprecated since version 1.1.0.\n",
      "  _logger.info(\n",
      "C:\\Users\\gugli\\AppData\\Roaming\\Python\\Python310\\site-packages\\magic\\magic.py:436: DeprecationWarning: Call to deprecated method task. (Use TaskLogger.log_task instead) -- Deprecated since version 1.1.0.\n",
      "  with _logger.task(\"graph and diffusion operator\"):\n"
     ]
    },
    {
     "name": "stdout",
     "output_type": "stream",
     "text": [
      "  Running MAGIC with `solver='exact'` on 25453-dimensional data may take a long time. Consider denoising specific genes with `genes=<list-like>` or using `solver='approximate'`.\n"
     ]
    },
    {
     "name": "stderr",
     "output_type": "stream",
     "text": [
      "C:\\Users\\gugli\\AppData\\Roaming\\Python\\Python310\\site-packages\\magic\\magic.py:586: DeprecationWarning: Call to deprecated method warning. (Use TaskLogger.log_warning instead) -- Deprecated since version 1.1.0.\n",
      "  _logger.warning(\n",
      "C:\\Users\\gugli\\AppData\\Roaming\\Python\\Python310\\site-packages\\magic\\magic.py:748: DeprecationWarning: Call to deprecated method task. (Use TaskLogger.log_task instead) -- Deprecated since version 1.1.0.\n",
      "  with _logger.task(\"imputation\"):\n",
      "C:\\Users\\gugli\\AppData\\Roaming\\Python\\Python310\\site-packages\\magic\\magic.py:650: DeprecationWarning: Call to deprecated method task. (Use TaskLogger.log_task instead) -- Deprecated since version 1.1.0.\n",
      "  with _logger.task(\"MAGIC\"):\n",
      "C:\\Users\\gugli\\AppData\\Roaming\\Python\\Python310\\site-packages\\magic\\magic.py:381: DeprecationWarning: Call to deprecated method info. (Use TaskLogger.log_info instead) -- Deprecated since version 1.1.0.\n",
      "  _logger.info(\n",
      "C:\\Users\\gugli\\AppData\\Roaming\\Python\\Python310\\site-packages\\magic\\magic.py:436: DeprecationWarning: Call to deprecated method task. (Use TaskLogger.log_task instead) -- Deprecated since version 1.1.0.\n",
      "  with _logger.task(\"graph and diffusion operator\"):\n"
     ]
    },
    {
     "name": "stdout",
     "output_type": "stream",
     "text": [
      "  Running MAGIC with `solver='exact'` on 25453-dimensional data may take a long time. Consider denoising specific genes with `genes=<list-like>` or using `solver='approximate'`.\n"
     ]
    },
    {
     "name": "stderr",
     "output_type": "stream",
     "text": [
      "C:\\Users\\gugli\\AppData\\Roaming\\Python\\Python310\\site-packages\\magic\\magic.py:586: DeprecationWarning: Call to deprecated method warning. (Use TaskLogger.log_warning instead) -- Deprecated since version 1.1.0.\n",
      "  _logger.warning(\n",
      "C:\\Users\\gugli\\AppData\\Roaming\\Python\\Python310\\site-packages\\magic\\magic.py:748: DeprecationWarning: Call to deprecated method task. (Use TaskLogger.log_task instead) -- Deprecated since version 1.1.0.\n",
      "  with _logger.task(\"imputation\"):\n",
      "C:\\Users\\gugli\\AppData\\Roaming\\Python\\Python310\\site-packages\\magic\\magic.py:650: DeprecationWarning: Call to deprecated method task. (Use TaskLogger.log_task instead) -- Deprecated since version 1.1.0.\n",
      "  with _logger.task(\"MAGIC\"):\n",
      "C:\\Users\\gugli\\AppData\\Roaming\\Python\\Python310\\site-packages\\magic\\magic.py:381: DeprecationWarning: Call to deprecated method info. (Use TaskLogger.log_info instead) -- Deprecated since version 1.1.0.\n",
      "  _logger.info(\n",
      "C:\\Users\\gugli\\AppData\\Roaming\\Python\\Python310\\site-packages\\magic\\magic.py:436: DeprecationWarning: Call to deprecated method task. (Use TaskLogger.log_task instead) -- Deprecated since version 1.1.0.\n",
      "  with _logger.task(\"graph and diffusion operator\"):\n"
     ]
    },
    {
     "name": "stdout",
     "output_type": "stream",
     "text": [
      "  Running MAGIC with `solver='exact'` on 25453-dimensional data may take a long time. Consider denoising specific genes with `genes=<list-like>` or using `solver='approximate'`.\n"
     ]
    },
    {
     "name": "stderr",
     "output_type": "stream",
     "text": [
      "C:\\Users\\gugli\\AppData\\Roaming\\Python\\Python310\\site-packages\\magic\\magic.py:586: DeprecationWarning: Call to deprecated method warning. (Use TaskLogger.log_warning instead) -- Deprecated since version 1.1.0.\n",
      "  _logger.warning(\n",
      "C:\\Users\\gugli\\AppData\\Roaming\\Python\\Python310\\site-packages\\magic\\magic.py:748: DeprecationWarning: Call to deprecated method task. (Use TaskLogger.log_task instead) -- Deprecated since version 1.1.0.\n",
      "  with _logger.task(\"imputation\"):\n",
      "C:\\Users\\gugli\\AppData\\Roaming\\Python\\Python310\\site-packages\\magic\\magic.py:650: DeprecationWarning: Call to deprecated method task. (Use TaskLogger.log_task instead) -- Deprecated since version 1.1.0.\n",
      "  with _logger.task(\"MAGIC\"):\n",
      "C:\\Users\\gugli\\AppData\\Roaming\\Python\\Python310\\site-packages\\magic\\magic.py:381: DeprecationWarning: Call to deprecated method info. (Use TaskLogger.log_info instead) -- Deprecated since version 1.1.0.\n",
      "  _logger.info(\n",
      "C:\\Users\\gugli\\AppData\\Roaming\\Python\\Python310\\site-packages\\magic\\magic.py:436: DeprecationWarning: Call to deprecated method task. (Use TaskLogger.log_task instead) -- Deprecated since version 1.1.0.\n",
      "  with _logger.task(\"graph and diffusion operator\"):\n"
     ]
    },
    {
     "name": "stdout",
     "output_type": "stream",
     "text": [
      "  Running MAGIC with `solver='exact'` on 25453-dimensional data may take a long time. Consider denoising specific genes with `genes=<list-like>` or using `solver='approximate'`.\n"
     ]
    },
    {
     "name": "stderr",
     "output_type": "stream",
     "text": [
      "C:\\Users\\gugli\\AppData\\Roaming\\Python\\Python310\\site-packages\\magic\\magic.py:586: DeprecationWarning: Call to deprecated method warning. (Use TaskLogger.log_warning instead) -- Deprecated since version 1.1.0.\n",
      "  _logger.warning(\n",
      "C:\\Users\\gugli\\AppData\\Roaming\\Python\\Python310\\site-packages\\magic\\magic.py:748: DeprecationWarning: Call to deprecated method task. (Use TaskLogger.log_task instead) -- Deprecated since version 1.1.0.\n",
      "  with _logger.task(\"imputation\"):\n",
      "C:\\Users\\gugli\\AppData\\Roaming\\Python\\Python310\\site-packages\\magic\\magic.py:650: DeprecationWarning: Call to deprecated method task. (Use TaskLogger.log_task instead) -- Deprecated since version 1.1.0.\n",
      "  with _logger.task(\"MAGIC\"):\n",
      "C:\\Users\\gugli\\AppData\\Roaming\\Python\\Python310\\site-packages\\magic\\magic.py:381: DeprecationWarning: Call to deprecated method info. (Use TaskLogger.log_info instead) -- Deprecated since version 1.1.0.\n",
      "  _logger.info(\n",
      "C:\\Users\\gugli\\AppData\\Roaming\\Python\\Python310\\site-packages\\magic\\magic.py:436: DeprecationWarning: Call to deprecated method task. (Use TaskLogger.log_task instead) -- Deprecated since version 1.1.0.\n",
      "  with _logger.task(\"graph and diffusion operator\"):\n"
     ]
    },
    {
     "name": "stdout",
     "output_type": "stream",
     "text": [
      "  Running MAGIC with `solver='exact'` on 25453-dimensional data may take a long time. Consider denoising specific genes with `genes=<list-like>` or using `solver='approximate'`.\n"
     ]
    },
    {
     "name": "stderr",
     "output_type": "stream",
     "text": [
      "C:\\Users\\gugli\\AppData\\Roaming\\Python\\Python310\\site-packages\\magic\\magic.py:586: DeprecationWarning: Call to deprecated method warning. (Use TaskLogger.log_warning instead) -- Deprecated since version 1.1.0.\n",
      "  _logger.warning(\n",
      "C:\\Users\\gugli\\AppData\\Roaming\\Python\\Python310\\site-packages\\magic\\magic.py:748: DeprecationWarning: Call to deprecated method task. (Use TaskLogger.log_task instead) -- Deprecated since version 1.1.0.\n",
      "  with _logger.task(\"imputation\"):\n",
      "C:\\Users\\gugli\\AppData\\Roaming\\Python\\Python310\\site-packages\\magic\\magic.py:650: DeprecationWarning: Call to deprecated method task. (Use TaskLogger.log_task instead) -- Deprecated since version 1.1.0.\n",
      "  with _logger.task(\"MAGIC\"):\n",
      "C:\\Users\\gugli\\AppData\\Roaming\\Python\\Python310\\site-packages\\magic\\magic.py:381: DeprecationWarning: Call to deprecated method info. (Use TaskLogger.log_info instead) -- Deprecated since version 1.1.0.\n",
      "  _logger.info(\n",
      "C:\\Users\\gugli\\AppData\\Roaming\\Python\\Python310\\site-packages\\magic\\magic.py:436: DeprecationWarning: Call to deprecated method task. (Use TaskLogger.log_task instead) -- Deprecated since version 1.1.0.\n",
      "  with _logger.task(\"graph and diffusion operator\"):\n"
     ]
    },
    {
     "name": "stdout",
     "output_type": "stream",
     "text": [
      "  Running MAGIC with `solver='exact'` on 25453-dimensional data may take a long time. Consider denoising specific genes with `genes=<list-like>` or using `solver='approximate'`.\n"
     ]
    },
    {
     "name": "stderr",
     "output_type": "stream",
     "text": [
      "C:\\Users\\gugli\\AppData\\Roaming\\Python\\Python310\\site-packages\\magic\\magic.py:586: DeprecationWarning: Call to deprecated method warning. (Use TaskLogger.log_warning instead) -- Deprecated since version 1.1.0.\n",
      "  _logger.warning(\n",
      "C:\\Users\\gugli\\AppData\\Roaming\\Python\\Python310\\site-packages\\magic\\magic.py:748: DeprecationWarning: Call to deprecated method task. (Use TaskLogger.log_task instead) -- Deprecated since version 1.1.0.\n",
      "  with _logger.task(\"imputation\"):\n",
      "C:\\Users\\gugli\\AppData\\Roaming\\Python\\Python310\\site-packages\\magic\\magic.py:650: DeprecationWarning: Call to deprecated method task. (Use TaskLogger.log_task instead) -- Deprecated since version 1.1.0.\n",
      "  with _logger.task(\"MAGIC\"):\n",
      "C:\\Users\\gugli\\AppData\\Roaming\\Python\\Python310\\site-packages\\magic\\magic.py:381: DeprecationWarning: Call to deprecated method info. (Use TaskLogger.log_info instead) -- Deprecated since version 1.1.0.\n",
      "  _logger.info(\n",
      "C:\\Users\\gugli\\AppData\\Roaming\\Python\\Python310\\site-packages\\magic\\magic.py:436: DeprecationWarning: Call to deprecated method task. (Use TaskLogger.log_task instead) -- Deprecated since version 1.1.0.\n",
      "  with _logger.task(\"graph and diffusion operator\"):\n"
     ]
    },
    {
     "name": "stdout",
     "output_type": "stream",
     "text": [
      "  Running MAGIC with `solver='exact'` on 25453-dimensional data may take a long time. Consider denoising specific genes with `genes=<list-like>` or using `solver='approximate'`.\n"
     ]
    },
    {
     "name": "stderr",
     "output_type": "stream",
     "text": [
      "C:\\Users\\gugli\\AppData\\Roaming\\Python\\Python310\\site-packages\\magic\\magic.py:586: DeprecationWarning: Call to deprecated method warning. (Use TaskLogger.log_warning instead) -- Deprecated since version 1.1.0.\n",
      "  _logger.warning(\n",
      "C:\\Users\\gugli\\AppData\\Roaming\\Python\\Python310\\site-packages\\magic\\magic.py:748: DeprecationWarning: Call to deprecated method task. (Use TaskLogger.log_task instead) -- Deprecated since version 1.1.0.\n",
      "  with _logger.task(\"imputation\"):\n",
      "C:\\Users\\gugli\\AppData\\Roaming\\Python\\Python310\\site-packages\\magic\\magic.py:650: DeprecationWarning: Call to deprecated method task. (Use TaskLogger.log_task instead) -- Deprecated since version 1.1.0.\n",
      "  with _logger.task(\"MAGIC\"):\n",
      "C:\\Users\\gugli\\AppData\\Roaming\\Python\\Python310\\site-packages\\magic\\magic.py:381: DeprecationWarning: Call to deprecated method info. (Use TaskLogger.log_info instead) -- Deprecated since version 1.1.0.\n",
      "  _logger.info(\n",
      "C:\\Users\\gugli\\AppData\\Roaming\\Python\\Python310\\site-packages\\magic\\magic.py:436: DeprecationWarning: Call to deprecated method task. (Use TaskLogger.log_task instead) -- Deprecated since version 1.1.0.\n",
      "  with _logger.task(\"graph and diffusion operator\"):\n"
     ]
    },
    {
     "name": "stdout",
     "output_type": "stream",
     "text": [
      "  Running MAGIC with `solver='exact'` on 25453-dimensional data may take a long time. Consider denoising specific genes with `genes=<list-like>` or using `solver='approximate'`.\n"
     ]
    },
    {
     "name": "stderr",
     "output_type": "stream",
     "text": [
      "C:\\Users\\gugli\\AppData\\Roaming\\Python\\Python310\\site-packages\\magic\\magic.py:586: DeprecationWarning: Call to deprecated method warning. (Use TaskLogger.log_warning instead) -- Deprecated since version 1.1.0.\n",
      "  _logger.warning(\n",
      "C:\\Users\\gugli\\AppData\\Roaming\\Python\\Python310\\site-packages\\magic\\magic.py:748: DeprecationWarning: Call to deprecated method task. (Use TaskLogger.log_task instead) -- Deprecated since version 1.1.0.\n",
      "  with _logger.task(\"imputation\"):\n",
      "C:\\Users\\gugli\\AppData\\Roaming\\Python\\Python310\\site-packages\\magic\\magic.py:650: DeprecationWarning: Call to deprecated method task. (Use TaskLogger.log_task instead) -- Deprecated since version 1.1.0.\n",
      "  with _logger.task(\"MAGIC\"):\n",
      "C:\\Users\\gugli\\AppData\\Roaming\\Python\\Python310\\site-packages\\magic\\magic.py:381: DeprecationWarning: Call to deprecated method info. (Use TaskLogger.log_info instead) -- Deprecated since version 1.1.0.\n",
      "  _logger.info(\n",
      "C:\\Users\\gugli\\AppData\\Roaming\\Python\\Python310\\site-packages\\magic\\magic.py:436: DeprecationWarning: Call to deprecated method task. (Use TaskLogger.log_task instead) -- Deprecated since version 1.1.0.\n",
      "  with _logger.task(\"graph and diffusion operator\"):\n"
     ]
    },
    {
     "name": "stdout",
     "output_type": "stream",
     "text": [
      "  Running MAGIC with `solver='exact'` on 25453-dimensional data may take a long time. Consider denoising specific genes with `genes=<list-like>` or using `solver='approximate'`.\n"
     ]
    },
    {
     "name": "stderr",
     "output_type": "stream",
     "text": [
      "C:\\Users\\gugli\\AppData\\Roaming\\Python\\Python310\\site-packages\\magic\\magic.py:586: DeprecationWarning: Call to deprecated method warning. (Use TaskLogger.log_warning instead) -- Deprecated since version 1.1.0.\n",
      "  _logger.warning(\n",
      "C:\\Users\\gugli\\AppData\\Roaming\\Python\\Python310\\site-packages\\magic\\magic.py:748: DeprecationWarning: Call to deprecated method task. (Use TaskLogger.log_task instead) -- Deprecated since version 1.1.0.\n",
      "  with _logger.task(\"imputation\"):\n",
      "C:\\Users\\gugli\\AppData\\Roaming\\Python\\Python310\\site-packages\\magic\\magic.py:650: DeprecationWarning: Call to deprecated method task. (Use TaskLogger.log_task instead) -- Deprecated since version 1.1.0.\n",
      "  with _logger.task(\"MAGIC\"):\n",
      "C:\\Users\\gugli\\AppData\\Roaming\\Python\\Python310\\site-packages\\magic\\magic.py:381: DeprecationWarning: Call to deprecated method info. (Use TaskLogger.log_info instead) -- Deprecated since version 1.1.0.\n",
      "  _logger.info(\n",
      "C:\\Users\\gugli\\AppData\\Roaming\\Python\\Python310\\site-packages\\magic\\magic.py:436: DeprecationWarning: Call to deprecated method task. (Use TaskLogger.log_task instead) -- Deprecated since version 1.1.0.\n",
      "  with _logger.task(\"graph and diffusion operator\"):\n"
     ]
    },
    {
     "name": "stdout",
     "output_type": "stream",
     "text": [
      "  Running MAGIC with `solver='exact'` on 25453-dimensional data may take a long time. Consider denoising specific genes with `genes=<list-like>` or using `solver='approximate'`.\n"
     ]
    },
    {
     "name": "stderr",
     "output_type": "stream",
     "text": [
      "C:\\Users\\gugli\\AppData\\Roaming\\Python\\Python310\\site-packages\\magic\\magic.py:586: DeprecationWarning: Call to deprecated method warning. (Use TaskLogger.log_warning instead) -- Deprecated since version 1.1.0.\n",
      "  _logger.warning(\n",
      "C:\\Users\\gugli\\AppData\\Roaming\\Python\\Python310\\site-packages\\magic\\magic.py:748: DeprecationWarning: Call to deprecated method task. (Use TaskLogger.log_task instead) -- Deprecated since version 1.1.0.\n",
      "  with _logger.task(\"imputation\"):\n",
      "C:\\Users\\gugli\\AppData\\Roaming\\Python\\Python310\\site-packages\\magic\\magic.py:650: DeprecationWarning: Call to deprecated method task. (Use TaskLogger.log_task instead) -- Deprecated since version 1.1.0.\n",
      "  with _logger.task(\"MAGIC\"):\n",
      "C:\\Users\\gugli\\AppData\\Roaming\\Python\\Python310\\site-packages\\magic\\magic.py:381: DeprecationWarning: Call to deprecated method info. (Use TaskLogger.log_info instead) -- Deprecated since version 1.1.0.\n",
      "  _logger.info(\n",
      "C:\\Users\\gugli\\AppData\\Roaming\\Python\\Python310\\site-packages\\magic\\magic.py:436: DeprecationWarning: Call to deprecated method task. (Use TaskLogger.log_task instead) -- Deprecated since version 1.1.0.\n",
      "  with _logger.task(\"graph and diffusion operator\"):\n"
     ]
    },
    {
     "name": "stdout",
     "output_type": "stream",
     "text": [
      "  Running MAGIC with `solver='exact'` on 25453-dimensional data may take a long time. Consider denoising specific genes with `genes=<list-like>` or using `solver='approximate'`.\n"
     ]
    },
    {
     "name": "stderr",
     "output_type": "stream",
     "text": [
      "C:\\Users\\gugli\\AppData\\Roaming\\Python\\Python310\\site-packages\\magic\\magic.py:586: DeprecationWarning: Call to deprecated method warning. (Use TaskLogger.log_warning instead) -- Deprecated since version 1.1.0.\n",
      "  _logger.warning(\n",
      "C:\\Users\\gugli\\AppData\\Roaming\\Python\\Python310\\site-packages\\magic\\magic.py:748: DeprecationWarning: Call to deprecated method task. (Use TaskLogger.log_task instead) -- Deprecated since version 1.1.0.\n",
      "  with _logger.task(\"imputation\"):\n",
      "C:\\Users\\gugli\\AppData\\Roaming\\Python\\Python310\\site-packages\\magic\\magic.py:650: DeprecationWarning: Call to deprecated method task. (Use TaskLogger.log_task instead) -- Deprecated since version 1.1.0.\n",
      "  with _logger.task(\"MAGIC\"):\n",
      "C:\\Users\\gugli\\AppData\\Roaming\\Python\\Python310\\site-packages\\magic\\magic.py:381: DeprecationWarning: Call to deprecated method info. (Use TaskLogger.log_info instead) -- Deprecated since version 1.1.0.\n",
      "  _logger.info(\n",
      "C:\\Users\\gugli\\AppData\\Roaming\\Python\\Python310\\site-packages\\magic\\magic.py:436: DeprecationWarning: Call to deprecated method task. (Use TaskLogger.log_task instead) -- Deprecated since version 1.1.0.\n",
      "  with _logger.task(\"graph and diffusion operator\"):\n"
     ]
    },
    {
     "name": "stdout",
     "output_type": "stream",
     "text": [
      "  Running MAGIC with `solver='exact'` on 25453-dimensional data may take a long time. Consider denoising specific genes with `genes=<list-like>` or using `solver='approximate'`.\n"
     ]
    },
    {
     "name": "stderr",
     "output_type": "stream",
     "text": [
      "C:\\Users\\gugli\\AppData\\Roaming\\Python\\Python310\\site-packages\\magic\\magic.py:586: DeprecationWarning: Call to deprecated method warning. (Use TaskLogger.log_warning instead) -- Deprecated since version 1.1.0.\n",
      "  _logger.warning(\n",
      "C:\\Users\\gugli\\AppData\\Roaming\\Python\\Python310\\site-packages\\magic\\magic.py:748: DeprecationWarning: Call to deprecated method task. (Use TaskLogger.log_task instead) -- Deprecated since version 1.1.0.\n",
      "  with _logger.task(\"imputation\"):\n",
      "C:\\Users\\gugli\\AppData\\Roaming\\Python\\Python310\\site-packages\\magic\\magic.py:650: DeprecationWarning: Call to deprecated method task. (Use TaskLogger.log_task instead) -- Deprecated since version 1.1.0.\n",
      "  with _logger.task(\"MAGIC\"):\n",
      "C:\\Users\\gugli\\AppData\\Roaming\\Python\\Python310\\site-packages\\magic\\magic.py:381: DeprecationWarning: Call to deprecated method info. (Use TaskLogger.log_info instead) -- Deprecated since version 1.1.0.\n",
      "  _logger.info(\n",
      "C:\\Users\\gugli\\AppData\\Roaming\\Python\\Python310\\site-packages\\magic\\magic.py:436: DeprecationWarning: Call to deprecated method task. (Use TaskLogger.log_task instead) -- Deprecated since version 1.1.0.\n",
      "  with _logger.task(\"graph and diffusion operator\"):\n"
     ]
    },
    {
     "name": "stdout",
     "output_type": "stream",
     "text": [
      "  Running MAGIC with `solver='exact'` on 25453-dimensional data may take a long time. Consider denoising specific genes with `genes=<list-like>` or using `solver='approximate'`.\n"
     ]
    },
    {
     "name": "stderr",
     "output_type": "stream",
     "text": [
      "C:\\Users\\gugli\\AppData\\Roaming\\Python\\Python310\\site-packages\\magic\\magic.py:586: DeprecationWarning: Call to deprecated method warning. (Use TaskLogger.log_warning instead) -- Deprecated since version 1.1.0.\n",
      "  _logger.warning(\n",
      "C:\\Users\\gugli\\AppData\\Roaming\\Python\\Python310\\site-packages\\magic\\magic.py:748: DeprecationWarning: Call to deprecated method task. (Use TaskLogger.log_task instead) -- Deprecated since version 1.1.0.\n",
      "  with _logger.task(\"imputation\"):\n",
      "C:\\Users\\gugli\\AppData\\Roaming\\Python\\Python310\\site-packages\\magic\\magic.py:650: DeprecationWarning: Call to deprecated method task. (Use TaskLogger.log_task instead) -- Deprecated since version 1.1.0.\n",
      "  with _logger.task(\"MAGIC\"):\n",
      "C:\\Users\\gugli\\AppData\\Roaming\\Python\\Python310\\site-packages\\magic\\magic.py:381: DeprecationWarning: Call to deprecated method info. (Use TaskLogger.log_info instead) -- Deprecated since version 1.1.0.\n",
      "  _logger.info(\n",
      "C:\\Users\\gugli\\AppData\\Roaming\\Python\\Python310\\site-packages\\magic\\magic.py:436: DeprecationWarning: Call to deprecated method task. (Use TaskLogger.log_task instead) -- Deprecated since version 1.1.0.\n",
      "  with _logger.task(\"graph and diffusion operator\"):\n"
     ]
    },
    {
     "name": "stdout",
     "output_type": "stream",
     "text": [
      "  Running MAGIC with `solver='exact'` on 25453-dimensional data may take a long time. Consider denoising specific genes with `genes=<list-like>` or using `solver='approximate'`.\n"
     ]
    },
    {
     "name": "stderr",
     "output_type": "stream",
     "text": [
      "C:\\Users\\gugli\\AppData\\Roaming\\Python\\Python310\\site-packages\\magic\\magic.py:586: DeprecationWarning: Call to deprecated method warning. (Use TaskLogger.log_warning instead) -- Deprecated since version 1.1.0.\n",
      "  _logger.warning(\n",
      "C:\\Users\\gugli\\AppData\\Roaming\\Python\\Python310\\site-packages\\magic\\magic.py:748: DeprecationWarning: Call to deprecated method task. (Use TaskLogger.log_task instead) -- Deprecated since version 1.1.0.\n",
      "  with _logger.task(\"imputation\"):\n",
      "C:\\Users\\gugli\\AppData\\Roaming\\Python\\Python310\\site-packages\\magic\\magic.py:650: DeprecationWarning: Call to deprecated method task. (Use TaskLogger.log_task instead) -- Deprecated since version 1.1.0.\n",
      "  with _logger.task(\"MAGIC\"):\n",
      "C:\\Users\\gugli\\AppData\\Roaming\\Python\\Python310\\site-packages\\magic\\magic.py:381: DeprecationWarning: Call to deprecated method info. (Use TaskLogger.log_info instead) -- Deprecated since version 1.1.0.\n",
      "  _logger.info(\n",
      "C:\\Users\\gugli\\AppData\\Roaming\\Python\\Python310\\site-packages\\magic\\magic.py:436: DeprecationWarning: Call to deprecated method task. (Use TaskLogger.log_task instead) -- Deprecated since version 1.1.0.\n",
      "  with _logger.task(\"graph and diffusion operator\"):\n"
     ]
    },
    {
     "name": "stdout",
     "output_type": "stream",
     "text": [
      "  Running MAGIC with `solver='exact'` on 25453-dimensional data may take a long time. Consider denoising specific genes with `genes=<list-like>` or using `solver='approximate'`.\n"
     ]
    },
    {
     "name": "stderr",
     "output_type": "stream",
     "text": [
      "C:\\Users\\gugli\\AppData\\Roaming\\Python\\Python310\\site-packages\\magic\\magic.py:586: DeprecationWarning: Call to deprecated method warning. (Use TaskLogger.log_warning instead) -- Deprecated since version 1.1.0.\n",
      "  _logger.warning(\n",
      "C:\\Users\\gugli\\AppData\\Roaming\\Python\\Python310\\site-packages\\magic\\magic.py:748: DeprecationWarning: Call to deprecated method task. (Use TaskLogger.log_task instead) -- Deprecated since version 1.1.0.\n",
      "  with _logger.task(\"imputation\"):\n",
      "C:\\Users\\gugli\\AppData\\Roaming\\Python\\Python310\\site-packages\\magic\\magic.py:650: DeprecationWarning: Call to deprecated method task. (Use TaskLogger.log_task instead) -- Deprecated since version 1.1.0.\n",
      "  with _logger.task(\"MAGIC\"):\n",
      "C:\\Users\\gugli\\AppData\\Roaming\\Python\\Python310\\site-packages\\magic\\magic.py:381: DeprecationWarning: Call to deprecated method info. (Use TaskLogger.log_info instead) -- Deprecated since version 1.1.0.\n",
      "  _logger.info(\n",
      "C:\\Users\\gugli\\AppData\\Roaming\\Python\\Python310\\site-packages\\magic\\magic.py:436: DeprecationWarning: Call to deprecated method task. (Use TaskLogger.log_task instead) -- Deprecated since version 1.1.0.\n",
      "  with _logger.task(\"graph and diffusion operator\"):\n"
     ]
    },
    {
     "name": "stdout",
     "output_type": "stream",
     "text": [
      "  Running MAGIC with `solver='exact'` on 25453-dimensional data may take a long time. Consider denoising specific genes with `genes=<list-like>` or using `solver='approximate'`.\n"
     ]
    },
    {
     "name": "stderr",
     "output_type": "stream",
     "text": [
      "C:\\Users\\gugli\\AppData\\Roaming\\Python\\Python310\\site-packages\\magic\\magic.py:586: DeprecationWarning: Call to deprecated method warning. (Use TaskLogger.log_warning instead) -- Deprecated since version 1.1.0.\n",
      "  _logger.warning(\n",
      "C:\\Users\\gugli\\AppData\\Roaming\\Python\\Python310\\site-packages\\magic\\magic.py:748: DeprecationWarning: Call to deprecated method task. (Use TaskLogger.log_task instead) -- Deprecated since version 1.1.0.\n",
      "  with _logger.task(\"imputation\"):\n",
      "C:\\Users\\gugli\\AppData\\Roaming\\Python\\Python310\\site-packages\\magic\\magic.py:650: DeprecationWarning: Call to deprecated method task. (Use TaskLogger.log_task instead) -- Deprecated since version 1.1.0.\n",
      "  with _logger.task(\"MAGIC\"):\n",
      "C:\\Users\\gugli\\AppData\\Roaming\\Python\\Python310\\site-packages\\magic\\magic.py:381: DeprecationWarning: Call to deprecated method info. (Use TaskLogger.log_info instead) -- Deprecated since version 1.1.0.\n",
      "  _logger.info(\n",
      "C:\\Users\\gugli\\AppData\\Roaming\\Python\\Python310\\site-packages\\magic\\magic.py:436: DeprecationWarning: Call to deprecated method task. (Use TaskLogger.log_task instead) -- Deprecated since version 1.1.0.\n",
      "  with _logger.task(\"graph and diffusion operator\"):\n"
     ]
    },
    {
     "name": "stdout",
     "output_type": "stream",
     "text": [
      "  Running MAGIC with `solver='exact'` on 25453-dimensional data may take a long time. Consider denoising specific genes with `genes=<list-like>` or using `solver='approximate'`.\n"
     ]
    },
    {
     "name": "stderr",
     "output_type": "stream",
     "text": [
      "C:\\Users\\gugli\\AppData\\Roaming\\Python\\Python310\\site-packages\\magic\\magic.py:586: DeprecationWarning: Call to deprecated method warning. (Use TaskLogger.log_warning instead) -- Deprecated since version 1.1.0.\n",
      "  _logger.warning(\n",
      "C:\\Users\\gugli\\AppData\\Roaming\\Python\\Python310\\site-packages\\magic\\magic.py:748: DeprecationWarning: Call to deprecated method task. (Use TaskLogger.log_task instead) -- Deprecated since version 1.1.0.\n",
      "  with _logger.task(\"imputation\"):\n",
      "C:\\Users\\gugli\\AppData\\Roaming\\Python\\Python310\\site-packages\\magic\\magic.py:650: DeprecationWarning: Call to deprecated method task. (Use TaskLogger.log_task instead) -- Deprecated since version 1.1.0.\n",
      "  with _logger.task(\"MAGIC\"):\n",
      "C:\\Users\\gugli\\AppData\\Roaming\\Python\\Python310\\site-packages\\magic\\magic.py:381: DeprecationWarning: Call to deprecated method info. (Use TaskLogger.log_info instead) -- Deprecated since version 1.1.0.\n",
      "  _logger.info(\n",
      "C:\\Users\\gugli\\AppData\\Roaming\\Python\\Python310\\site-packages\\magic\\magic.py:436: DeprecationWarning: Call to deprecated method task. (Use TaskLogger.log_task instead) -- Deprecated since version 1.1.0.\n",
      "  with _logger.task(\"graph and diffusion operator\"):\n"
     ]
    },
    {
     "name": "stdout",
     "output_type": "stream",
     "text": [
      "  Running MAGIC with `solver='exact'` on 25453-dimensional data may take a long time. Consider denoising specific genes with `genes=<list-like>` or using `solver='approximate'`.\n"
     ]
    },
    {
     "name": "stderr",
     "output_type": "stream",
     "text": [
      "C:\\Users\\gugli\\AppData\\Roaming\\Python\\Python310\\site-packages\\magic\\magic.py:586: DeprecationWarning: Call to deprecated method warning. (Use TaskLogger.log_warning instead) -- Deprecated since version 1.1.0.\n",
      "  _logger.warning(\n",
      "C:\\Users\\gugli\\AppData\\Roaming\\Python\\Python310\\site-packages\\magic\\magic.py:748: DeprecationWarning: Call to deprecated method task. (Use TaskLogger.log_task instead) -- Deprecated since version 1.1.0.\n",
      "  with _logger.task(\"imputation\"):\n",
      "C:\\Users\\gugli\\AppData\\Roaming\\Python\\Python310\\site-packages\\magic\\magic.py:650: DeprecationWarning: Call to deprecated method task. (Use TaskLogger.log_task instead) -- Deprecated since version 1.1.0.\n",
      "  with _logger.task(\"MAGIC\"):\n",
      "C:\\Users\\gugli\\AppData\\Roaming\\Python\\Python310\\site-packages\\magic\\magic.py:381: DeprecationWarning: Call to deprecated method info. (Use TaskLogger.log_info instead) -- Deprecated since version 1.1.0.\n",
      "  _logger.info(\n",
      "C:\\Users\\gugli\\AppData\\Roaming\\Python\\Python310\\site-packages\\magic\\magic.py:436: DeprecationWarning: Call to deprecated method task. (Use TaskLogger.log_task instead) -- Deprecated since version 1.1.0.\n",
      "  with _logger.task(\"graph and diffusion operator\"):\n"
     ]
    },
    {
     "name": "stdout",
     "output_type": "stream",
     "text": [
      "  Running MAGIC with `solver='exact'` on 25453-dimensional data may take a long time. Consider denoising specific genes with `genes=<list-like>` or using `solver='approximate'`.\n"
     ]
    },
    {
     "name": "stderr",
     "output_type": "stream",
     "text": [
      "C:\\Users\\gugli\\AppData\\Roaming\\Python\\Python310\\site-packages\\magic\\magic.py:586: DeprecationWarning: Call to deprecated method warning. (Use TaskLogger.log_warning instead) -- Deprecated since version 1.1.0.\n",
      "  _logger.warning(\n",
      "C:\\Users\\gugli\\AppData\\Roaming\\Python\\Python310\\site-packages\\magic\\magic.py:748: DeprecationWarning: Call to deprecated method task. (Use TaskLogger.log_task instead) -- Deprecated since version 1.1.0.\n",
      "  with _logger.task(\"imputation\"):\n",
      "C:\\Users\\gugli\\AppData\\Roaming\\Python\\Python310\\site-packages\\magic\\magic.py:650: DeprecationWarning: Call to deprecated method task. (Use TaskLogger.log_task instead) -- Deprecated since version 1.1.0.\n",
      "  with _logger.task(\"MAGIC\"):\n",
      "C:\\Users\\gugli\\AppData\\Roaming\\Python\\Python310\\site-packages\\magic\\magic.py:381: DeprecationWarning: Call to deprecated method info. (Use TaskLogger.log_info instead) -- Deprecated since version 1.1.0.\n",
      "  _logger.info(\n",
      "C:\\Users\\gugli\\AppData\\Roaming\\Python\\Python310\\site-packages\\magic\\magic.py:436: DeprecationWarning: Call to deprecated method task. (Use TaskLogger.log_task instead) -- Deprecated since version 1.1.0.\n",
      "  with _logger.task(\"graph and diffusion operator\"):\n"
     ]
    },
    {
     "name": "stdout",
     "output_type": "stream",
     "text": [
      "  Running MAGIC with `solver='exact'` on 25453-dimensional data may take a long time. Consider denoising specific genes with `genes=<list-like>` or using `solver='approximate'`.\n"
     ]
    },
    {
     "name": "stderr",
     "output_type": "stream",
     "text": [
      "C:\\Users\\gugli\\AppData\\Roaming\\Python\\Python310\\site-packages\\magic\\magic.py:586: DeprecationWarning: Call to deprecated method warning. (Use TaskLogger.log_warning instead) -- Deprecated since version 1.1.0.\n",
      "  _logger.warning(\n",
      "C:\\Users\\gugli\\AppData\\Roaming\\Python\\Python310\\site-packages\\magic\\magic.py:748: DeprecationWarning: Call to deprecated method task. (Use TaskLogger.log_task instead) -- Deprecated since version 1.1.0.\n",
      "  with _logger.task(\"imputation\"):\n",
      "C:\\Users\\gugli\\AppData\\Roaming\\Python\\Python310\\site-packages\\magic\\magic.py:650: DeprecationWarning: Call to deprecated method task. (Use TaskLogger.log_task instead) -- Deprecated since version 1.1.0.\n",
      "  with _logger.task(\"MAGIC\"):\n",
      "C:\\Users\\gugli\\AppData\\Roaming\\Python\\Python310\\site-packages\\magic\\magic.py:381: DeprecationWarning: Call to deprecated method info. (Use TaskLogger.log_info instead) -- Deprecated since version 1.1.0.\n",
      "  _logger.info(\n",
      "C:\\Users\\gugli\\AppData\\Roaming\\Python\\Python310\\site-packages\\magic\\magic.py:436: DeprecationWarning: Call to deprecated method task. (Use TaskLogger.log_task instead) -- Deprecated since version 1.1.0.\n",
      "  with _logger.task(\"graph and diffusion operator\"):\n"
     ]
    },
    {
     "name": "stdout",
     "output_type": "stream",
     "text": [
      "  Running MAGIC with `solver='exact'` on 25453-dimensional data may take a long time. Consider denoising specific genes with `genes=<list-like>` or using `solver='approximate'`.\n"
     ]
    },
    {
     "name": "stderr",
     "output_type": "stream",
     "text": [
      "C:\\Users\\gugli\\AppData\\Roaming\\Python\\Python310\\site-packages\\magic\\magic.py:586: DeprecationWarning: Call to deprecated method warning. (Use TaskLogger.log_warning instead) -- Deprecated since version 1.1.0.\n",
      "  _logger.warning(\n",
      "C:\\Users\\gugli\\AppData\\Roaming\\Python\\Python310\\site-packages\\magic\\magic.py:748: DeprecationWarning: Call to deprecated method task. (Use TaskLogger.log_task instead) -- Deprecated since version 1.1.0.\n",
      "  with _logger.task(\"imputation\"):\n",
      "C:\\Users\\gugli\\AppData\\Roaming\\Python\\Python310\\site-packages\\magic\\magic.py:650: DeprecationWarning: Call to deprecated method task. (Use TaskLogger.log_task instead) -- Deprecated since version 1.1.0.\n",
      "  with _logger.task(\"MAGIC\"):\n",
      "C:\\Users\\gugli\\AppData\\Roaming\\Python\\Python310\\site-packages\\magic\\magic.py:381: DeprecationWarning: Call to deprecated method info. (Use TaskLogger.log_info instead) -- Deprecated since version 1.1.0.\n",
      "  _logger.info(\n",
      "C:\\Users\\gugli\\AppData\\Roaming\\Python\\Python310\\site-packages\\magic\\magic.py:436: DeprecationWarning: Call to deprecated method task. (Use TaskLogger.log_task instead) -- Deprecated since version 1.1.0.\n",
      "  with _logger.task(\"graph and diffusion operator\"):\n"
     ]
    },
    {
     "name": "stdout",
     "output_type": "stream",
     "text": [
      "  Running MAGIC with `solver='exact'` on 25453-dimensional data may take a long time. Consider denoising specific genes with `genes=<list-like>` or using `solver='approximate'`.\n"
     ]
    },
    {
     "name": "stderr",
     "output_type": "stream",
     "text": [
      "C:\\Users\\gugli\\AppData\\Roaming\\Python\\Python310\\site-packages\\magic\\magic.py:586: DeprecationWarning: Call to deprecated method warning. (Use TaskLogger.log_warning instead) -- Deprecated since version 1.1.0.\n",
      "  _logger.warning(\n",
      "C:\\Users\\gugli\\AppData\\Roaming\\Python\\Python310\\site-packages\\magic\\magic.py:748: DeprecationWarning: Call to deprecated method task. (Use TaskLogger.log_task instead) -- Deprecated since version 1.1.0.\n",
      "  with _logger.task(\"imputation\"):\n",
      "C:\\Users\\gugli\\AppData\\Roaming\\Python\\Python310\\site-packages\\magic\\magic.py:650: DeprecationWarning: Call to deprecated method task. (Use TaskLogger.log_task instead) -- Deprecated since version 1.1.0.\n",
      "  with _logger.task(\"MAGIC\"):\n",
      "C:\\Users\\gugli\\AppData\\Roaming\\Python\\Python310\\site-packages\\magic\\magic.py:381: DeprecationWarning: Call to deprecated method info. (Use TaskLogger.log_info instead) -- Deprecated since version 1.1.0.\n",
      "  _logger.info(\n",
      "C:\\Users\\gugli\\AppData\\Roaming\\Python\\Python310\\site-packages\\magic\\magic.py:436: DeprecationWarning: Call to deprecated method task. (Use TaskLogger.log_task instead) -- Deprecated since version 1.1.0.\n",
      "  with _logger.task(\"graph and diffusion operator\"):\n"
     ]
    },
    {
     "name": "stdout",
     "output_type": "stream",
     "text": [
      "  Running MAGIC with `solver='exact'` on 25453-dimensional data may take a long time. Consider denoising specific genes with `genes=<list-like>` or using `solver='approximate'`.\n"
     ]
    },
    {
     "name": "stderr",
     "output_type": "stream",
     "text": [
      "C:\\Users\\gugli\\AppData\\Roaming\\Python\\Python310\\site-packages\\magic\\magic.py:586: DeprecationWarning: Call to deprecated method warning. (Use TaskLogger.log_warning instead) -- Deprecated since version 1.1.0.\n",
      "  _logger.warning(\n",
      "C:\\Users\\gugli\\AppData\\Roaming\\Python\\Python310\\site-packages\\magic\\magic.py:748: DeprecationWarning: Call to deprecated method task. (Use TaskLogger.log_task instead) -- Deprecated since version 1.1.0.\n",
      "  with _logger.task(\"imputation\"):\n",
      "C:\\Users\\gugli\\AppData\\Roaming\\Python\\Python310\\site-packages\\magic\\magic.py:650: DeprecationWarning: Call to deprecated method task. (Use TaskLogger.log_task instead) -- Deprecated since version 1.1.0.\n",
      "  with _logger.task(\"MAGIC\"):\n",
      "C:\\Users\\gugli\\AppData\\Roaming\\Python\\Python310\\site-packages\\magic\\magic.py:381: DeprecationWarning: Call to deprecated method info. (Use TaskLogger.log_info instead) -- Deprecated since version 1.1.0.\n",
      "  _logger.info(\n",
      "C:\\Users\\gugli\\AppData\\Roaming\\Python\\Python310\\site-packages\\magic\\magic.py:436: DeprecationWarning: Call to deprecated method task. (Use TaskLogger.log_task instead) -- Deprecated since version 1.1.0.\n",
      "  with _logger.task(\"graph and diffusion operator\"):\n"
     ]
    },
    {
     "name": "stdout",
     "output_type": "stream",
     "text": [
      "  Running MAGIC with `solver='exact'` on 25453-dimensional data may take a long time. Consider denoising specific genes with `genes=<list-like>` or using `solver='approximate'`.\n"
     ]
    },
    {
     "name": "stderr",
     "output_type": "stream",
     "text": [
      "C:\\Users\\gugli\\AppData\\Roaming\\Python\\Python310\\site-packages\\magic\\magic.py:586: DeprecationWarning: Call to deprecated method warning. (Use TaskLogger.log_warning instead) -- Deprecated since version 1.1.0.\n",
      "  _logger.warning(\n",
      "C:\\Users\\gugli\\AppData\\Roaming\\Python\\Python310\\site-packages\\magic\\magic.py:748: DeprecationWarning: Call to deprecated method task. (Use TaskLogger.log_task instead) -- Deprecated since version 1.1.0.\n",
      "  with _logger.task(\"imputation\"):\n",
      "C:\\Users\\gugli\\AppData\\Roaming\\Python\\Python310\\site-packages\\magic\\magic.py:650: DeprecationWarning: Call to deprecated method task. (Use TaskLogger.log_task instead) -- Deprecated since version 1.1.0.\n",
      "  with _logger.task(\"MAGIC\"):\n",
      "C:\\Users\\gugli\\AppData\\Roaming\\Python\\Python310\\site-packages\\magic\\magic.py:381: DeprecationWarning: Call to deprecated method info. (Use TaskLogger.log_info instead) -- Deprecated since version 1.1.0.\n",
      "  _logger.info(\n",
      "C:\\Users\\gugli\\AppData\\Roaming\\Python\\Python310\\site-packages\\magic\\magic.py:436: DeprecationWarning: Call to deprecated method task. (Use TaskLogger.log_task instead) -- Deprecated since version 1.1.0.\n",
      "  with _logger.task(\"graph and diffusion operator\"):\n"
     ]
    },
    {
     "name": "stdout",
     "output_type": "stream",
     "text": [
      "  Running MAGIC with `solver='exact'` on 25453-dimensional data may take a long time. Consider denoising specific genes with `genes=<list-like>` or using `solver='approximate'`.\n"
     ]
    },
    {
     "name": "stderr",
     "output_type": "stream",
     "text": [
      "C:\\Users\\gugli\\AppData\\Roaming\\Python\\Python310\\site-packages\\magic\\magic.py:586: DeprecationWarning: Call to deprecated method warning. (Use TaskLogger.log_warning instead) -- Deprecated since version 1.1.0.\n",
      "  _logger.warning(\n",
      "C:\\Users\\gugli\\AppData\\Roaming\\Python\\Python310\\site-packages\\magic\\magic.py:748: DeprecationWarning: Call to deprecated method task. (Use TaskLogger.log_task instead) -- Deprecated since version 1.1.0.\n",
      "  with _logger.task(\"imputation\"):\n",
      "C:\\Users\\gugli\\AppData\\Roaming\\Python\\Python310\\site-packages\\magic\\magic.py:650: DeprecationWarning: Call to deprecated method task. (Use TaskLogger.log_task instead) -- Deprecated since version 1.1.0.\n",
      "  with _logger.task(\"MAGIC\"):\n",
      "C:\\Users\\gugli\\AppData\\Roaming\\Python\\Python310\\site-packages\\magic\\magic.py:381: DeprecationWarning: Call to deprecated method info. (Use TaskLogger.log_info instead) -- Deprecated since version 1.1.0.\n",
      "  _logger.info(\n",
      "C:\\Users\\gugli\\AppData\\Roaming\\Python\\Python310\\site-packages\\magic\\magic.py:436: DeprecationWarning: Call to deprecated method task. (Use TaskLogger.log_task instead) -- Deprecated since version 1.1.0.\n",
      "  with _logger.task(\"graph and diffusion operator\"):\n"
     ]
    },
    {
     "name": "stdout",
     "output_type": "stream",
     "text": [
      "  Running MAGIC with `solver='exact'` on 25453-dimensional data may take a long time. Consider denoising specific genes with `genes=<list-like>` or using `solver='approximate'`.\n"
     ]
    },
    {
     "name": "stderr",
     "output_type": "stream",
     "text": [
      "C:\\Users\\gugli\\AppData\\Roaming\\Python\\Python310\\site-packages\\magic\\magic.py:586: DeprecationWarning: Call to deprecated method warning. (Use TaskLogger.log_warning instead) -- Deprecated since version 1.1.0.\n",
      "  _logger.warning(\n",
      "C:\\Users\\gugli\\AppData\\Roaming\\Python\\Python310\\site-packages\\magic\\magic.py:748: DeprecationWarning: Call to deprecated method task. (Use TaskLogger.log_task instead) -- Deprecated since version 1.1.0.\n",
      "  with _logger.task(\"imputation\"):\n",
      "C:\\Users\\gugli\\AppData\\Roaming\\Python\\Python310\\site-packages\\magic\\magic.py:650: DeprecationWarning: Call to deprecated method task. (Use TaskLogger.log_task instead) -- Deprecated since version 1.1.0.\n",
      "  with _logger.task(\"MAGIC\"):\n",
      "C:\\Users\\gugli\\AppData\\Roaming\\Python\\Python310\\site-packages\\magic\\magic.py:381: DeprecationWarning: Call to deprecated method info. (Use TaskLogger.log_info instead) -- Deprecated since version 1.1.0.\n",
      "  _logger.info(\n",
      "C:\\Users\\gugli\\AppData\\Roaming\\Python\\Python310\\site-packages\\magic\\magic.py:436: DeprecationWarning: Call to deprecated method task. (Use TaskLogger.log_task instead) -- Deprecated since version 1.1.0.\n",
      "  with _logger.task(\"graph and diffusion operator\"):\n"
     ]
    },
    {
     "name": "stdout",
     "output_type": "stream",
     "text": [
      "  Running MAGIC with `solver='exact'` on 25453-dimensional data may take a long time. Consider denoising specific genes with `genes=<list-like>` or using `solver='approximate'`.\n"
     ]
    },
    {
     "name": "stderr",
     "output_type": "stream",
     "text": [
      "C:\\Users\\gugli\\AppData\\Roaming\\Python\\Python310\\site-packages\\magic\\magic.py:586: DeprecationWarning: Call to deprecated method warning. (Use TaskLogger.log_warning instead) -- Deprecated since version 1.1.0.\n",
      "  _logger.warning(\n",
      "C:\\Users\\gugli\\AppData\\Roaming\\Python\\Python310\\site-packages\\magic\\magic.py:748: DeprecationWarning: Call to deprecated method task. (Use TaskLogger.log_task instead) -- Deprecated since version 1.1.0.\n",
      "  with _logger.task(\"imputation\"):\n",
      "C:\\Users\\gugli\\AppData\\Roaming\\Python\\Python310\\site-packages\\magic\\magic.py:650: DeprecationWarning: Call to deprecated method task. (Use TaskLogger.log_task instead) -- Deprecated since version 1.1.0.\n",
      "  with _logger.task(\"MAGIC\"):\n",
      "C:\\Users\\gugli\\AppData\\Roaming\\Python\\Python310\\site-packages\\magic\\magic.py:381: DeprecationWarning: Call to deprecated method info. (Use TaskLogger.log_info instead) -- Deprecated since version 1.1.0.\n",
      "  _logger.info(\n",
      "C:\\Users\\gugli\\AppData\\Roaming\\Python\\Python310\\site-packages\\magic\\magic.py:436: DeprecationWarning: Call to deprecated method task. (Use TaskLogger.log_task instead) -- Deprecated since version 1.1.0.\n",
      "  with _logger.task(\"graph and diffusion operator\"):\n"
     ]
    },
    {
     "name": "stdout",
     "output_type": "stream",
     "text": [
      "  Running MAGIC with `solver='exact'` on 25453-dimensional data may take a long time. Consider denoising specific genes with `genes=<list-like>` or using `solver='approximate'`.\n"
     ]
    },
    {
     "name": "stderr",
     "output_type": "stream",
     "text": [
      "C:\\Users\\gugli\\AppData\\Roaming\\Python\\Python310\\site-packages\\magic\\magic.py:586: DeprecationWarning: Call to deprecated method warning. (Use TaskLogger.log_warning instead) -- Deprecated since version 1.1.0.\n",
      "  _logger.warning(\n",
      "C:\\Users\\gugli\\AppData\\Roaming\\Python\\Python310\\site-packages\\magic\\magic.py:748: DeprecationWarning: Call to deprecated method task. (Use TaskLogger.log_task instead) -- Deprecated since version 1.1.0.\n",
      "  with _logger.task(\"imputation\"):\n",
      "C:\\Users\\gugli\\AppData\\Roaming\\Python\\Python310\\site-packages\\magic\\magic.py:650: DeprecationWarning: Call to deprecated method task. (Use TaskLogger.log_task instead) -- Deprecated since version 1.1.0.\n",
      "  with _logger.task(\"MAGIC\"):\n",
      "C:\\Users\\gugli\\AppData\\Roaming\\Python\\Python310\\site-packages\\magic\\magic.py:381: DeprecationWarning: Call to deprecated method info. (Use TaskLogger.log_info instead) -- Deprecated since version 1.1.0.\n",
      "  _logger.info(\n",
      "C:\\Users\\gugli\\AppData\\Roaming\\Python\\Python310\\site-packages\\magic\\magic.py:436: DeprecationWarning: Call to deprecated method task. (Use TaskLogger.log_task instead) -- Deprecated since version 1.1.0.\n",
      "  with _logger.task(\"graph and diffusion operator\"):\n"
     ]
    },
    {
     "name": "stdout",
     "output_type": "stream",
     "text": [
      "  Running MAGIC with `solver='exact'` on 25453-dimensional data may take a long time. Consider denoising specific genes with `genes=<list-like>` or using `solver='approximate'`.\n"
     ]
    },
    {
     "name": "stderr",
     "output_type": "stream",
     "text": [
      "C:\\Users\\gugli\\AppData\\Roaming\\Python\\Python310\\site-packages\\magic\\magic.py:586: DeprecationWarning: Call to deprecated method warning. (Use TaskLogger.log_warning instead) -- Deprecated since version 1.1.0.\n",
      "  _logger.warning(\n",
      "C:\\Users\\gugli\\AppData\\Roaming\\Python\\Python310\\site-packages\\magic\\magic.py:748: DeprecationWarning: Call to deprecated method task. (Use TaskLogger.log_task instead) -- Deprecated since version 1.1.0.\n",
      "  with _logger.task(\"imputation\"):\n",
      "C:\\Users\\gugli\\AppData\\Roaming\\Python\\Python310\\site-packages\\magic\\magic.py:650: DeprecationWarning: Call to deprecated method task. (Use TaskLogger.log_task instead) -- Deprecated since version 1.1.0.\n",
      "  with _logger.task(\"MAGIC\"):\n",
      "C:\\Users\\gugli\\AppData\\Roaming\\Python\\Python310\\site-packages\\magic\\magic.py:381: DeprecationWarning: Call to deprecated method info. (Use TaskLogger.log_info instead) -- Deprecated since version 1.1.0.\n",
      "  _logger.info(\n",
      "C:\\Users\\gugli\\AppData\\Roaming\\Python\\Python310\\site-packages\\magic\\magic.py:436: DeprecationWarning: Call to deprecated method task. (Use TaskLogger.log_task instead) -- Deprecated since version 1.1.0.\n",
      "  with _logger.task(\"graph and diffusion operator\"):\n"
     ]
    },
    {
     "name": "stdout",
     "output_type": "stream",
     "text": [
      "  Running MAGIC with `solver='exact'` on 25453-dimensional data may take a long time. Consider denoising specific genes with `genes=<list-like>` or using `solver='approximate'`.\n"
     ]
    },
    {
     "name": "stderr",
     "output_type": "stream",
     "text": [
      "C:\\Users\\gugli\\AppData\\Roaming\\Python\\Python310\\site-packages\\magic\\magic.py:586: DeprecationWarning: Call to deprecated method warning. (Use TaskLogger.log_warning instead) -- Deprecated since version 1.1.0.\n",
      "  _logger.warning(\n",
      "C:\\Users\\gugli\\AppData\\Roaming\\Python\\Python310\\site-packages\\magic\\magic.py:748: DeprecationWarning: Call to deprecated method task. (Use TaskLogger.log_task instead) -- Deprecated since version 1.1.0.\n",
      "  with _logger.task(\"imputation\"):\n",
      "C:\\Users\\gugli\\AppData\\Roaming\\Python\\Python310\\site-packages\\magic\\magic.py:650: DeprecationWarning: Call to deprecated method task. (Use TaskLogger.log_task instead) -- Deprecated since version 1.1.0.\n",
      "  with _logger.task(\"MAGIC\"):\n",
      "C:\\Users\\gugli\\AppData\\Roaming\\Python\\Python310\\site-packages\\magic\\magic.py:381: DeprecationWarning: Call to deprecated method info. (Use TaskLogger.log_info instead) -- Deprecated since version 1.1.0.\n",
      "  _logger.info(\n",
      "C:\\Users\\gugli\\AppData\\Roaming\\Python\\Python310\\site-packages\\magic\\magic.py:436: DeprecationWarning: Call to deprecated method task. (Use TaskLogger.log_task instead) -- Deprecated since version 1.1.0.\n",
      "  with _logger.task(\"graph and diffusion operator\"):\n"
     ]
    },
    {
     "name": "stdout",
     "output_type": "stream",
     "text": [
      "  Running MAGIC with `solver='exact'` on 25453-dimensional data may take a long time. Consider denoising specific genes with `genes=<list-like>` or using `solver='approximate'`.\n"
     ]
    },
    {
     "name": "stderr",
     "output_type": "stream",
     "text": [
      "C:\\Users\\gugli\\AppData\\Roaming\\Python\\Python310\\site-packages\\magic\\magic.py:586: DeprecationWarning: Call to deprecated method warning. (Use TaskLogger.log_warning instead) -- Deprecated since version 1.1.0.\n",
      "  _logger.warning(\n",
      "C:\\Users\\gugli\\AppData\\Roaming\\Python\\Python310\\site-packages\\magic\\magic.py:748: DeprecationWarning: Call to deprecated method task. (Use TaskLogger.log_task instead) -- Deprecated since version 1.1.0.\n",
      "  with _logger.task(\"imputation\"):\n",
      "C:\\Users\\gugli\\AppData\\Roaming\\Python\\Python310\\site-packages\\magic\\magic.py:650: DeprecationWarning: Call to deprecated method task. (Use TaskLogger.log_task instead) -- Deprecated since version 1.1.0.\n",
      "  with _logger.task(\"MAGIC\"):\n",
      "C:\\Users\\gugli\\AppData\\Roaming\\Python\\Python310\\site-packages\\magic\\magic.py:381: DeprecationWarning: Call to deprecated method info. (Use TaskLogger.log_info instead) -- Deprecated since version 1.1.0.\n",
      "  _logger.info(\n",
      "C:\\Users\\gugli\\AppData\\Roaming\\Python\\Python310\\site-packages\\magic\\magic.py:436: DeprecationWarning: Call to deprecated method task. (Use TaskLogger.log_task instead) -- Deprecated since version 1.1.0.\n",
      "  with _logger.task(\"graph and diffusion operator\"):\n"
     ]
    },
    {
     "name": "stdout",
     "output_type": "stream",
     "text": [
      "  Running MAGIC with `solver='exact'` on 25453-dimensional data may take a long time. Consider denoising specific genes with `genes=<list-like>` or using `solver='approximate'`.\n"
     ]
    },
    {
     "name": "stderr",
     "output_type": "stream",
     "text": [
      "C:\\Users\\gugli\\AppData\\Roaming\\Python\\Python310\\site-packages\\magic\\magic.py:586: DeprecationWarning: Call to deprecated method warning. (Use TaskLogger.log_warning instead) -- Deprecated since version 1.1.0.\n",
      "  _logger.warning(\n",
      "C:\\Users\\gugli\\AppData\\Roaming\\Python\\Python310\\site-packages\\magic\\magic.py:748: DeprecationWarning: Call to deprecated method task. (Use TaskLogger.log_task instead) -- Deprecated since version 1.1.0.\n",
      "  with _logger.task(\"imputation\"):\n",
      "C:\\Users\\gugli\\AppData\\Roaming\\Python\\Python310\\site-packages\\magic\\magic.py:650: DeprecationWarning: Call to deprecated method task. (Use TaskLogger.log_task instead) -- Deprecated since version 1.1.0.\n",
      "  with _logger.task(\"MAGIC\"):\n",
      "C:\\Users\\gugli\\AppData\\Roaming\\Python\\Python310\\site-packages\\magic\\magic.py:381: DeprecationWarning: Call to deprecated method info. (Use TaskLogger.log_info instead) -- Deprecated since version 1.1.0.\n",
      "  _logger.info(\n",
      "C:\\Users\\gugli\\AppData\\Roaming\\Python\\Python310\\site-packages\\magic\\magic.py:436: DeprecationWarning: Call to deprecated method task. (Use TaskLogger.log_task instead) -- Deprecated since version 1.1.0.\n",
      "  with _logger.task(\"graph and diffusion operator\"):\n"
     ]
    },
    {
     "name": "stdout",
     "output_type": "stream",
     "text": [
      "  Running MAGIC with `solver='exact'` on 25453-dimensional data may take a long time. Consider denoising specific genes with `genes=<list-like>` or using `solver='approximate'`.\n"
     ]
    },
    {
     "name": "stderr",
     "output_type": "stream",
     "text": [
      "C:\\Users\\gugli\\AppData\\Roaming\\Python\\Python310\\site-packages\\magic\\magic.py:586: DeprecationWarning: Call to deprecated method warning. (Use TaskLogger.log_warning instead) -- Deprecated since version 1.1.0.\n",
      "  _logger.warning(\n",
      "C:\\Users\\gugli\\AppData\\Roaming\\Python\\Python310\\site-packages\\magic\\magic.py:748: DeprecationWarning: Call to deprecated method task. (Use TaskLogger.log_task instead) -- Deprecated since version 1.1.0.\n",
      "  with _logger.task(\"imputation\"):\n",
      "C:\\Users\\gugli\\AppData\\Roaming\\Python\\Python310\\site-packages\\magic\\magic.py:650: DeprecationWarning: Call to deprecated method task. (Use TaskLogger.log_task instead) -- Deprecated since version 1.1.0.\n",
      "  with _logger.task(\"MAGIC\"):\n",
      "C:\\Users\\gugli\\AppData\\Roaming\\Python\\Python310\\site-packages\\magic\\magic.py:381: DeprecationWarning: Call to deprecated method info. (Use TaskLogger.log_info instead) -- Deprecated since version 1.1.0.\n",
      "  _logger.info(\n",
      "C:\\Users\\gugli\\AppData\\Roaming\\Python\\Python310\\site-packages\\magic\\magic.py:436: DeprecationWarning: Call to deprecated method task. (Use TaskLogger.log_task instead) -- Deprecated since version 1.1.0.\n",
      "  with _logger.task(\"graph and diffusion operator\"):\n"
     ]
    },
    {
     "name": "stdout",
     "output_type": "stream",
     "text": [
      "  Running MAGIC with `solver='exact'` on 25453-dimensional data may take a long time. Consider denoising specific genes with `genes=<list-like>` or using `solver='approximate'`.\n"
     ]
    },
    {
     "name": "stderr",
     "output_type": "stream",
     "text": [
      "C:\\Users\\gugli\\AppData\\Roaming\\Python\\Python310\\site-packages\\magic\\magic.py:586: DeprecationWarning: Call to deprecated method warning. (Use TaskLogger.log_warning instead) -- Deprecated since version 1.1.0.\n",
      "  _logger.warning(\n",
      "C:\\Users\\gugli\\AppData\\Roaming\\Python\\Python310\\site-packages\\magic\\magic.py:748: DeprecationWarning: Call to deprecated method task. (Use TaskLogger.log_task instead) -- Deprecated since version 1.1.0.\n",
      "  with _logger.task(\"imputation\"):\n",
      "C:\\Users\\gugli\\AppData\\Roaming\\Python\\Python310\\site-packages\\magic\\magic.py:650: DeprecationWarning: Call to deprecated method task. (Use TaskLogger.log_task instead) -- Deprecated since version 1.1.0.\n",
      "  with _logger.task(\"MAGIC\"):\n",
      "C:\\Users\\gugli\\AppData\\Roaming\\Python\\Python310\\site-packages\\magic\\magic.py:381: DeprecationWarning: Call to deprecated method info. (Use TaskLogger.log_info instead) -- Deprecated since version 1.1.0.\n",
      "  _logger.info(\n",
      "C:\\Users\\gugli\\AppData\\Roaming\\Python\\Python310\\site-packages\\magic\\magic.py:436: DeprecationWarning: Call to deprecated method task. (Use TaskLogger.log_task instead) -- Deprecated since version 1.1.0.\n",
      "  with _logger.task(\"graph and diffusion operator\"):\n"
     ]
    },
    {
     "name": "stdout",
     "output_type": "stream",
     "text": [
      "  Running MAGIC with `solver='exact'` on 25453-dimensional data may take a long time. Consider denoising specific genes with `genes=<list-like>` or using `solver='approximate'`.\n"
     ]
    },
    {
     "name": "stderr",
     "output_type": "stream",
     "text": [
      "C:\\Users\\gugli\\AppData\\Roaming\\Python\\Python310\\site-packages\\magic\\magic.py:586: DeprecationWarning: Call to deprecated method warning. (Use TaskLogger.log_warning instead) -- Deprecated since version 1.1.0.\n",
      "  _logger.warning(\n",
      "C:\\Users\\gugli\\AppData\\Roaming\\Python\\Python310\\site-packages\\magic\\magic.py:748: DeprecationWarning: Call to deprecated method task. (Use TaskLogger.log_task instead) -- Deprecated since version 1.1.0.\n",
      "  with _logger.task(\"imputation\"):\n",
      "C:\\Users\\gugli\\AppData\\Roaming\\Python\\Python310\\site-packages\\magic\\magic.py:650: DeprecationWarning: Call to deprecated method task. (Use TaskLogger.log_task instead) -- Deprecated since version 1.1.0.\n",
      "  with _logger.task(\"MAGIC\"):\n",
      "C:\\Users\\gugli\\AppData\\Roaming\\Python\\Python310\\site-packages\\magic\\magic.py:381: DeprecationWarning: Call to deprecated method info. (Use TaskLogger.log_info instead) -- Deprecated since version 1.1.0.\n",
      "  _logger.info(\n",
      "C:\\Users\\gugli\\AppData\\Roaming\\Python\\Python310\\site-packages\\magic\\magic.py:436: DeprecationWarning: Call to deprecated method task. (Use TaskLogger.log_task instead) -- Deprecated since version 1.1.0.\n",
      "  with _logger.task(\"graph and diffusion operator\"):\n"
     ]
    },
    {
     "name": "stdout",
     "output_type": "stream",
     "text": [
      "  Running MAGIC with `solver='exact'` on 25453-dimensional data may take a long time. Consider denoising specific genes with `genes=<list-like>` or using `solver='approximate'`.\n"
     ]
    },
    {
     "name": "stderr",
     "output_type": "stream",
     "text": [
      "C:\\Users\\gugli\\AppData\\Roaming\\Python\\Python310\\site-packages\\magic\\magic.py:586: DeprecationWarning: Call to deprecated method warning. (Use TaskLogger.log_warning instead) -- Deprecated since version 1.1.0.\n",
      "  _logger.warning(\n",
      "C:\\Users\\gugli\\AppData\\Roaming\\Python\\Python310\\site-packages\\magic\\magic.py:748: DeprecationWarning: Call to deprecated method task. (Use TaskLogger.log_task instead) -- Deprecated since version 1.1.0.\n",
      "  with _logger.task(\"imputation\"):\n",
      "C:\\Users\\gugli\\AppData\\Roaming\\Python\\Python310\\site-packages\\magic\\magic.py:650: DeprecationWarning: Call to deprecated method task. (Use TaskLogger.log_task instead) -- Deprecated since version 1.1.0.\n",
      "  with _logger.task(\"MAGIC\"):\n",
      "C:\\Users\\gugli\\AppData\\Roaming\\Python\\Python310\\site-packages\\magic\\magic.py:381: DeprecationWarning: Call to deprecated method info. (Use TaskLogger.log_info instead) -- Deprecated since version 1.1.0.\n",
      "  _logger.info(\n",
      "C:\\Users\\gugli\\AppData\\Roaming\\Python\\Python310\\site-packages\\magic\\magic.py:436: DeprecationWarning: Call to deprecated method task. (Use TaskLogger.log_task instead) -- Deprecated since version 1.1.0.\n",
      "  with _logger.task(\"graph and diffusion operator\"):\n"
     ]
    },
    {
     "name": "stdout",
     "output_type": "stream",
     "text": [
      "  Running MAGIC with `solver='exact'` on 25453-dimensional data may take a long time. Consider denoising specific genes with `genes=<list-like>` or using `solver='approximate'`.\n"
     ]
    },
    {
     "name": "stderr",
     "output_type": "stream",
     "text": [
      "C:\\Users\\gugli\\AppData\\Roaming\\Python\\Python310\\site-packages\\magic\\magic.py:586: DeprecationWarning: Call to deprecated method warning. (Use TaskLogger.log_warning instead) -- Deprecated since version 1.1.0.\n",
      "  _logger.warning(\n",
      "C:\\Users\\gugli\\AppData\\Roaming\\Python\\Python310\\site-packages\\magic\\magic.py:748: DeprecationWarning: Call to deprecated method task. (Use TaskLogger.log_task instead) -- Deprecated since version 1.1.0.\n",
      "  with _logger.task(\"imputation\"):\n",
      "C:\\Users\\gugli\\AppData\\Roaming\\Python\\Python310\\site-packages\\magic\\magic.py:650: DeprecationWarning: Call to deprecated method task. (Use TaskLogger.log_task instead) -- Deprecated since version 1.1.0.\n",
      "  with _logger.task(\"MAGIC\"):\n",
      "C:\\Users\\gugli\\AppData\\Roaming\\Python\\Python310\\site-packages\\magic\\magic.py:381: DeprecationWarning: Call to deprecated method info. (Use TaskLogger.log_info instead) -- Deprecated since version 1.1.0.\n",
      "  _logger.info(\n",
      "C:\\Users\\gugli\\AppData\\Roaming\\Python\\Python310\\site-packages\\magic\\magic.py:436: DeprecationWarning: Call to deprecated method task. (Use TaskLogger.log_task instead) -- Deprecated since version 1.1.0.\n",
      "  with _logger.task(\"graph and diffusion operator\"):\n"
     ]
    },
    {
     "name": "stdout",
     "output_type": "stream",
     "text": [
      "  Running MAGIC with `solver='exact'` on 25453-dimensional data may take a long time. Consider denoising specific genes with `genes=<list-like>` or using `solver='approximate'`.\n"
     ]
    },
    {
     "name": "stderr",
     "output_type": "stream",
     "text": [
      "C:\\Users\\gugli\\AppData\\Roaming\\Python\\Python310\\site-packages\\magic\\magic.py:586: DeprecationWarning: Call to deprecated method warning. (Use TaskLogger.log_warning instead) -- Deprecated since version 1.1.0.\n",
      "  _logger.warning(\n",
      "C:\\Users\\gugli\\AppData\\Roaming\\Python\\Python310\\site-packages\\magic\\magic.py:748: DeprecationWarning: Call to deprecated method task. (Use TaskLogger.log_task instead) -- Deprecated since version 1.1.0.\n",
      "  with _logger.task(\"imputation\"):\n",
      "C:\\Users\\gugli\\AppData\\Roaming\\Python\\Python310\\site-packages\\magic\\magic.py:650: DeprecationWarning: Call to deprecated method task. (Use TaskLogger.log_task instead) -- Deprecated since version 1.1.0.\n",
      "  with _logger.task(\"MAGIC\"):\n",
      "C:\\Users\\gugli\\AppData\\Roaming\\Python\\Python310\\site-packages\\magic\\magic.py:381: DeprecationWarning: Call to deprecated method info. (Use TaskLogger.log_info instead) -- Deprecated since version 1.1.0.\n",
      "  _logger.info(\n",
      "C:\\Users\\gugli\\AppData\\Roaming\\Python\\Python310\\site-packages\\magic\\magic.py:436: DeprecationWarning: Call to deprecated method task. (Use TaskLogger.log_task instead) -- Deprecated since version 1.1.0.\n",
      "  with _logger.task(\"graph and diffusion operator\"):\n"
     ]
    },
    {
     "name": "stdout",
     "output_type": "stream",
     "text": [
      "  Running MAGIC with `solver='exact'` on 25453-dimensional data may take a long time. Consider denoising specific genes with `genes=<list-like>` or using `solver='approximate'`.\n"
     ]
    },
    {
     "name": "stderr",
     "output_type": "stream",
     "text": [
      "C:\\Users\\gugli\\AppData\\Roaming\\Python\\Python310\\site-packages\\magic\\magic.py:586: DeprecationWarning: Call to deprecated method warning. (Use TaskLogger.log_warning instead) -- Deprecated since version 1.1.0.\n",
      "  _logger.warning(\n",
      "C:\\Users\\gugli\\AppData\\Roaming\\Python\\Python310\\site-packages\\magic\\magic.py:748: DeprecationWarning: Call to deprecated method task. (Use TaskLogger.log_task instead) -- Deprecated since version 1.1.0.\n",
      "  with _logger.task(\"imputation\"):\n",
      "C:\\Users\\gugli\\AppData\\Roaming\\Python\\Python310\\site-packages\\magic\\magic.py:650: DeprecationWarning: Call to deprecated method task. (Use TaskLogger.log_task instead) -- Deprecated since version 1.1.0.\n",
      "  with _logger.task(\"MAGIC\"):\n",
      "C:\\Users\\gugli\\AppData\\Roaming\\Python\\Python310\\site-packages\\magic\\magic.py:381: DeprecationWarning: Call to deprecated method info. (Use TaskLogger.log_info instead) -- Deprecated since version 1.1.0.\n",
      "  _logger.info(\n",
      "C:\\Users\\gugli\\AppData\\Roaming\\Python\\Python310\\site-packages\\magic\\magic.py:436: DeprecationWarning: Call to deprecated method task. (Use TaskLogger.log_task instead) -- Deprecated since version 1.1.0.\n",
      "  with _logger.task(\"graph and diffusion operator\"):\n"
     ]
    },
    {
     "name": "stdout",
     "output_type": "stream",
     "text": [
      "  Running MAGIC with `solver='exact'` on 25453-dimensional data may take a long time. Consider denoising specific genes with `genes=<list-like>` or using `solver='approximate'`.\n"
     ]
    },
    {
     "name": "stderr",
     "output_type": "stream",
     "text": [
      "C:\\Users\\gugli\\AppData\\Roaming\\Python\\Python310\\site-packages\\magic\\magic.py:586: DeprecationWarning: Call to deprecated method warning. (Use TaskLogger.log_warning instead) -- Deprecated since version 1.1.0.\n",
      "  _logger.warning(\n",
      "C:\\Users\\gugli\\AppData\\Roaming\\Python\\Python310\\site-packages\\magic\\magic.py:748: DeprecationWarning: Call to deprecated method task. (Use TaskLogger.log_task instead) -- Deprecated since version 1.1.0.\n",
      "  with _logger.task(\"imputation\"):\n",
      "C:\\Users\\gugli\\AppData\\Roaming\\Python\\Python310\\site-packages\\magic\\magic.py:650: DeprecationWarning: Call to deprecated method task. (Use TaskLogger.log_task instead) -- Deprecated since version 1.1.0.\n",
      "  with _logger.task(\"MAGIC\"):\n",
      "C:\\Users\\gugli\\AppData\\Roaming\\Python\\Python310\\site-packages\\magic\\magic.py:381: DeprecationWarning: Call to deprecated method info. (Use TaskLogger.log_info instead) -- Deprecated since version 1.1.0.\n",
      "  _logger.info(\n",
      "C:\\Users\\gugli\\AppData\\Roaming\\Python\\Python310\\site-packages\\magic\\magic.py:436: DeprecationWarning: Call to deprecated method task. (Use TaskLogger.log_task instead) -- Deprecated since version 1.1.0.\n",
      "  with _logger.task(\"graph and diffusion operator\"):\n"
     ]
    },
    {
     "name": "stdout",
     "output_type": "stream",
     "text": [
      "  Running MAGIC with `solver='exact'` on 25453-dimensional data may take a long time. Consider denoising specific genes with `genes=<list-like>` or using `solver='approximate'`.\n"
     ]
    },
    {
     "name": "stderr",
     "output_type": "stream",
     "text": [
      "C:\\Users\\gugli\\AppData\\Roaming\\Python\\Python310\\site-packages\\magic\\magic.py:586: DeprecationWarning: Call to deprecated method warning. (Use TaskLogger.log_warning instead) -- Deprecated since version 1.1.0.\n",
      "  _logger.warning(\n",
      "C:\\Users\\gugli\\AppData\\Roaming\\Python\\Python310\\site-packages\\magic\\magic.py:748: DeprecationWarning: Call to deprecated method task. (Use TaskLogger.log_task instead) -- Deprecated since version 1.1.0.\n",
      "  with _logger.task(\"imputation\"):\n",
      "C:\\Users\\gugli\\AppData\\Roaming\\Python\\Python310\\site-packages\\magic\\magic.py:650: DeprecationWarning: Call to deprecated method task. (Use TaskLogger.log_task instead) -- Deprecated since version 1.1.0.\n",
      "  with _logger.task(\"MAGIC\"):\n",
      "C:\\Users\\gugli\\AppData\\Roaming\\Python\\Python310\\site-packages\\magic\\magic.py:381: DeprecationWarning: Call to deprecated method info. (Use TaskLogger.log_info instead) -- Deprecated since version 1.1.0.\n",
      "  _logger.info(\n",
      "C:\\Users\\gugli\\AppData\\Roaming\\Python\\Python310\\site-packages\\magic\\magic.py:436: DeprecationWarning: Call to deprecated method task. (Use TaskLogger.log_task instead) -- Deprecated since version 1.1.0.\n",
      "  with _logger.task(\"graph and diffusion operator\"):\n"
     ]
    },
    {
     "name": "stdout",
     "output_type": "stream",
     "text": [
      "  Running MAGIC with `solver='exact'` on 25453-dimensional data may take a long time. Consider denoising specific genes with `genes=<list-like>` or using `solver='approximate'`.\n"
     ]
    },
    {
     "name": "stderr",
     "output_type": "stream",
     "text": [
      "C:\\Users\\gugli\\AppData\\Roaming\\Python\\Python310\\site-packages\\magic\\magic.py:586: DeprecationWarning: Call to deprecated method warning. (Use TaskLogger.log_warning instead) -- Deprecated since version 1.1.0.\n",
      "  _logger.warning(\n",
      "C:\\Users\\gugli\\AppData\\Roaming\\Python\\Python310\\site-packages\\magic\\magic.py:748: DeprecationWarning: Call to deprecated method task. (Use TaskLogger.log_task instead) -- Deprecated since version 1.1.0.\n",
      "  with _logger.task(\"imputation\"):\n",
      "C:\\Users\\gugli\\AppData\\Roaming\\Python\\Python310\\site-packages\\magic\\magic.py:650: DeprecationWarning: Call to deprecated method task. (Use TaskLogger.log_task instead) -- Deprecated since version 1.1.0.\n",
      "  with _logger.task(\"MAGIC\"):\n",
      "C:\\Users\\gugli\\AppData\\Roaming\\Python\\Python310\\site-packages\\magic\\magic.py:381: DeprecationWarning: Call to deprecated method info. (Use TaskLogger.log_info instead) -- Deprecated since version 1.1.0.\n",
      "  _logger.info(\n",
      "C:\\Users\\gugli\\AppData\\Roaming\\Python\\Python310\\site-packages\\magic\\magic.py:436: DeprecationWarning: Call to deprecated method task. (Use TaskLogger.log_task instead) -- Deprecated since version 1.1.0.\n",
      "  with _logger.task(\"graph and diffusion operator\"):\n"
     ]
    },
    {
     "name": "stdout",
     "output_type": "stream",
     "text": [
      "  Running MAGIC with `solver='exact'` on 25453-dimensional data may take a long time. Consider denoising specific genes with `genes=<list-like>` or using `solver='approximate'`.\n"
     ]
    },
    {
     "name": "stderr",
     "output_type": "stream",
     "text": [
      "C:\\Users\\gugli\\AppData\\Roaming\\Python\\Python310\\site-packages\\magic\\magic.py:586: DeprecationWarning: Call to deprecated method warning. (Use TaskLogger.log_warning instead) -- Deprecated since version 1.1.0.\n",
      "  _logger.warning(\n",
      "C:\\Users\\gugli\\AppData\\Roaming\\Python\\Python310\\site-packages\\magic\\magic.py:748: DeprecationWarning: Call to deprecated method task. (Use TaskLogger.log_task instead) -- Deprecated since version 1.1.0.\n",
      "  with _logger.task(\"imputation\"):\n",
      "C:\\Users\\gugli\\AppData\\Roaming\\Python\\Python310\\site-packages\\magic\\magic.py:650: DeprecationWarning: Call to deprecated method task. (Use TaskLogger.log_task instead) -- Deprecated since version 1.1.0.\n",
      "  with _logger.task(\"MAGIC\"):\n",
      "C:\\Users\\gugli\\AppData\\Roaming\\Python\\Python310\\site-packages\\magic\\magic.py:381: DeprecationWarning: Call to deprecated method info. (Use TaskLogger.log_info instead) -- Deprecated since version 1.1.0.\n",
      "  _logger.info(\n",
      "C:\\Users\\gugli\\AppData\\Roaming\\Python\\Python310\\site-packages\\magic\\magic.py:436: DeprecationWarning: Call to deprecated method task. (Use TaskLogger.log_task instead) -- Deprecated since version 1.1.0.\n",
      "  with _logger.task(\"graph and diffusion operator\"):\n"
     ]
    },
    {
     "name": "stdout",
     "output_type": "stream",
     "text": [
      "  Running MAGIC with `solver='exact'` on 25453-dimensional data may take a long time. Consider denoising specific genes with `genes=<list-like>` or using `solver='approximate'`.\n"
     ]
    },
    {
     "name": "stderr",
     "output_type": "stream",
     "text": [
      "C:\\Users\\gugli\\AppData\\Roaming\\Python\\Python310\\site-packages\\magic\\magic.py:586: DeprecationWarning: Call to deprecated method warning. (Use TaskLogger.log_warning instead) -- Deprecated since version 1.1.0.\n",
      "  _logger.warning(\n",
      "C:\\Users\\gugli\\AppData\\Roaming\\Python\\Python310\\site-packages\\magic\\magic.py:748: DeprecationWarning: Call to deprecated method task. (Use TaskLogger.log_task instead) -- Deprecated since version 1.1.0.\n",
      "  with _logger.task(\"imputation\"):\n",
      "C:\\Users\\gugli\\AppData\\Roaming\\Python\\Python310\\site-packages\\magic\\magic.py:650: DeprecationWarning: Call to deprecated method task. (Use TaskLogger.log_task instead) -- Deprecated since version 1.1.0.\n",
      "  with _logger.task(\"MAGIC\"):\n",
      "C:\\Users\\gugli\\AppData\\Roaming\\Python\\Python310\\site-packages\\magic\\magic.py:381: DeprecationWarning: Call to deprecated method info. (Use TaskLogger.log_info instead) -- Deprecated since version 1.1.0.\n",
      "  _logger.info(\n",
      "C:\\Users\\gugli\\AppData\\Roaming\\Python\\Python310\\site-packages\\magic\\magic.py:436: DeprecationWarning: Call to deprecated method task. (Use TaskLogger.log_task instead) -- Deprecated since version 1.1.0.\n",
      "  with _logger.task(\"graph and diffusion operator\"):\n"
     ]
    },
    {
     "name": "stdout",
     "output_type": "stream",
     "text": [
      "  Running MAGIC with `solver='exact'` on 25453-dimensional data may take a long time. Consider denoising specific genes with `genes=<list-like>` or using `solver='approximate'`.\n"
     ]
    },
    {
     "name": "stderr",
     "output_type": "stream",
     "text": [
      "C:\\Users\\gugli\\AppData\\Roaming\\Python\\Python310\\site-packages\\magic\\magic.py:586: DeprecationWarning: Call to deprecated method warning. (Use TaskLogger.log_warning instead) -- Deprecated since version 1.1.0.\n",
      "  _logger.warning(\n",
      "C:\\Users\\gugli\\AppData\\Roaming\\Python\\Python310\\site-packages\\magic\\magic.py:748: DeprecationWarning: Call to deprecated method task. (Use TaskLogger.log_task instead) -- Deprecated since version 1.1.0.\n",
      "  with _logger.task(\"imputation\"):\n",
      "C:\\Users\\gugli\\AppData\\Roaming\\Python\\Python310\\site-packages\\magic\\magic.py:650: DeprecationWarning: Call to deprecated method task. (Use TaskLogger.log_task instead) -- Deprecated since version 1.1.0.\n",
      "  with _logger.task(\"MAGIC\"):\n",
      "C:\\Users\\gugli\\AppData\\Roaming\\Python\\Python310\\site-packages\\magic\\magic.py:381: DeprecationWarning: Call to deprecated method info. (Use TaskLogger.log_info instead) -- Deprecated since version 1.1.0.\n",
      "  _logger.info(\n",
      "C:\\Users\\gugli\\AppData\\Roaming\\Python\\Python310\\site-packages\\magic\\magic.py:436: DeprecationWarning: Call to deprecated method task. (Use TaskLogger.log_task instead) -- Deprecated since version 1.1.0.\n",
      "  with _logger.task(\"graph and diffusion operator\"):\n"
     ]
    },
    {
     "name": "stdout",
     "output_type": "stream",
     "text": [
      "  Running MAGIC with `solver='exact'` on 25453-dimensional data may take a long time. Consider denoising specific genes with `genes=<list-like>` or using `solver='approximate'`.\n"
     ]
    },
    {
     "name": "stderr",
     "output_type": "stream",
     "text": [
      "C:\\Users\\gugli\\AppData\\Roaming\\Python\\Python310\\site-packages\\magic\\magic.py:586: DeprecationWarning: Call to deprecated method warning. (Use TaskLogger.log_warning instead) -- Deprecated since version 1.1.0.\n",
      "  _logger.warning(\n",
      "C:\\Users\\gugli\\AppData\\Roaming\\Python\\Python310\\site-packages\\magic\\magic.py:748: DeprecationWarning: Call to deprecated method task. (Use TaskLogger.log_task instead) -- Deprecated since version 1.1.0.\n",
      "  with _logger.task(\"imputation\"):\n",
      "C:\\Users\\gugli\\AppData\\Roaming\\Python\\Python310\\site-packages\\magic\\magic.py:650: DeprecationWarning: Call to deprecated method task. (Use TaskLogger.log_task instead) -- Deprecated since version 1.1.0.\n",
      "  with _logger.task(\"MAGIC\"):\n",
      "C:\\Users\\gugli\\AppData\\Roaming\\Python\\Python310\\site-packages\\magic\\magic.py:381: DeprecationWarning: Call to deprecated method info. (Use TaskLogger.log_info instead) -- Deprecated since version 1.1.0.\n",
      "  _logger.info(\n",
      "C:\\Users\\gugli\\AppData\\Roaming\\Python\\Python310\\site-packages\\magic\\magic.py:436: DeprecationWarning: Call to deprecated method task. (Use TaskLogger.log_task instead) -- Deprecated since version 1.1.0.\n",
      "  with _logger.task(\"graph and diffusion operator\"):\n"
     ]
    },
    {
     "name": "stdout",
     "output_type": "stream",
     "text": [
      "  Running MAGIC with `solver='exact'` on 25453-dimensional data may take a long time. Consider denoising specific genes with `genes=<list-like>` or using `solver='approximate'`.\n"
     ]
    },
    {
     "name": "stderr",
     "output_type": "stream",
     "text": [
      "C:\\Users\\gugli\\AppData\\Roaming\\Python\\Python310\\site-packages\\magic\\magic.py:586: DeprecationWarning: Call to deprecated method warning. (Use TaskLogger.log_warning instead) -- Deprecated since version 1.1.0.\n",
      "  _logger.warning(\n",
      "C:\\Users\\gugli\\AppData\\Roaming\\Python\\Python310\\site-packages\\magic\\magic.py:748: DeprecationWarning: Call to deprecated method task. (Use TaskLogger.log_task instead) -- Deprecated since version 1.1.0.\n",
      "  with _logger.task(\"imputation\"):\n",
      "C:\\Users\\gugli\\AppData\\Roaming\\Python\\Python310\\site-packages\\magic\\magic.py:650: DeprecationWarning: Call to deprecated method task. (Use TaskLogger.log_task instead) -- Deprecated since version 1.1.0.\n",
      "  with _logger.task(\"MAGIC\"):\n",
      "C:\\Users\\gugli\\AppData\\Roaming\\Python\\Python310\\site-packages\\magic\\magic.py:381: DeprecationWarning: Call to deprecated method info. (Use TaskLogger.log_info instead) -- Deprecated since version 1.1.0.\n",
      "  _logger.info(\n",
      "C:\\Users\\gugli\\AppData\\Roaming\\Python\\Python310\\site-packages\\magic\\magic.py:436: DeprecationWarning: Call to deprecated method task. (Use TaskLogger.log_task instead) -- Deprecated since version 1.1.0.\n",
      "  with _logger.task(\"graph and diffusion operator\"):\n"
     ]
    },
    {
     "name": "stdout",
     "output_type": "stream",
     "text": [
      "  Running MAGIC with `solver='exact'` on 25453-dimensional data may take a long time. Consider denoising specific genes with `genes=<list-like>` or using `solver='approximate'`.\n"
     ]
    },
    {
     "name": "stderr",
     "output_type": "stream",
     "text": [
      "C:\\Users\\gugli\\AppData\\Roaming\\Python\\Python310\\site-packages\\magic\\magic.py:586: DeprecationWarning: Call to deprecated method warning. (Use TaskLogger.log_warning instead) -- Deprecated since version 1.1.0.\n",
      "  _logger.warning(\n",
      "C:\\Users\\gugli\\AppData\\Roaming\\Python\\Python310\\site-packages\\magic\\magic.py:748: DeprecationWarning: Call to deprecated method task. (Use TaskLogger.log_task instead) -- Deprecated since version 1.1.0.\n",
      "  with _logger.task(\"imputation\"):\n",
      "C:\\Users\\gugli\\AppData\\Roaming\\Python\\Python310\\site-packages\\magic\\magic.py:650: DeprecationWarning: Call to deprecated method task. (Use TaskLogger.log_task instead) -- Deprecated since version 1.1.0.\n",
      "  with _logger.task(\"MAGIC\"):\n",
      "C:\\Users\\gugli\\AppData\\Roaming\\Python\\Python310\\site-packages\\magic\\magic.py:381: DeprecationWarning: Call to deprecated method info. (Use TaskLogger.log_info instead) -- Deprecated since version 1.1.0.\n",
      "  _logger.info(\n",
      "C:\\Users\\gugli\\AppData\\Roaming\\Python\\Python310\\site-packages\\magic\\magic.py:436: DeprecationWarning: Call to deprecated method task. (Use TaskLogger.log_task instead) -- Deprecated since version 1.1.0.\n",
      "  with _logger.task(\"graph and diffusion operator\"):\n"
     ]
    },
    {
     "name": "stdout",
     "output_type": "stream",
     "text": [
      "  Running MAGIC with `solver='exact'` on 25453-dimensional data may take a long time. Consider denoising specific genes with `genes=<list-like>` or using `solver='approximate'`.\n"
     ]
    },
    {
     "name": "stderr",
     "output_type": "stream",
     "text": [
      "C:\\Users\\gugli\\AppData\\Roaming\\Python\\Python310\\site-packages\\magic\\magic.py:586: DeprecationWarning: Call to deprecated method warning. (Use TaskLogger.log_warning instead) -- Deprecated since version 1.1.0.\n",
      "  _logger.warning(\n",
      "C:\\Users\\gugli\\AppData\\Roaming\\Python\\Python310\\site-packages\\magic\\magic.py:748: DeprecationWarning: Call to deprecated method task. (Use TaskLogger.log_task instead) -- Deprecated since version 1.1.0.\n",
      "  with _logger.task(\"imputation\"):\n",
      "C:\\Users\\gugli\\AppData\\Roaming\\Python\\Python310\\site-packages\\magic\\magic.py:650: DeprecationWarning: Call to deprecated method task. (Use TaskLogger.log_task instead) -- Deprecated since version 1.1.0.\n",
      "  with _logger.task(\"MAGIC\"):\n",
      "C:\\Users\\gugli\\AppData\\Roaming\\Python\\Python310\\site-packages\\magic\\magic.py:381: DeprecationWarning: Call to deprecated method info. (Use TaskLogger.log_info instead) -- Deprecated since version 1.1.0.\n",
      "  _logger.info(\n",
      "C:\\Users\\gugli\\AppData\\Roaming\\Python\\Python310\\site-packages\\magic\\magic.py:436: DeprecationWarning: Call to deprecated method task. (Use TaskLogger.log_task instead) -- Deprecated since version 1.1.0.\n",
      "  with _logger.task(\"graph and diffusion operator\"):\n"
     ]
    },
    {
     "name": "stdout",
     "output_type": "stream",
     "text": [
      "  Running MAGIC with `solver='exact'` on 25453-dimensional data may take a long time. Consider denoising specific genes with `genes=<list-like>` or using `solver='approximate'`.\n"
     ]
    },
    {
     "name": "stderr",
     "output_type": "stream",
     "text": [
      "C:\\Users\\gugli\\AppData\\Roaming\\Python\\Python310\\site-packages\\magic\\magic.py:586: DeprecationWarning: Call to deprecated method warning. (Use TaskLogger.log_warning instead) -- Deprecated since version 1.1.0.\n",
      "  _logger.warning(\n",
      "C:\\Users\\gugli\\AppData\\Roaming\\Python\\Python310\\site-packages\\magic\\magic.py:748: DeprecationWarning: Call to deprecated method task. (Use TaskLogger.log_task instead) -- Deprecated since version 1.1.0.\n",
      "  with _logger.task(\"imputation\"):\n",
      "C:\\Users\\gugli\\AppData\\Roaming\\Python\\Python310\\site-packages\\magic\\magic.py:650: DeprecationWarning: Call to deprecated method task. (Use TaskLogger.log_task instead) -- Deprecated since version 1.1.0.\n",
      "  with _logger.task(\"MAGIC\"):\n",
      "C:\\Users\\gugli\\AppData\\Roaming\\Python\\Python310\\site-packages\\magic\\magic.py:381: DeprecationWarning: Call to deprecated method info. (Use TaskLogger.log_info instead) -- Deprecated since version 1.1.0.\n",
      "  _logger.info(\n",
      "C:\\Users\\gugli\\AppData\\Roaming\\Python\\Python310\\site-packages\\magic\\magic.py:436: DeprecationWarning: Call to deprecated method task. (Use TaskLogger.log_task instead) -- Deprecated since version 1.1.0.\n",
      "  with _logger.task(\"graph and diffusion operator\"):\n"
     ]
    },
    {
     "name": "stdout",
     "output_type": "stream",
     "text": [
      "  Running MAGIC with `solver='exact'` on 25453-dimensional data may take a long time. Consider denoising specific genes with `genes=<list-like>` or using `solver='approximate'`.\n"
     ]
    },
    {
     "name": "stderr",
     "output_type": "stream",
     "text": [
      "C:\\Users\\gugli\\AppData\\Roaming\\Python\\Python310\\site-packages\\magic\\magic.py:586: DeprecationWarning: Call to deprecated method warning. (Use TaskLogger.log_warning instead) -- Deprecated since version 1.1.0.\n",
      "  _logger.warning(\n",
      "C:\\Users\\gugli\\AppData\\Roaming\\Python\\Python310\\site-packages\\magic\\magic.py:748: DeprecationWarning: Call to deprecated method task. (Use TaskLogger.log_task instead) -- Deprecated since version 1.1.0.\n",
      "  with _logger.task(\"imputation\"):\n",
      "C:\\Users\\gugli\\AppData\\Roaming\\Python\\Python310\\site-packages\\magic\\magic.py:650: DeprecationWarning: Call to deprecated method task. (Use TaskLogger.log_task instead) -- Deprecated since version 1.1.0.\n",
      "  with _logger.task(\"MAGIC\"):\n",
      "C:\\Users\\gugli\\AppData\\Roaming\\Python\\Python310\\site-packages\\magic\\magic.py:381: DeprecationWarning: Call to deprecated method info. (Use TaskLogger.log_info instead) -- Deprecated since version 1.1.0.\n",
      "  _logger.info(\n",
      "C:\\Users\\gugli\\AppData\\Roaming\\Python\\Python310\\site-packages\\magic\\magic.py:436: DeprecationWarning: Call to deprecated method task. (Use TaskLogger.log_task instead) -- Deprecated since version 1.1.0.\n",
      "  with _logger.task(\"graph and diffusion operator\"):\n"
     ]
    },
    {
     "name": "stdout",
     "output_type": "stream",
     "text": [
      "  Running MAGIC with `solver='exact'` on 25453-dimensional data may take a long time. Consider denoising specific genes with `genes=<list-like>` or using `solver='approximate'`.\n"
     ]
    },
    {
     "name": "stderr",
     "output_type": "stream",
     "text": [
      "C:\\Users\\gugli\\AppData\\Roaming\\Python\\Python310\\site-packages\\magic\\magic.py:586: DeprecationWarning: Call to deprecated method warning. (Use TaskLogger.log_warning instead) -- Deprecated since version 1.1.0.\n",
      "  _logger.warning(\n",
      "C:\\Users\\gugli\\AppData\\Roaming\\Python\\Python310\\site-packages\\magic\\magic.py:748: DeprecationWarning: Call to deprecated method task. (Use TaskLogger.log_task instead) -- Deprecated since version 1.1.0.\n",
      "  with _logger.task(\"imputation\"):\n",
      "C:\\Users\\gugli\\AppData\\Roaming\\Python\\Python310\\site-packages\\magic\\magic.py:650: DeprecationWarning: Call to deprecated method task. (Use TaskLogger.log_task instead) -- Deprecated since version 1.1.0.\n",
      "  with _logger.task(\"MAGIC\"):\n",
      "C:\\Users\\gugli\\AppData\\Roaming\\Python\\Python310\\site-packages\\magic\\magic.py:381: DeprecationWarning: Call to deprecated method info. (Use TaskLogger.log_info instead) -- Deprecated since version 1.1.0.\n",
      "  _logger.info(\n",
      "C:\\Users\\gugli\\AppData\\Roaming\\Python\\Python310\\site-packages\\magic\\magic.py:436: DeprecationWarning: Call to deprecated method task. (Use TaskLogger.log_task instead) -- Deprecated since version 1.1.0.\n",
      "  with _logger.task(\"graph and diffusion operator\"):\n"
     ]
    },
    {
     "name": "stdout",
     "output_type": "stream",
     "text": [
      "  Running MAGIC with `solver='exact'` on 25453-dimensional data may take a long time. Consider denoising specific genes with `genes=<list-like>` or using `solver='approximate'`.\n"
     ]
    },
    {
     "name": "stderr",
     "output_type": "stream",
     "text": [
      "C:\\Users\\gugli\\AppData\\Roaming\\Python\\Python310\\site-packages\\magic\\magic.py:586: DeprecationWarning: Call to deprecated method warning. (Use TaskLogger.log_warning instead) -- Deprecated since version 1.1.0.\n",
      "  _logger.warning(\n",
      "C:\\Users\\gugli\\AppData\\Roaming\\Python\\Python310\\site-packages\\magic\\magic.py:748: DeprecationWarning: Call to deprecated method task. (Use TaskLogger.log_task instead) -- Deprecated since version 1.1.0.\n",
      "  with _logger.task(\"imputation\"):\n",
      "C:\\Users\\gugli\\AppData\\Roaming\\Python\\Python310\\site-packages\\magic\\magic.py:650: DeprecationWarning: Call to deprecated method task. (Use TaskLogger.log_task instead) -- Deprecated since version 1.1.0.\n",
      "  with _logger.task(\"MAGIC\"):\n",
      "C:\\Users\\gugli\\AppData\\Roaming\\Python\\Python310\\site-packages\\magic\\magic.py:381: DeprecationWarning: Call to deprecated method info. (Use TaskLogger.log_info instead) -- Deprecated since version 1.1.0.\n",
      "  _logger.info(\n",
      "C:\\Users\\gugli\\AppData\\Roaming\\Python\\Python310\\site-packages\\magic\\magic.py:436: DeprecationWarning: Call to deprecated method task. (Use TaskLogger.log_task instead) -- Deprecated since version 1.1.0.\n",
      "  with _logger.task(\"graph and diffusion operator\"):\n"
     ]
    },
    {
     "name": "stdout",
     "output_type": "stream",
     "text": [
      "  Running MAGIC with `solver='exact'` on 25453-dimensional data may take a long time. Consider denoising specific genes with `genes=<list-like>` or using `solver='approximate'`.\n"
     ]
    },
    {
     "name": "stderr",
     "output_type": "stream",
     "text": [
      "C:\\Users\\gugli\\AppData\\Roaming\\Python\\Python310\\site-packages\\magic\\magic.py:586: DeprecationWarning: Call to deprecated method warning. (Use TaskLogger.log_warning instead) -- Deprecated since version 1.1.0.\n",
      "  _logger.warning(\n",
      "C:\\Users\\gugli\\AppData\\Roaming\\Python\\Python310\\site-packages\\magic\\magic.py:748: DeprecationWarning: Call to deprecated method task. (Use TaskLogger.log_task instead) -- Deprecated since version 1.1.0.\n",
      "  with _logger.task(\"imputation\"):\n",
      "C:\\Users\\gugli\\AppData\\Roaming\\Python\\Python310\\site-packages\\magic\\magic.py:650: DeprecationWarning: Call to deprecated method task. (Use TaskLogger.log_task instead) -- Deprecated since version 1.1.0.\n",
      "  with _logger.task(\"MAGIC\"):\n",
      "C:\\Users\\gugli\\AppData\\Roaming\\Python\\Python310\\site-packages\\magic\\magic.py:381: DeprecationWarning: Call to deprecated method info. (Use TaskLogger.log_info instead) -- Deprecated since version 1.1.0.\n",
      "  _logger.info(\n",
      "C:\\Users\\gugli\\AppData\\Roaming\\Python\\Python310\\site-packages\\magic\\magic.py:436: DeprecationWarning: Call to deprecated method task. (Use TaskLogger.log_task instead) -- Deprecated since version 1.1.0.\n",
      "  with _logger.task(\"graph and diffusion operator\"):\n"
     ]
    },
    {
     "name": "stdout",
     "output_type": "stream",
     "text": [
      "  Running MAGIC with `solver='exact'` on 25453-dimensional data may take a long time. Consider denoising specific genes with `genes=<list-like>` or using `solver='approximate'`.\n"
     ]
    },
    {
     "name": "stderr",
     "output_type": "stream",
     "text": [
      "C:\\Users\\gugli\\AppData\\Roaming\\Python\\Python310\\site-packages\\magic\\magic.py:586: DeprecationWarning: Call to deprecated method warning. (Use TaskLogger.log_warning instead) -- Deprecated since version 1.1.0.\n",
      "  _logger.warning(\n",
      "C:\\Users\\gugli\\AppData\\Roaming\\Python\\Python310\\site-packages\\magic\\magic.py:748: DeprecationWarning: Call to deprecated method task. (Use TaskLogger.log_task instead) -- Deprecated since version 1.1.0.\n",
      "  with _logger.task(\"imputation\"):\n",
      "C:\\Users\\gugli\\AppData\\Roaming\\Python\\Python310\\site-packages\\magic\\magic.py:650: DeprecationWarning: Call to deprecated method task. (Use TaskLogger.log_task instead) -- Deprecated since version 1.1.0.\n",
      "  with _logger.task(\"MAGIC\"):\n",
      "C:\\Users\\gugli\\AppData\\Roaming\\Python\\Python310\\site-packages\\magic\\magic.py:381: DeprecationWarning: Call to deprecated method info. (Use TaskLogger.log_info instead) -- Deprecated since version 1.1.0.\n",
      "  _logger.info(\n",
      "C:\\Users\\gugli\\AppData\\Roaming\\Python\\Python310\\site-packages\\magic\\magic.py:436: DeprecationWarning: Call to deprecated method task. (Use TaskLogger.log_task instead) -- Deprecated since version 1.1.0.\n",
      "  with _logger.task(\"graph and diffusion operator\"):\n"
     ]
    },
    {
     "name": "stdout",
     "output_type": "stream",
     "text": [
      "  Running MAGIC with `solver='exact'` on 25453-dimensional data may take a long time. Consider denoising specific genes with `genes=<list-like>` or using `solver='approximate'`.\n"
     ]
    },
    {
     "name": "stderr",
     "output_type": "stream",
     "text": [
      "C:\\Users\\gugli\\AppData\\Roaming\\Python\\Python310\\site-packages\\magic\\magic.py:586: DeprecationWarning: Call to deprecated method warning. (Use TaskLogger.log_warning instead) -- Deprecated since version 1.1.0.\n",
      "  _logger.warning(\n",
      "C:\\Users\\gugli\\AppData\\Roaming\\Python\\Python310\\site-packages\\magic\\magic.py:748: DeprecationWarning: Call to deprecated method task. (Use TaskLogger.log_task instead) -- Deprecated since version 1.1.0.\n",
      "  with _logger.task(\"imputation\"):\n",
      "C:\\Users\\gugli\\AppData\\Roaming\\Python\\Python310\\site-packages\\magic\\magic.py:650: DeprecationWarning: Call to deprecated method task. (Use TaskLogger.log_task instead) -- Deprecated since version 1.1.0.\n",
      "  with _logger.task(\"MAGIC\"):\n",
      "C:\\Users\\gugli\\AppData\\Roaming\\Python\\Python310\\site-packages\\magic\\magic.py:381: DeprecationWarning: Call to deprecated method info. (Use TaskLogger.log_info instead) -- Deprecated since version 1.1.0.\n",
      "  _logger.info(\n",
      "C:\\Users\\gugli\\AppData\\Roaming\\Python\\Python310\\site-packages\\magic\\magic.py:436: DeprecationWarning: Call to deprecated method task. (Use TaskLogger.log_task instead) -- Deprecated since version 1.1.0.\n",
      "  with _logger.task(\"graph and diffusion operator\"):\n"
     ]
    },
    {
     "name": "stdout",
     "output_type": "stream",
     "text": [
      "  Running MAGIC with `solver='exact'` on 25453-dimensional data may take a long time. Consider denoising specific genes with `genes=<list-like>` or using `solver='approximate'`.\n"
     ]
    },
    {
     "name": "stderr",
     "output_type": "stream",
     "text": [
      "C:\\Users\\gugli\\AppData\\Roaming\\Python\\Python310\\site-packages\\magic\\magic.py:586: DeprecationWarning: Call to deprecated method warning. (Use TaskLogger.log_warning instead) -- Deprecated since version 1.1.0.\n",
      "  _logger.warning(\n",
      "C:\\Users\\gugli\\AppData\\Roaming\\Python\\Python310\\site-packages\\magic\\magic.py:748: DeprecationWarning: Call to deprecated method task. (Use TaskLogger.log_task instead) -- Deprecated since version 1.1.0.\n",
      "  with _logger.task(\"imputation\"):\n",
      "C:\\Users\\gugli\\AppData\\Roaming\\Python\\Python310\\site-packages\\magic\\magic.py:650: DeprecationWarning: Call to deprecated method task. (Use TaskLogger.log_task instead) -- Deprecated since version 1.1.0.\n",
      "  with _logger.task(\"MAGIC\"):\n",
      "C:\\Users\\gugli\\AppData\\Roaming\\Python\\Python310\\site-packages\\magic\\magic.py:381: DeprecationWarning: Call to deprecated method info. (Use TaskLogger.log_info instead) -- Deprecated since version 1.1.0.\n",
      "  _logger.info(\n",
      "C:\\Users\\gugli\\AppData\\Roaming\\Python\\Python310\\site-packages\\magic\\magic.py:436: DeprecationWarning: Call to deprecated method task. (Use TaskLogger.log_task instead) -- Deprecated since version 1.1.0.\n",
      "  with _logger.task(\"graph and diffusion operator\"):\n"
     ]
    },
    {
     "name": "stdout",
     "output_type": "stream",
     "text": [
      "  Running MAGIC with `solver='exact'` on 25453-dimensional data may take a long time. Consider denoising specific genes with `genes=<list-like>` or using `solver='approximate'`.\n"
     ]
    },
    {
     "name": "stderr",
     "output_type": "stream",
     "text": [
      "C:\\Users\\gugli\\AppData\\Roaming\\Python\\Python310\\site-packages\\magic\\magic.py:586: DeprecationWarning: Call to deprecated method warning. (Use TaskLogger.log_warning instead) -- Deprecated since version 1.1.0.\n",
      "  _logger.warning(\n",
      "C:\\Users\\gugli\\AppData\\Roaming\\Python\\Python310\\site-packages\\magic\\magic.py:748: DeprecationWarning: Call to deprecated method task. (Use TaskLogger.log_task instead) -- Deprecated since version 1.1.0.\n",
      "  with _logger.task(\"imputation\"):\n",
      "C:\\Users\\gugli\\AppData\\Roaming\\Python\\Python310\\site-packages\\magic\\magic.py:650: DeprecationWarning: Call to deprecated method task. (Use TaskLogger.log_task instead) -- Deprecated since version 1.1.0.\n",
      "  with _logger.task(\"MAGIC\"):\n",
      "C:\\Users\\gugli\\AppData\\Roaming\\Python\\Python310\\site-packages\\magic\\magic.py:381: DeprecationWarning: Call to deprecated method info. (Use TaskLogger.log_info instead) -- Deprecated since version 1.1.0.\n",
      "  _logger.info(\n",
      "C:\\Users\\gugli\\AppData\\Roaming\\Python\\Python310\\site-packages\\magic\\magic.py:436: DeprecationWarning: Call to deprecated method task. (Use TaskLogger.log_task instead) -- Deprecated since version 1.1.0.\n",
      "  with _logger.task(\"graph and diffusion operator\"):\n"
     ]
    },
    {
     "name": "stdout",
     "output_type": "stream",
     "text": [
      "  Running MAGIC with `solver='exact'` on 25453-dimensional data may take a long time. Consider denoising specific genes with `genes=<list-like>` or using `solver='approximate'`.\n"
     ]
    },
    {
     "name": "stderr",
     "output_type": "stream",
     "text": [
      "C:\\Users\\gugli\\AppData\\Roaming\\Python\\Python310\\site-packages\\magic\\magic.py:586: DeprecationWarning: Call to deprecated method warning. (Use TaskLogger.log_warning instead) -- Deprecated since version 1.1.0.\n",
      "  _logger.warning(\n",
      "C:\\Users\\gugli\\AppData\\Roaming\\Python\\Python310\\site-packages\\magic\\magic.py:748: DeprecationWarning: Call to deprecated method task. (Use TaskLogger.log_task instead) -- Deprecated since version 1.1.0.\n",
      "  with _logger.task(\"imputation\"):\n",
      "C:\\Users\\gugli\\AppData\\Roaming\\Python\\Python310\\site-packages\\magic\\magic.py:650: DeprecationWarning: Call to deprecated method task. (Use TaskLogger.log_task instead) -- Deprecated since version 1.1.0.\n",
      "  with _logger.task(\"MAGIC\"):\n",
      "C:\\Users\\gugli\\AppData\\Roaming\\Python\\Python310\\site-packages\\magic\\magic.py:381: DeprecationWarning: Call to deprecated method info. (Use TaskLogger.log_info instead) -- Deprecated since version 1.1.0.\n",
      "  _logger.info(\n",
      "C:\\Users\\gugli\\AppData\\Roaming\\Python\\Python310\\site-packages\\magic\\magic.py:436: DeprecationWarning: Call to deprecated method task. (Use TaskLogger.log_task instead) -- Deprecated since version 1.1.0.\n",
      "  with _logger.task(\"graph and diffusion operator\"):\n"
     ]
    },
    {
     "name": "stdout",
     "output_type": "stream",
     "text": [
      "  Running MAGIC with `solver='exact'` on 25453-dimensional data may take a long time. Consider denoising specific genes with `genes=<list-like>` or using `solver='approximate'`.\n"
     ]
    },
    {
     "name": "stderr",
     "output_type": "stream",
     "text": [
      "C:\\Users\\gugli\\AppData\\Roaming\\Python\\Python310\\site-packages\\magic\\magic.py:586: DeprecationWarning: Call to deprecated method warning. (Use TaskLogger.log_warning instead) -- Deprecated since version 1.1.0.\n",
      "  _logger.warning(\n",
      "C:\\Users\\gugli\\AppData\\Roaming\\Python\\Python310\\site-packages\\magic\\magic.py:748: DeprecationWarning: Call to deprecated method task. (Use TaskLogger.log_task instead) -- Deprecated since version 1.1.0.\n",
      "  with _logger.task(\"imputation\"):\n",
      "C:\\Users\\gugli\\AppData\\Roaming\\Python\\Python310\\site-packages\\magic\\magic.py:650: DeprecationWarning: Call to deprecated method task. (Use TaskLogger.log_task instead) -- Deprecated since version 1.1.0.\n",
      "  with _logger.task(\"MAGIC\"):\n",
      "C:\\Users\\gugli\\AppData\\Roaming\\Python\\Python310\\site-packages\\magic\\magic.py:381: DeprecationWarning: Call to deprecated method info. (Use TaskLogger.log_info instead) -- Deprecated since version 1.1.0.\n",
      "  _logger.info(\n",
      "C:\\Users\\gugli\\AppData\\Roaming\\Python\\Python310\\site-packages\\magic\\magic.py:436: DeprecationWarning: Call to deprecated method task. (Use TaskLogger.log_task instead) -- Deprecated since version 1.1.0.\n",
      "  with _logger.task(\"graph and diffusion operator\"):\n"
     ]
    },
    {
     "name": "stdout",
     "output_type": "stream",
     "text": [
      "  Running MAGIC with `solver='exact'` on 25453-dimensional data may take a long time. Consider denoising specific genes with `genes=<list-like>` or using `solver='approximate'`.\n"
     ]
    },
    {
     "name": "stderr",
     "output_type": "stream",
     "text": [
      "C:\\Users\\gugli\\AppData\\Roaming\\Python\\Python310\\site-packages\\magic\\magic.py:586: DeprecationWarning: Call to deprecated method warning. (Use TaskLogger.log_warning instead) -- Deprecated since version 1.1.0.\n",
      "  _logger.warning(\n",
      "C:\\Users\\gugli\\AppData\\Roaming\\Python\\Python310\\site-packages\\magic\\magic.py:748: DeprecationWarning: Call to deprecated method task. (Use TaskLogger.log_task instead) -- Deprecated since version 1.1.0.\n",
      "  with _logger.task(\"imputation\"):\n",
      "C:\\Users\\gugli\\AppData\\Roaming\\Python\\Python310\\site-packages\\magic\\magic.py:650: DeprecationWarning: Call to deprecated method task. (Use TaskLogger.log_task instead) -- Deprecated since version 1.1.0.\n",
      "  with _logger.task(\"MAGIC\"):\n",
      "C:\\Users\\gugli\\AppData\\Roaming\\Python\\Python310\\site-packages\\magic\\magic.py:381: DeprecationWarning: Call to deprecated method info. (Use TaskLogger.log_info instead) -- Deprecated since version 1.1.0.\n",
      "  _logger.info(\n",
      "C:\\Users\\gugli\\AppData\\Roaming\\Python\\Python310\\site-packages\\magic\\magic.py:436: DeprecationWarning: Call to deprecated method task. (Use TaskLogger.log_task instead) -- Deprecated since version 1.1.0.\n",
      "  with _logger.task(\"graph and diffusion operator\"):\n"
     ]
    },
    {
     "name": "stdout",
     "output_type": "stream",
     "text": [
      "  Running MAGIC with `solver='exact'` on 25453-dimensional data may take a long time. Consider denoising specific genes with `genes=<list-like>` or using `solver='approximate'`.\n"
     ]
    },
    {
     "name": "stderr",
     "output_type": "stream",
     "text": [
      "C:\\Users\\gugli\\AppData\\Roaming\\Python\\Python310\\site-packages\\magic\\magic.py:586: DeprecationWarning: Call to deprecated method warning. (Use TaskLogger.log_warning instead) -- Deprecated since version 1.1.0.\n",
      "  _logger.warning(\n",
      "C:\\Users\\gugli\\AppData\\Roaming\\Python\\Python310\\site-packages\\magic\\magic.py:748: DeprecationWarning: Call to deprecated method task. (Use TaskLogger.log_task instead) -- Deprecated since version 1.1.0.\n",
      "  with _logger.task(\"imputation\"):\n",
      "C:\\Users\\gugli\\AppData\\Roaming\\Python\\Python310\\site-packages\\magic\\magic.py:650: DeprecationWarning: Call to deprecated method task. (Use TaskLogger.log_task instead) -- Deprecated since version 1.1.0.\n",
      "  with _logger.task(\"MAGIC\"):\n",
      "C:\\Users\\gugli\\AppData\\Roaming\\Python\\Python310\\site-packages\\magic\\magic.py:381: DeprecationWarning: Call to deprecated method info. (Use TaskLogger.log_info instead) -- Deprecated since version 1.1.0.\n",
      "  _logger.info(\n",
      "C:\\Users\\gugli\\AppData\\Roaming\\Python\\Python310\\site-packages\\magic\\magic.py:436: DeprecationWarning: Call to deprecated method task. (Use TaskLogger.log_task instead) -- Deprecated since version 1.1.0.\n",
      "  with _logger.task(\"graph and diffusion operator\"):\n"
     ]
    },
    {
     "name": "stdout",
     "output_type": "stream",
     "text": [
      "  Running MAGIC with `solver='exact'` on 25453-dimensional data may take a long time. Consider denoising specific genes with `genes=<list-like>` or using `solver='approximate'`.\n"
     ]
    },
    {
     "name": "stderr",
     "output_type": "stream",
     "text": [
      "C:\\Users\\gugli\\AppData\\Roaming\\Python\\Python310\\site-packages\\magic\\magic.py:586: DeprecationWarning: Call to deprecated method warning. (Use TaskLogger.log_warning instead) -- Deprecated since version 1.1.0.\n",
      "  _logger.warning(\n",
      "C:\\Users\\gugli\\AppData\\Roaming\\Python\\Python310\\site-packages\\magic\\magic.py:748: DeprecationWarning: Call to deprecated method task. (Use TaskLogger.log_task instead) -- Deprecated since version 1.1.0.\n",
      "  with _logger.task(\"imputation\"):\n"
     ]
    }
   ],
   "source": [
    "from itertools import product\n",
    "\n",
    "results=[]\n",
    "k_set, t_set , n_pca_set= [2,4,6,8,10], [2,3,4,6,8], [100,200,300]\n",
    "for k,t, n_pca in product(k_set,t_set,n_pca_set):\n",
    "    magic_op = magic.MAGIC(verbose=0,knn=k,t=t,n_pca=n_pca)\n",
    "    imputed = magic_op.fit_transform(sc1_train)\n",
    "    pred=imputed.mean(axis=0)\n",
    "    bulk=bulk_train['patient1']\n",
    "    results+=[spearmanr(pred,bulk).statistic]"
   ],
   "metadata": {
    "collapsed": false
   }
  },
  {
   "cell_type": "code",
   "execution_count": 149,
   "outputs": [
    {
     "name": "stdout",
     "output_type": "stream",
     "text": [
      "Correlation before imputation: 0.9232437448988214\n",
      "Best Correlation: 0.9216702939167969\n"
     ]
    }
   ],
   "source": [
    "baseline=spearmanr(sc1_train.mean(axis=0),bulk_train['patient1']).statistic\n",
    "print(f'Correlation before imputation: {baseline}')\n",
    "print(f'Best Correlation: {max(results)}')"
   ],
   "metadata": {
    "collapsed": false
   }
  },
  {
   "cell_type": "markdown",
   "source": [
    "# Draft"
   ],
   "metadata": {
    "collapsed": false
   }
  },
  {
   "cell_type": "code",
   "execution_count": null,
   "outputs": [],
   "source": [
    "# To do: HPO for MAGIC\n",
    "from sklearn.base import BaseEstimator\n",
    "\n",
    "# CREATION OF SCORE FUNCTION\n",
    "def score_func(y, y_pred):\n",
    "    return spearmanr(y,y_pred).statistic\n",
    "\n",
    "scorer=make_scorer(score_func) #needed to be able to use spearmanr as score function in scikit-learn\n",
    "\n",
    "class custom_magic(BaseEstimator):\n",
    "    def __init__(self,k=5,t=3,n_pca=100):\n",
    "        self.k=k\n",
    "        self.t=t\n",
    "        self.n_pca=n_pca\n",
    "        self.model=magic.MAGIC(verbose=0,knn=k,t=t,n_pca=n_pca)\n",
    "\n",
    "    def fit(self, X, y=None):\n",
    "        return None\n",
    "\n",
    "    def predict(self, X):\n",
    "        raw=self.model.fit_transform(X)\n",
    "        return raw.mean(axis=0)\n",
    "\n",
    "\n",
    "    def set_params(self, **params):\n",
    "        if not params:\n",
    "            return self\n",
    "\n",
    "        for key, value in params.items():\n",
    "            if hasattr(self, key):\n",
    "                setattr(self, key, value)\n",
    "            else:\n",
    "                self.kwargs[key] = value\n",
    "        return self\n",
    "\n",
    "param_grid= {'k':[1,2,3,5],'t':[1,2,3], 'n_pca':[10,20,30]}\n",
    "\n",
    "from sklearn.model_selection import GridSearchCV\n",
    "\n",
    "GridSearchCV(custom_magic(), param_grid,cv=,scoring=score_func())"
   ],
   "metadata": {
    "collapsed": false,
    "pycharm": {
     "is_executing": true
    }
   }
  }
 ],
 "metadata": {
  "kernelspec": {
   "display_name": "Python 3",
   "language": "python",
   "name": "python3"
  },
  "language_info": {
   "codemirror_mode": {
    "name": "ipython",
    "version": 2
   },
   "file_extension": ".py",
   "mimetype": "text/x-python",
   "name": "python",
   "nbconvert_exporter": "python",
   "pygments_lexer": "ipython2",
   "version": "2.7.6"
  }
 },
 "nbformat": 4,
 "nbformat_minor": 0
}
