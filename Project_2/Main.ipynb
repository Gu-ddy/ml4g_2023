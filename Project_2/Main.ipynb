{
 "cells": [
  {
   "cell_type": "code",
   "execution_count": 1,
   "metadata": {
    "collapsed": true
   },
   "outputs": [],
   "source": [
    "# important, you need to install scvelo\n",
    "\n",
    "import os\n",
    "import numpy as np\n",
    "import pandas as pd\n",
    "import scanpy as sc\n",
    "import scvelo as scv\n",
    "import matplotlib.pyplot as plt\n",
    "import magic\n",
    "import anndata as ad\n",
    "from scipy.stats import spearmanr\n",
    "from itertools import product"
   ]
  },
  {
   "cell_type": "code",
   "execution_count": 2,
   "outputs": [],
   "source": [
    "path_cwd=os.getcwd()\n",
    "path_train_data=path_cwd + '/ML4G_Project_2_Data/train_data'\n",
    "path_test_data=path_cwd + '/ML4G_Project_2_Data/test_data'"
   ],
   "metadata": {
    "collapsed": false
   }
  },
  {
   "cell_type": "code",
   "execution_count": 3,
   "outputs": [],
   "source": [
    "#train_data\n",
    "bulk_train=pd.read_csv(path_train_data +'/pancreas_bulk_train.csv',index_col=0)\n",
    "metadata_train=pd.read_csv(path_train_data+ '/pancreas_sc_metadata_train.csv')\n",
    "sc_train=pd.read_csv(path_train_data +'/pancreas_sc_train.csv', index_col=0)\n",
    "\n",
    "#test_data\n",
    "metadata_test=pd.read_csv(path_test_data+ '/pancreas_sc_metadata_test_wocelltype.csv')\n",
    "sc_test=pd.read_csv(path_test_data +'/pancreas_sc_test.csv', index_col=0)"
   ],
   "metadata": {
    "collapsed": false
   }
  },
  {
   "cell_type": "code",
   "execution_count": 4,
   "outputs": [
    {
     "data": {
      "text/plain": "Unnamed: 0    SGIP1  AZIN2  CLIC4  AGBL4  NECAP2  SLC45A1  TGFBR3   DBT  \\\npatient1_A10    0.0    0.0  127.0    0.0   140.0      0.0     0.0   1.0   \npatient1_A12    0.0    0.0    0.0    0.0     0.0      0.0     0.0  57.0   \npatient1_A13    0.0  110.0    0.0   21.0     0.0      0.0     0.0  56.0   \n\nUnnamed: 0    RFWD2  C1orf21  ...  LOC389831  MGC70870  KIR2DS5  KIR2DL5A  \\\npatient1_A10  103.0    267.0  ...        0.0       0.0      0.0       0.0   \npatient1_A12    0.0      0.0  ...        0.0       0.0      0.0       0.0   \npatient1_A13    0.0      0.0  ...        0.0       0.0      0.0       0.0   \n\nUnnamed: 0    KIR3DS1  KIR2DL5B  KIR2DS2  KIR2DS1  KIR2DL2  KIR2DS3  \npatient1_A10      0.0       0.0      0.0      0.0      0.0      0.0  \npatient1_A12      0.0       0.0      0.0      0.0      0.0      0.0  \npatient1_A13      0.0       0.0      0.0      0.0      0.0      0.0  \n\n[3 rows x 25453 columns]",
      "text/html": "<div>\n<style scoped>\n    .dataframe tbody tr th:only-of-type {\n        vertical-align: middle;\n    }\n\n    .dataframe tbody tr th {\n        vertical-align: top;\n    }\n\n    .dataframe thead th {\n        text-align: right;\n    }\n</style>\n<table border=\"1\" class=\"dataframe\">\n  <thead>\n    <tr style=\"text-align: right;\">\n      <th>Unnamed: 0</th>\n      <th>SGIP1</th>\n      <th>AZIN2</th>\n      <th>CLIC4</th>\n      <th>AGBL4</th>\n      <th>NECAP2</th>\n      <th>SLC45A1</th>\n      <th>TGFBR3</th>\n      <th>DBT</th>\n      <th>RFWD2</th>\n      <th>C1orf21</th>\n      <th>...</th>\n      <th>LOC389831</th>\n      <th>MGC70870</th>\n      <th>KIR2DS5</th>\n      <th>KIR2DL5A</th>\n      <th>KIR3DS1</th>\n      <th>KIR2DL5B</th>\n      <th>KIR2DS2</th>\n      <th>KIR2DS1</th>\n      <th>KIR2DL2</th>\n      <th>KIR2DS3</th>\n    </tr>\n  </thead>\n  <tbody>\n    <tr>\n      <th>patient1_A10</th>\n      <td>0.0</td>\n      <td>0.0</td>\n      <td>127.0</td>\n      <td>0.0</td>\n      <td>140.0</td>\n      <td>0.0</td>\n      <td>0.0</td>\n      <td>1.0</td>\n      <td>103.0</td>\n      <td>267.0</td>\n      <td>...</td>\n      <td>0.0</td>\n      <td>0.0</td>\n      <td>0.0</td>\n      <td>0.0</td>\n      <td>0.0</td>\n      <td>0.0</td>\n      <td>0.0</td>\n      <td>0.0</td>\n      <td>0.0</td>\n      <td>0.0</td>\n    </tr>\n    <tr>\n      <th>patient1_A12</th>\n      <td>0.0</td>\n      <td>0.0</td>\n      <td>0.0</td>\n      <td>0.0</td>\n      <td>0.0</td>\n      <td>0.0</td>\n      <td>0.0</td>\n      <td>57.0</td>\n      <td>0.0</td>\n      <td>0.0</td>\n      <td>...</td>\n      <td>0.0</td>\n      <td>0.0</td>\n      <td>0.0</td>\n      <td>0.0</td>\n      <td>0.0</td>\n      <td>0.0</td>\n      <td>0.0</td>\n      <td>0.0</td>\n      <td>0.0</td>\n      <td>0.0</td>\n    </tr>\n    <tr>\n      <th>patient1_A13</th>\n      <td>0.0</td>\n      <td>110.0</td>\n      <td>0.0</td>\n      <td>21.0</td>\n      <td>0.0</td>\n      <td>0.0</td>\n      <td>0.0</td>\n      <td>56.0</td>\n      <td>0.0</td>\n      <td>0.0</td>\n      <td>...</td>\n      <td>0.0</td>\n      <td>0.0</td>\n      <td>0.0</td>\n      <td>0.0</td>\n      <td>0.0</td>\n      <td>0.0</td>\n      <td>0.0</td>\n      <td>0.0</td>\n      <td>0.0</td>\n      <td>0.0</td>\n    </tr>\n  </tbody>\n</table>\n<p>3 rows × 25453 columns</p>\n</div>"
     },
     "execution_count": 4,
     "metadata": {},
     "output_type": "execute_result"
    }
   ],
   "source": [
    "cells_1=[column for column in sc_train.columns if 'patient1' in column ]\n",
    "cells_2=[column for column in sc_train.columns if 'patient2' in column ]\n",
    "cells_3=[column for column in sc_train.columns if 'patient3' in column ]\n",
    "cells_4=[column for column in sc_train.columns if 'patient4' in column ]\n",
    "\n",
    "# we transpose the dataframe since we want a cells x genes dataframe for applying MAGIC\n",
    "sc1_train=sc_train[cells_1].T\n",
    "sc2_train=sc_train[cells_2].T\n",
    "sc3_train=sc_train[cells_3].T\n",
    "sc4_train=sc_train[cells_4].T\n",
    "sc1_train.head(3)"
   ],
   "metadata": {
    "collapsed": false
   }
  },
  {
   "cell_type": "markdown",
   "source": [
    "What we should avoid is that an experiment was more sensitive that another (regarding two patients), but this effect is canceled normalizing by total counts each patient as we did, hence we do not need other normalizations (which would flat variability which is present for biological reasons)"
   ],
   "metadata": {
    "collapsed": false
   }
  },
  {
   "cell_type": "code",
   "execution_count": 5,
   "outputs": [
    {
     "name": "stdout",
     "output_type": "stream",
     "text": [
      "Normalized count data: X.\n",
      "Normalized count data: X.\n",
      "Normalized count data: X.\n",
      "Normalized count data: X.\n"
     ]
    },
    {
     "data": {
      "text/plain": "Unnamed: 0       SGIP1     AZIN2     CLIC4     AGBL4    NECAP2  SLC45A1  \\\npatient1_A10  0.000000  0.000000  4.584115  0.000000  4.680622      0.0   \npatient1_A12  0.000000  0.000000  0.000000  0.000000  0.000000      0.0   \npatient1_A13  0.000000  4.803261  0.000000  3.181477  0.000000      0.0   \npatient1_A15  2.512689  0.000000  3.997298  0.000000  5.627522      0.0   \npatient1_A17  0.000000  1.220985  0.000000  0.000000  5.342219      0.0   \n\nUnnamed: 0    TGFBR3       DBT     RFWD2   C1orf21  ...  LOC389831  MGC70870  \\\npatient1_A10     0.0  0.567086  4.377034  5.321808  ...        0.0       0.0   \npatient1_A12     0.0  3.694045  0.000000  0.000000  ...        0.0       0.0   \npatient1_A13     0.0  4.136011  0.000000  0.000000  ...        0.0       0.0   \npatient1_A15     0.0  5.113262  0.000000  0.000000  ...        0.0       0.0   \npatient1_A17     0.0  0.000000  2.100662  0.000000  ...        0.0       0.0   \n\nUnnamed: 0    KIR2DS5  KIR2DL5A  KIR3DS1  KIR2DL5B  KIR2DS2  KIR2DS1  KIR2DL2  \\\npatient1_A10      0.0       0.0      0.0       0.0      0.0      0.0      0.0   \npatient1_A12      0.0       0.0      0.0       0.0      0.0      0.0      0.0   \npatient1_A13      0.0       0.0      0.0       0.0      0.0      0.0      0.0   \npatient1_A15      0.0       0.0      0.0       0.0      0.0      0.0      0.0   \npatient1_A17      0.0       0.0      0.0       0.0      0.0      0.0      0.0   \n\nUnnamed: 0    KIR2DS3  \npatient1_A10      0.0  \npatient1_A12      0.0  \npatient1_A13      0.0  \npatient1_A15      0.0  \npatient1_A17      0.0  \n\n[5 rows x 25453 columns]",
      "text/html": "<div>\n<style scoped>\n    .dataframe tbody tr th:only-of-type {\n        vertical-align: middle;\n    }\n\n    .dataframe tbody tr th {\n        vertical-align: top;\n    }\n\n    .dataframe thead th {\n        text-align: right;\n    }\n</style>\n<table border=\"1\" class=\"dataframe\">\n  <thead>\n    <tr style=\"text-align: right;\">\n      <th>Unnamed: 0</th>\n      <th>SGIP1</th>\n      <th>AZIN2</th>\n      <th>CLIC4</th>\n      <th>AGBL4</th>\n      <th>NECAP2</th>\n      <th>SLC45A1</th>\n      <th>TGFBR3</th>\n      <th>DBT</th>\n      <th>RFWD2</th>\n      <th>C1orf21</th>\n      <th>...</th>\n      <th>LOC389831</th>\n      <th>MGC70870</th>\n      <th>KIR2DS5</th>\n      <th>KIR2DL5A</th>\n      <th>KIR3DS1</th>\n      <th>KIR2DL5B</th>\n      <th>KIR2DS2</th>\n      <th>KIR2DS1</th>\n      <th>KIR2DL2</th>\n      <th>KIR2DS3</th>\n    </tr>\n  </thead>\n  <tbody>\n    <tr>\n      <th>patient1_A10</th>\n      <td>0.000000</td>\n      <td>0.000000</td>\n      <td>4.584115</td>\n      <td>0.000000</td>\n      <td>4.680622</td>\n      <td>0.0</td>\n      <td>0.0</td>\n      <td>0.567086</td>\n      <td>4.377034</td>\n      <td>5.321808</td>\n      <td>...</td>\n      <td>0.0</td>\n      <td>0.0</td>\n      <td>0.0</td>\n      <td>0.0</td>\n      <td>0.0</td>\n      <td>0.0</td>\n      <td>0.0</td>\n      <td>0.0</td>\n      <td>0.0</td>\n      <td>0.0</td>\n    </tr>\n    <tr>\n      <th>patient1_A12</th>\n      <td>0.000000</td>\n      <td>0.000000</td>\n      <td>0.000000</td>\n      <td>0.000000</td>\n      <td>0.000000</td>\n      <td>0.0</td>\n      <td>0.0</td>\n      <td>3.694045</td>\n      <td>0.000000</td>\n      <td>0.000000</td>\n      <td>...</td>\n      <td>0.0</td>\n      <td>0.0</td>\n      <td>0.0</td>\n      <td>0.0</td>\n      <td>0.0</td>\n      <td>0.0</td>\n      <td>0.0</td>\n      <td>0.0</td>\n      <td>0.0</td>\n      <td>0.0</td>\n    </tr>\n    <tr>\n      <th>patient1_A13</th>\n      <td>0.000000</td>\n      <td>4.803261</td>\n      <td>0.000000</td>\n      <td>3.181477</td>\n      <td>0.000000</td>\n      <td>0.0</td>\n      <td>0.0</td>\n      <td>4.136011</td>\n      <td>0.000000</td>\n      <td>0.000000</td>\n      <td>...</td>\n      <td>0.0</td>\n      <td>0.0</td>\n      <td>0.0</td>\n      <td>0.0</td>\n      <td>0.0</td>\n      <td>0.0</td>\n      <td>0.0</td>\n      <td>0.0</td>\n      <td>0.0</td>\n      <td>0.0</td>\n    </tr>\n    <tr>\n      <th>patient1_A15</th>\n      <td>2.512689</td>\n      <td>0.000000</td>\n      <td>3.997298</td>\n      <td>0.000000</td>\n      <td>5.627522</td>\n      <td>0.0</td>\n      <td>0.0</td>\n      <td>5.113262</td>\n      <td>0.000000</td>\n      <td>0.000000</td>\n      <td>...</td>\n      <td>0.0</td>\n      <td>0.0</td>\n      <td>0.0</td>\n      <td>0.0</td>\n      <td>0.0</td>\n      <td>0.0</td>\n      <td>0.0</td>\n      <td>0.0</td>\n      <td>0.0</td>\n      <td>0.0</td>\n    </tr>\n    <tr>\n      <th>patient1_A17</th>\n      <td>0.000000</td>\n      <td>1.220985</td>\n      <td>0.000000</td>\n      <td>0.000000</td>\n      <td>5.342219</td>\n      <td>0.0</td>\n      <td>0.0</td>\n      <td>0.000000</td>\n      <td>2.100662</td>\n      <td>0.000000</td>\n      <td>...</td>\n      <td>0.0</td>\n      <td>0.0</td>\n      <td>0.0</td>\n      <td>0.0</td>\n      <td>0.0</td>\n      <td>0.0</td>\n      <td>0.0</td>\n      <td>0.0</td>\n      <td>0.0</td>\n      <td>0.0</td>\n    </tr>\n  </tbody>\n</table>\n<p>5 rows × 25453 columns</p>\n</div>"
     },
     "execution_count": 5,
     "metadata": {},
     "output_type": "execute_result"
    }
   ],
   "source": [
    "# Pre processing: Normalize per total reads per cell and transform with log\n",
    "def pp(data):\n",
    "    data=ad.AnnData(data) # needed to use following functions\n",
    "    scv.pp.normalize_per_cell(data)\n",
    "    scv.pp.log1p(data)\n",
    "    data=pd.DataFrame(data.X, columns = data.var_names,index=data.obs_names)\n",
    "    return data\n",
    "\n",
    "patients=[sc1_train,sc2_train,sc3_train,sc4_train]\n",
    "patients_pp=[]\n",
    "#after the loop variables are called data1,data2,data3,data4 or are in the patients_pp list\n",
    "for i,data in enumerate(patients):\n",
    "    pp_data=pp(data)\n",
    "    vars().__setitem__('data' + str(i+1), pp_data )\n",
    "    patients_pp += [pp_data]\n",
    "\n",
    "\n",
    "data1.head(5)"
   ],
   "metadata": {
    "collapsed": false
   }
  },
  {
   "cell_type": "code",
   "execution_count": null,
   "outputs": [],
   "source": [
    "k_set, t_set , n_pca_set= [10,30,60], ['auto', 3,5,10], [100,500,1000]\n",
    "results=[]\n",
    "for k,t, n_pca in product(k_set,t_set,n_pca_set):\n",
    "    result=0\n",
    "    for i,patient in enumerate(patients_pp):\n",
    "        magic_op = magic.MAGIC(verbose=0,knn=k,t=t,n_pca=n_pca)\n",
    "        imputed = magic_op.fit_transform(patient)\n",
    "        pred=imputed.mean(axis=0)\n",
    "        bulk=bulk_train['patient' + str(i+1)]\n",
    "        result+=spearmanr(pred,bulk).statistic/4\n",
    "    results+=[result]"
   ],
   "metadata": {
    "collapsed": false,
    "pycharm": {
     "is_executing": true
    }
   }
  },
  {
   "cell_type": "code",
   "execution_count": 9,
   "outputs": [
    {
     "name": "stdout",
     "output_type": "stream",
     "text": [
      "Correlation before imputation: 0.933968744579174\n",
      "Best Correlation: 0.9330516106236137\n"
     ]
    }
   ],
   "source": [
    "baseline=np.mean([spearmanr(patients_pp[i].mean(axis=0),bulk_train['patient' + str(i+1)]).statistic for i in range(4)])\n",
    "print(f'Correlation before imputation: {baseline}')\n",
    "print(f'Best Correlation: {max(results)}')"
   ],
   "metadata": {
    "collapsed": false
   }
  },
  {
   "cell_type": "code",
   "execution_count": null,
   "outputs": [],
   "source": [],
   "metadata": {
    "collapsed": false
   }
  }
 ],
 "metadata": {
  "kernelspec": {
   "display_name": "Python 3",
   "language": "python",
   "name": "python3"
  },
  "language_info": {
   "codemirror_mode": {
    "name": "ipython",
    "version": 2
   },
   "file_extension": ".py",
   "mimetype": "text/x-python",
   "name": "python",
   "nbconvert_exporter": "python",
   "pygments_lexer": "ipython2",
   "version": "2.7.6"
  }
 },
 "nbformat": 4,
 "nbformat_minor": 0
}
