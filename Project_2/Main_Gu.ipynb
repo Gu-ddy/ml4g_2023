{
 "cells": [
  {
   "cell_type": "code",
   "execution_count": 5,
   "metadata": {
    "collapsed": true
   },
   "outputs": [],
   "source": [
    "import os\n",
    "import numpy as np\n",
    "import pandas as pd\n",
    "import scanpy as sc\n",
    "import anndata as ad\n",
    "from scipy.stats import spearmanr\n",
    "import scanpy.external as sce\n",
    "from itertools import product"
   ]
  },
  {
   "cell_type": "code",
   "execution_count": 2,
   "outputs": [],
   "source": [
    "path_cwd=os.getcwd()\n",
    "path_train_data=path_cwd + '/ML4G_Project_2_Data/train_data'\n",
    "path_test_data=path_cwd + '/ML4G_Project_2_Data/test_data'"
   ],
   "metadata": {
    "collapsed": false
   }
  },
  {
   "cell_type": "code",
   "execution_count": 3,
   "outputs": [],
   "source": [
    "#train_data\n",
    "bulk_train=pd.read_csv(path_train_data +'/pancreas_bulk_train.csv',index_col=0)\n",
    "metadata_train=pd.read_csv(path_train_data+ '/pancreas_sc_metadata_train.csv')\n",
    "sc_train=pd.read_csv(path_train_data +'/pancreas_sc_train.csv', index_col=0)\n",
    "\n",
    "#test_data\n",
    "metadata_test=pd.read_csv(path_test_data+ '/pancreas_sc_metadata_test_wocelltype.csv')\n",
    "sc_test=pd.read_csv(path_test_data +'/pancreas_sc_test.csv', index_col=0)"
   ],
   "metadata": {
    "collapsed": false
   }
  },
  {
   "cell_type": "code",
   "execution_count": 4,
   "outputs": [
    {
     "data": {
      "text/plain": "Unnamed: 0    SGIP1  AZIN2  CLIC4  AGBL4  NECAP2  SLC45A1  TGFBR3   DBT  \\\npatient1_A10    0.0    0.0  127.0    0.0   140.0      0.0     0.0   1.0   \npatient1_A12    0.0    0.0    0.0    0.0     0.0      0.0     0.0  57.0   \npatient1_A13    0.0  110.0    0.0   21.0     0.0      0.0     0.0  56.0   \n\nUnnamed: 0    RFWD2  C1orf21  ...  LOC389831  MGC70870  KIR2DS5  KIR2DL5A  \\\npatient1_A10  103.0    267.0  ...        0.0       0.0      0.0       0.0   \npatient1_A12    0.0      0.0  ...        0.0       0.0      0.0       0.0   \npatient1_A13    0.0      0.0  ...        0.0       0.0      0.0       0.0   \n\nUnnamed: 0    KIR3DS1  KIR2DL5B  KIR2DS2  KIR2DS1  KIR2DL2  KIR2DS3  \npatient1_A10      0.0       0.0      0.0      0.0      0.0      0.0  \npatient1_A12      0.0       0.0      0.0      0.0      0.0      0.0  \npatient1_A13      0.0       0.0      0.0      0.0      0.0      0.0  \n\n[3 rows x 25453 columns]",
      "text/html": "<div>\n<style scoped>\n    .dataframe tbody tr th:only-of-type {\n        vertical-align: middle;\n    }\n\n    .dataframe tbody tr th {\n        vertical-align: top;\n    }\n\n    .dataframe thead th {\n        text-align: right;\n    }\n</style>\n<table border=\"1\" class=\"dataframe\">\n  <thead>\n    <tr style=\"text-align: right;\">\n      <th>Unnamed: 0</th>\n      <th>SGIP1</th>\n      <th>AZIN2</th>\n      <th>CLIC4</th>\n      <th>AGBL4</th>\n      <th>NECAP2</th>\n      <th>SLC45A1</th>\n      <th>TGFBR3</th>\n      <th>DBT</th>\n      <th>RFWD2</th>\n      <th>C1orf21</th>\n      <th>...</th>\n      <th>LOC389831</th>\n      <th>MGC70870</th>\n      <th>KIR2DS5</th>\n      <th>KIR2DL5A</th>\n      <th>KIR3DS1</th>\n      <th>KIR2DL5B</th>\n      <th>KIR2DS2</th>\n      <th>KIR2DS1</th>\n      <th>KIR2DL2</th>\n      <th>KIR2DS3</th>\n    </tr>\n  </thead>\n  <tbody>\n    <tr>\n      <th>patient1_A10</th>\n      <td>0.0</td>\n      <td>0.0</td>\n      <td>127.0</td>\n      <td>0.0</td>\n      <td>140.0</td>\n      <td>0.0</td>\n      <td>0.0</td>\n      <td>1.0</td>\n      <td>103.0</td>\n      <td>267.0</td>\n      <td>...</td>\n      <td>0.0</td>\n      <td>0.0</td>\n      <td>0.0</td>\n      <td>0.0</td>\n      <td>0.0</td>\n      <td>0.0</td>\n      <td>0.0</td>\n      <td>0.0</td>\n      <td>0.0</td>\n      <td>0.0</td>\n    </tr>\n    <tr>\n      <th>patient1_A12</th>\n      <td>0.0</td>\n      <td>0.0</td>\n      <td>0.0</td>\n      <td>0.0</td>\n      <td>0.0</td>\n      <td>0.0</td>\n      <td>0.0</td>\n      <td>57.0</td>\n      <td>0.0</td>\n      <td>0.0</td>\n      <td>...</td>\n      <td>0.0</td>\n      <td>0.0</td>\n      <td>0.0</td>\n      <td>0.0</td>\n      <td>0.0</td>\n      <td>0.0</td>\n      <td>0.0</td>\n      <td>0.0</td>\n      <td>0.0</td>\n      <td>0.0</td>\n    </tr>\n    <tr>\n      <th>patient1_A13</th>\n      <td>0.0</td>\n      <td>110.0</td>\n      <td>0.0</td>\n      <td>21.0</td>\n      <td>0.0</td>\n      <td>0.0</td>\n      <td>0.0</td>\n      <td>56.0</td>\n      <td>0.0</td>\n      <td>0.0</td>\n      <td>...</td>\n      <td>0.0</td>\n      <td>0.0</td>\n      <td>0.0</td>\n      <td>0.0</td>\n      <td>0.0</td>\n      <td>0.0</td>\n      <td>0.0</td>\n      <td>0.0</td>\n      <td>0.0</td>\n      <td>0.0</td>\n    </tr>\n  </tbody>\n</table>\n<p>3 rows × 25453 columns</p>\n</div>"
     },
     "execution_count": 4,
     "metadata": {},
     "output_type": "execute_result"
    }
   ],
   "source": [
    "cells_1=[column for column in sc_train.columns if 'patient1' in column ]\n",
    "cells_2=[column for column in sc_train.columns if 'patient2' in column ]\n",
    "cells_3=[column for column in sc_train.columns if 'patient3' in column ]\n",
    "cells_4=[column for column in sc_train.columns if 'patient4' in column ]\n",
    "\n",
    "# we transpose the dataframe since we want a cells x genes dataframe for applying MAGIC\n",
    "sc1_train=sc_train[cells_1].T\n",
    "sc2_train=sc_train[cells_2].T\n",
    "sc3_train=sc_train[cells_3].T\n",
    "sc4_train=sc_train[cells_4].T\n",
    "\n",
    "\n",
    "genes1=list(sc1_train.loc[:, (sc1_train != sc1_train.iloc[0]).any()].columns)\n",
    "genes2=list(sc2_train.loc[:, (sc2_train != sc2_train.iloc[0]).any()].columns)\n",
    "genes3=list(sc3_train.loc[:, (sc3_train != sc3_train.iloc[0]).any()].columns)\n",
    "genes4=list(sc4_train.loc[:, (sc4_train != sc4_train.iloc[0]).any()].columns)\n",
    "\n",
    "\n",
    "genes=[genes1,genes2,genes3,genes4]\n",
    "sc1_train.head(3)"
   ],
   "metadata": {
    "collapsed": false
   }
  },
  {
   "cell_type": "code",
   "execution_count": 13,
   "outputs": [],
   "source": [
    "# Pre processing: Normalize per total reads per cell and transform with log\n",
    "def pp(data):\n",
    "    data=ad.AnnData(data) # needed to use following functions\n",
    "    #sc.pp.filter_cells(data,min_counts=1)\n",
    "    sc.pp.normalize_total(data)\n",
    "    sc.pp.sqrt(data)\n",
    "    data=pd.DataFrame(data.X, columns = data.var_names,index=data.obs_names)\n",
    "    return data\n",
    "\n",
    "patients=[sc1_train,sc2_train,sc3_train,sc4_train]\n",
    "patients_pp=[]\n",
    "#after the loop variables are called data1,data2,data3,data4 or are in the patients_pp list\n",
    "for i,data in enumerate(patients):\n",
    "    pp_data=pp(data)\n",
    "    vars().__setitem__('data' + str(i+1), pp_data )\n",
    "    patients_pp += [pp_data]"
   ],
   "metadata": {
    "collapsed": false
   }
  },
  {
   "cell_type": "code",
   "execution_count": 116,
   "outputs": [
    {
     "data": {
      "text/plain": "\"results=[]\\nk_set ,t_set, n_pca_set= [3,5,7,10], list(range(1,5))+ ['auto'] ,[70,90,110]\\nn=1\\nfor k,t,n_pca in product(k_set,t_set,n_pca_set):\\n    if n%5==0: print(n)\\n    result=0\\n    for i,patient in enumerate(patients_pp):\\n        imputed_global=patient.copy()\\n        imputed_local=sce.pp.magic(ad.AnnData(patient.loc[:,genes[i]]),knn=k,t=t,n_pca=n_pca,n_jobs=8,copy=True,verbose=0,solver='approximate')\\n        imputed_global.loc[:,genes[i]]=imputed_local.X\\n        pred=imputed_global.mean(axis=0)\\n        bulk=bulk_train['patient' + str(i+1)]\\n        result+=spearmanr(pred,bulk).statistic/4\\n    results+=[result]\\n    n+=1\\n\\nbaseline=np.mean([spearmanr(patients_pp[i].mean(axis=0),bulk_train['patient' + str(i+1)]).statistic for i in range(4)])\\nprint(f'Correlation before imputation: {baseline}')\\nprint(f'Best Correlation: {max(results)}')\\n\\nbest_iter=np.argmax(results)\\ni=0\\nfor a,b,c in product(k_set,t_set,n_pca_set):\\n    if i==best_iter:\\n        print(a,b,c)\\ni+=1\\n\""
     },
     "execution_count": 116,
     "metadata": {},
     "output_type": "execute_result"
    }
   ],
   "source": [
    "'''results=[]\n",
    "k_set ,t_set, n_pca_set= [3,5,7,10], list(range(1,5))+ ['auto'] ,[70,90,110]\n",
    "n=1\n",
    "for k,t,n_pca in product(k_set,t_set,n_pca_set):\n",
    "    if n%5==0: print(n)\n",
    "    result=0\n",
    "    for i,patient in enumerate(patients_pp):\n",
    "        imputed_global=patient.copy()\n",
    "        imputed_local=sce.pp.magic(ad.AnnData(patient.loc[:,genes[i]]),knn=k,t=t,n_pca=n_pca,n_jobs=8,copy=True,verbose=0,solver='approximate')\n",
    "        imputed_global.loc[:,genes[i]]=imputed_local.X\n",
    "        pred=imputed_global.mean(axis=0)\n",
    "        bulk=bulk_train['patient' + str(i+1)]\n",
    "        result+=spearmanr(pred,bulk).statistic/4\n",
    "    results+=[result]\n",
    "    n+=1\n",
    "\n",
    "baseline=np.mean([spearmanr(patients_pp[i].mean(axis=0),bulk_train['patient' + str(i+1)]).statistic for i in range(4)])\n",
    "print(f'Correlation before imputation: {baseline}')\n",
    "print(f'Best Correlation: {max(results)}')\n",
    "\n",
    "best_iter=np.argmax(results)\n",
    "i=0\n",
    "for a,b,c in product(k_set,t_set,n_pca_set):\n",
    "    if i==best_iter:\n",
    "        print(a,b,c)\n",
    "i+=1\n",
    "'''"
   ],
   "metadata": {
    "collapsed": false
   }
  },
  {
   "cell_type": "markdown",
   "source": [
    "# New Approach: Using the whole dataset"
   ],
   "metadata": {
    "collapsed": false
   }
  },
  {
   "cell_type": "code",
   "execution_count": 120,
   "outputs": [],
   "source": [
    "data_complete=pd.concat(patients_pp,axis=0)\n",
    "genes=list(data_complete.loc[:, (data_complete != data_complete.iloc[0]).any()].columns)\n",
    "lens=[len(x) for x in patients_pp]\n",
    "indexes=[np.sum(lens[:i+1]) for i in range(4)]"
   ],
   "metadata": {
    "collapsed": false
   }
  },
  {
   "cell_type": "code",
   "execution_count": 121,
   "outputs": [
    {
     "name": "stdout",
     "output_type": "stream",
     "text": [
      "parameters: (60, 'auto', 175)\n",
      "Correlation After imputation: 0.9451095086701955\n",
      "--------\n",
      "parameters: (60, 'auto', 180)\n",
      "Correlation After imputation: 0.9450754418163375\n",
      "--------\n",
      "parameters: (60, 'auto', 185)\n",
      "Correlation After imputation: 0.9451700908929492\n",
      "--------\n",
      "parameters: (80, 'auto', 175)\n",
      "Correlation After imputation: 0.9458508261935643\n",
      "--------\n",
      "parameters: (80, 'auto', 180)\n",
      "Correlation After imputation: 0.9458453546344455\n",
      "--------\n",
      "parameters: (80, 'auto', 185)\n",
      "Correlation After imputation: 0.9459011722561625\n",
      "--------\n",
      "parameters: (90, 'auto', 175)\n",
      "Correlation After imputation: 0.9458156154267131\n",
      "--------\n",
      "parameters: (90, 'auto', 180)\n",
      "Correlation After imputation: 0.9457986153794349\n",
      "--------\n",
      "parameters: (90, 'auto', 185)\n",
      "Correlation After imputation: 0.9458331655369938\n",
      "--------\n",
      "parameters: (100, 'auto', 175)\n",
      "Correlation After imputation: 0.9456221658779189\n",
      "--------\n",
      "parameters: (100, 'auto', 180)\n",
      "Correlation After imputation: 0.9456677206530077\n",
      "--------\n",
      "parameters: (100, 'auto', 185)\n",
      "Correlation After imputation: 0.9456981027049828\n",
      "--------\n",
      "Correlation before imputation: 0.933968744579174\n",
      "BEST CORRELATION AFTER IMPUTATION: 0.9459011722561625\n",
      "best parameters: [80, 'auto', 185]\n"
     ]
    }
   ],
   "source": [
    "results=[]\n",
    "k_set ,t_set, n_pca_set= [60,80,90,100], ['auto'] ,[175,180,185]\n",
    "#k_set ,t_set, n_pca_set= [70,75], ['auto'] ,[175,180,185]\n",
    "best_params=0\n",
    "best_score=0\n",
    "baseline=np.mean([spearmanr(patients_pp[i].mean(axis=0),bulk_train['patient' + str(i+1)]).statistic for i in range(4)])\n",
    "for k,t,n_pca in product(k_set,t_set,n_pca_set):\n",
    "    imputed_global=data_complete.copy()\n",
    "    imputed_local=sce.pp.magic(ad.AnnData(data_complete.loc[:,genes]),knn=k,t=t,n_pca=n_pca,n_jobs=8,copy=True,verbose=0,solver='approximate',random_state=7)\n",
    "    imputed_global.loc[:,genes]=imputed_local.X\n",
    "    result=0\n",
    "    for i,index in enumerate(indexes):\n",
    "        if i==0: sc_imputed= imputed_global.iloc[:index,:]\n",
    "        else: sc_imputed= imputed_global.iloc[indexes[i-1]:index,:]\n",
    "        bulkified=sc_imputed.mean(axis=0)\n",
    "        bulk=bulk_train['patient' + str(i+1)]\n",
    "        result+=spearmanr(bulkified,bulk).statistic/4\n",
    "    if result >= best_score:\n",
    "        best_params=[k,t,n_pca]\n",
    "        best_score=result\n",
    "    results+=[result]\n",
    "    print(f'parameters: {k,t,n_pca}')\n",
    "    print(f'Correlation After imputation: {result}\\n--------')\n",
    "\n",
    "\n",
    "print(f'Correlation before imputation: {baseline}')\n",
    "print(f'BEST CORRELATION AFTER IMPUTATION: {np.max(results)}')\n",
    "print(f'best parameters: {best_params}')"
   ],
   "metadata": {
    "collapsed": false
   }
  },
  {
   "cell_type": "markdown",
   "source": [
    "\n",
    "\n",
    "# New Approach: Differentiating by health status"
   ],
   "metadata": {
    "collapsed": false
   }
  },
  {
   "cell_type": "code",
   "execution_count": 96,
   "outputs": [],
   "source": [
    "data_complete_healthy=pd.concat(patients_pp[1:3],axis=0)\n",
    "data_complete_sick=pd.concat([patients_pp[0],patients_pp[3]],axis=0)\n",
    "genes_healthy=list(data_complete_healthy.loc[:, (data_complete_healthy != data_complete_healthy.iloc[0]).any()].columns)\n",
    "genes_sick=list(data_complete_sick.loc[:, (data_complete_sick != data_complete_sick.iloc[0]).any()].columns)\n",
    "\n",
    "index_healthy=len(patients_pp[1])\n",
    "index_sick=len(patients_pp[0])\n",
    "\n"
   ],
   "metadata": {
    "collapsed": false
   }
  },
  {
   "cell_type": "code",
   "execution_count": 97,
   "outputs": [
    {
     "data": {
      "text/plain": "0.94194410817671"
     },
     "execution_count": 97,
     "metadata": {},
     "output_type": "execute_result"
    }
   ],
   "source": [
    "imputed_global=data_complete_healthy.copy()\n",
    "imputed_local=sce.pp.magic(ad.AnnData(data_complete_healthy.loc[:,genes_healthy]),knn=80,t='auto',n_pca=175,n_jobs=8,copy=True,verbose=0,solver='approximate')\n",
    "imputed_global.loc[:,genes_healthy]=imputed_local.X\n",
    "result=0\n",
    "sc_imputed1= imputed_global.iloc[index_healthy:,:]\n",
    "sc_imputed2= imputed_global.iloc[:index_healthy,:]\n",
    "bulkified1=sc_imputed1.mean(axis=0)\n",
    "bulkified2=sc_imputed2.mean(axis=0)\n",
    "bulk1=bulk_train['patient' + str(2)]\n",
    "bulk2=bulk_train['patient' + str(3)]\n",
    "\n",
    "result=(spearmanr(bulkified1,bulk1).statistic + spearmanr(bulkified2,bulk2).statistic)/4\n",
    "result\n",
    "\n",
    "\n",
    "imputed_global=data_complete_sick.copy()\n",
    "imputed_local=sce.pp.magic(ad.AnnData(data_complete_sick.loc[:,genes_sick]),knn=80,t='auto',n_pca=175,n_jobs=8,copy=True,verbose=0,solver='approximate')\n",
    "imputed_global.loc[:,genes_sick]=imputed_local.X\n",
    "sc_imputed1= imputed_global.iloc[index_sick:,:]\n",
    "sc_imputed2= imputed_global.iloc[:index_sick,:]\n",
    "bulkified1=sc_imputed1.mean(axis=0)\n",
    "bulkified2=sc_imputed2.mean(axis=0)\n",
    "bulk1=bulk_train['patient' + str(1)]\n",
    "bulk2=bulk_train['patient' + str(4)]\n",
    "\n",
    "result+=(spearmanr(bulkified1,bulk1).statistic + spearmanr(bulkified2,bulk2).statistic)/4\n",
    "result"
   ],
   "metadata": {
    "collapsed": false
   }
  },
  {
   "cell_type": "markdown",
   "source": [
    "# Last... Using also test data"
   ],
   "metadata": {
    "collapsed": false
   }
  },
  {
   "cell_type": "code",
   "execution_count": 14,
   "outputs": [],
   "source": [
    "cells_1=[column for column in sc_train.columns if 'patient1' in column ]\n",
    "cells_2=[column for column in sc_train.columns if 'patient2' in column ]\n",
    "cells_3=[column for column in sc_train.columns if 'patient3' in column ]\n",
    "cells_4=[column for column in sc_train.columns if 'patient4' in column ]\n",
    "cells_5=[column for column in sc_test.columns if 'patient5' in column ]\n",
    "cells_6=[column for column in sc_test.columns if 'patient6' in column ]\n",
    "cells_7=[column for column in sc_test.columns if 'patient7' in column ]\n",
    "\n",
    "\n",
    "# we transpose the dataframe since we want a cells x genes dataframe for applying MAGIC\n",
    "sc1_train=sc_train[cells_1].T\n",
    "sc2_train=sc_train[cells_2].T\n",
    "sc3_train=sc_train[cells_3].T\n",
    "sc4_train=sc_train[cells_4].T\n",
    "sc5_train=sc_test[cells_5].T\n",
    "sc6_train=sc_test[cells_6].T\n",
    "sc7_train=sc_test[cells_7].T\n",
    "\n",
    "\n",
    "patients=[sc1_train,sc2_train,sc3_train,sc4_train,sc5_train,sc6_train,sc7_train]\n",
    "patients_pp=[]\n",
    "#after the loop variables are called data1,data2,data3,data4 or are in the patients_pp list\n",
    "for i,data in enumerate(patients):\n",
    "    pp_data=pp(data)\n",
    "    vars().__setitem__('data' + str(i+1), pp_data )\n",
    "    patients_pp += [pp_data]"
   ],
   "metadata": {
    "collapsed": false
   }
  },
  {
   "cell_type": "code",
   "execution_count": 15,
   "outputs": [],
   "source": [
    "data_complete=pd.concat(patients_pp,axis=0)\n",
    "genes=list(data_complete.loc[:, (data_complete != data_complete.iloc[0]).any()].columns)\n",
    "\n",
    "lens=[len(x) for x in patients_pp]\n",
    "indexes=[np.sum(lens[:i+1]) for i in range(4)]"
   ],
   "metadata": {
    "collapsed": false
   }
  },
  {
   "cell_type": "code",
   "execution_count": 22,
   "outputs": [
    {
     "name": "stdout",
     "output_type": "stream",
     "text": [
      "parameters: (250, 'auto', 250)\n",
      "Correlation After imputation: 0.9525459800307813\n",
      "--------\n",
      "Correlation before imputation: 0.9358073816280966\n",
      "BEST CORRELATION AFTER IMPUTATION: 0.9525459800307813\n",
      "best parameters: [250, 'auto', 250]\n"
     ]
    }
   ],
   "source": [
    "results=[]\n",
    "k_set ,t_set, n_pca_set= [250], ['auto'] ,[250]\n",
    "best_params=0\n",
    "best_score=0\n",
    "baseline=np.mean([spearmanr(patients_pp[i].mean(axis=0),bulk_train['patient' + str(i+1)]).statistic for i in range(4)])\n",
    "for k,t,n_pca in product(k_set,t_set,n_pca_set):\n",
    "    imputed_global=data_complete.copy()\n",
    "    imputed_local=sce.pp.magic(ad.AnnData(data_complete.loc[:,genes]),knn=k,t=t,n_pca=n_pca,n_jobs=8,copy=True,verbose=0,solver='approximate',random_state=7)\n",
    "    imputed_global.loc[:,genes]=imputed_local.X\n",
    "    result=0\n",
    "    for i,index in enumerate(indexes):\n",
    "        if i==0: sc_imputed= imputed_global.iloc[:index,:]\n",
    "        else: sc_imputed= imputed_global.iloc[indexes[i-1]:index,:]\n",
    "        bulkified=sc_imputed.mean(axis=0)\n",
    "        bulk=bulk_train['patient' + str(i+1)]\n",
    "        result+=spearmanr(bulkified,bulk).statistic/4\n",
    "    if result >= best_score:\n",
    "        best_params=[k,t,n_pca]\n",
    "        best_score=result\n",
    "    results+=[result]\n",
    "    print(f'parameters: {k,t,n_pca}')\n",
    "    print(f'Correlation After imputation: {result}\\n--------')\n",
    "\n",
    "\n",
    "print(f'Correlation before imputation: {baseline}')\n",
    "print(f'BEST CORRELATION AFTER IMPUTATION: {np.max(results)}')\n",
    "print(f'best parameters: {best_params}')"
   ],
   "metadata": {
    "collapsed": false
   }
  },
  {
   "cell_type": "markdown",
   "source": [
    "\n",
    "\n"
   ],
   "metadata": {
    "collapsed": false
   }
  },
  {
   "cell_type": "code",
   "execution_count": 30,
   "outputs": [],
   "source": [
    "indexes=[np.sum(lens[:i+1]) for i in range(7)]\n",
    "indexes\n",
    "\n",
    "\n",
    "final_result= imputed_global.iloc[indexes[3]:,:]\n",
    "final_result.to_csv(path_cwd + '/ML4G_Project_2_Data/Final/Imputation.csv')"
   ],
   "metadata": {
    "collapsed": false
   }
  },
  {
   "cell_type": "markdown",
   "source": [
    "# Setting up things for Submission"
   ],
   "metadata": {
    "collapsed": false
   }
  },
  {
   "cell_type": "code",
   "execution_count": 24,
   "outputs": [],
   "source": [
    "imputation=pd.read_csv('C:/Users/gugli/Documents/GitHub/ml4g_2023/Project_2/ML4G_Project_2_Data/Vollenweider_Michael_Project2/Imputation.csv',index_col=0).T\n",
    "file_destination='C:/Users/gugli/Documents/GitHub/ml4g_2023/Project_2/ML4G_Project_2_Data/Vollenweider_Michael_Project2/imputed_bulkified.csv'"
   ],
   "metadata": {
    "collapsed": false
   }
  },
  {
   "cell_type": "code",
   "execution_count": 25,
   "outputs": [],
   "source": [
    "cells_5=[column for column in imputation.columns if 'patient5' in column ]\n",
    "cells_6=[column for column in imputation.columns if 'patient6' in column ]\n",
    "cells_7=[column for column in imputation.columns if 'patient7' in column ]\n",
    "\n",
    "d={'index':list(imputation.index),'patient5':imputation.loc[:,cells_5].mean(axis=1), 'patient6':imputation.loc[:,cells_6].mean(axis=1), 'patient7':imputation.loc[:,cells_7].mean(axis=1)}\n",
    "pd.DataFrame(d).reset_index().drop('level_0',axis=1).to_csv(file_destination)"
   ],
   "metadata": {
    "collapsed": false
   }
  }
 ],
 "metadata": {
  "kernelspec": {
   "display_name": "Python 3",
   "language": "python",
   "name": "python3"
  },
  "language_info": {
   "codemirror_mode": {
    "name": "ipython",
    "version": 2
   },
   "file_extension": ".py",
   "mimetype": "text/x-python",
   "name": "python",
   "nbconvert_exporter": "python",
   "pygments_lexer": "ipython2",
   "version": "2.7.6"
  }
 },
 "nbformat": 4,
 "nbformat_minor": 0
}
