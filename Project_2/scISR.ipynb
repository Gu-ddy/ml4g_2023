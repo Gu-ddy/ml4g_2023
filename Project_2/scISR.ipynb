{
 "cells": [
  {
   "cell_type": "code",
   "execution_count": 2,
   "metadata": {
    "vscode": {
     "languageId": "r"
    }
   },
   "outputs": [],
   "source": [
    "# load the package\n",
    "library(scISR)"
   ]
  },
  {
   "cell_type": "code",
   "execution_count": 3,
   "metadata": {
    "vscode": {
     "languageId": "r"
    }
   },
   "outputs": [],
   "source": [
    "# load the pancreas dataset from ML4G_Project_2_Data/train_dat\n",
    "data <- read.table(\"ML4G_Project_2_Data/train_data/pancreas_sc_train.csv\", sep=\",\", header=TRUE, row.names=1)\n",
    "bulk_data <- read.table(\"ML4G_Project_2_Data/train_data/pancreas_bulk_train.csv\", sep=\",\", header=TRUE, row.names=1)"
   ]
  },
  {
   "cell_type": "code",
   "execution_count": 113,
   "metadata": {
    "vscode": {
     "languageId": "r"
    }
   },
   "outputs": [],
   "source": [
    "# log-transform the data\n",
    "data <- log2(data+1)\n",
    "bulk_data <- log2(bulk_data+1)"
   ]
  },
  {
   "cell_type": "code",
   "execution_count": 115,
   "metadata": {
    "vscode": {
     "languageId": "r"
    }
   },
   "outputs": [
    {
     "name": "stderr",
     "output_type": "stream",
     "text": [
      "\n",
      "Using knn...\n",
      "\n",
      "Clustering method: kmeans\n",
      "\n",
      "Perturbation method: noise\n",
      "\n",
      "Building original connectivity matrices\n",
      "\n"
     ]
    },
    {
     "name": "stdout",
     "output_type": "stream",
     "text": [
      "  |======================================================================| 100%"
     ]
    },
    {
     "name": "stderr",
     "output_type": "stream",
     "text": [
      "Building perturbed connectivity matrices\n",
      "\n"
     ]
    },
    {
     "name": "stdout",
     "output_type": "stream",
     "text": [
      "  |======================================================================| 100%\n"
     ]
    },
    {
     "name": "stderr",
     "output_type": "stream",
     "text": [
      "Done in 6.39689029455185 mins.\n",
      "\n",
      "\n"
     ]
    }
   ],
   "source": [
    "# apply imputation\n",
    "imputed <- scISR(data, ncores=1, preprocessing = FALSE, batch_impute = TRUE)\n",
    "write.csv(imputed, file=\"imputed_data_scISR_log.csv\")"
   ]
  },
  {
   "cell_type": "code",
   "execution_count": 116,
   "metadata": {
    "vscode": {
     "languageId": "r"
    }
   },
   "outputs": [],
   "source": [
    "# compute mean of imputed data and bulk data for each gene\n",
    "bulk_mean <- data.frame(mean=rowMeans(bulk_data))\n",
    "imputed_mean <- data.frame(mean=rowMeans(imputed))"
   ]
  },
  {
   "cell_type": "code",
   "execution_count": null,
   "metadata": {
    "vscode": {
     "languageId": "r"
    }
   },
   "outputs": [],
   "source": [
    "# if preprocessing was applied, the rownames of imputed_mean and bulk_mean will be different\n",
    "\n",
    "# get genes which are in the bulk data but not in the imputed data\n",
    "only_in_bulk <- setdiff(rownames(bulk_mean), rownames(imputed_mean))\n",
    "\n",
    "# create dataframe full of zeros with rownames only_in_bulk\n",
    "zeros <- data.frame(mean = matrix(0, nrow=length(only_in_bulk), ncol=1),row.names = only_in_bulk)\n",
    "\n",
    "# append dataframe rows of zeros to imputed_mean\n",
    "imputed_mean_full <- rbind(imputed_mean, zeros)\n",
    "\n",
    "# sort imputed mean by rownames\n",
    "imputed_mean_full <- imputed_mean_full[order(rownames(imputed_mean_full)),]\n",
    "\n",
    "# sort bulk mean by rownames\n",
    "bulk_mean <- bulk_mean[order(rownames(bulk_mean)),]"
   ]
  },
  {
   "cell_type": "code",
   "execution_count": 117,
   "metadata": {
    "vscode": {
     "languageId": "r"
    }
   },
   "outputs": [
    {
     "data": {
      "text/html": [
       "<table class=\"dataframe\">\n",
       "<caption>A matrix: 1 × 1 of type dbl</caption>\n",
       "<thead>\n",
       "\t<tr><th></th><th scope=col>mean</th></tr>\n",
       "</thead>\n",
       "<tbody>\n",
       "\t<tr><th scope=row>mean</th><td>0.9463996</td></tr>\n",
       "</tbody>\n",
       "</table>\n"
      ],
      "text/latex": [
       "A matrix: 1 × 1 of type dbl\n",
       "\\begin{tabular}{r|l}\n",
       "  & mean\\\\\n",
       "\\hline\n",
       "\tmean & 0.9463996\\\\\n",
       "\\end{tabular}\n"
      ],
      "text/markdown": [
       "\n",
       "A matrix: 1 × 1 of type dbl\n",
       "\n",
       "| <!--/--> | mean |\n",
       "|---|---|\n",
       "| mean | 0.9463996 |\n",
       "\n"
      ],
      "text/plain": [
       "     mean     \n",
       "mean 0.9463996"
      ]
     },
     "metadata": {},
     "output_type": "display_data"
    }
   ],
   "source": [
    "# compute spearman correlation between two vectors\n",
    "spearman <- function(x, y) {\n",
    "  cor(x, y, method=\"spearman\")\n",
    "}\n",
    "\n",
    "# compute the spearman correlation between the imputed and raw data\n",
    "spearman(imputed_mean, bulk_mean)"
   ]
  },
  {
   "attachments": {},
   "cell_type": "markdown",
   "metadata": {},
   "source": [
    "## 2. Clustering"
   ]
  },
  {
   "cell_type": "code",
   "execution_count": 11,
   "metadata": {
    "vscode": {
     "languageId": "r"
    }
   },
   "outputs": [
    {
     "name": "stderr",
     "output_type": "stream",
     "text": [
      "Loading required package: Matrix\n",
      "\n",
      "Package 'mclust' version 6.0.0\n",
      "Type 'citation(\"mclust\")' for citing this R package in publications.\n",
      "\n"
     ]
    }
   ],
   "source": [
    "# load libraries\n",
    "library(irlba)\n",
    "library(mclust)"
   ]
  },
  {
   "cell_type": "code",
   "execution_count": null,
   "metadata": {
    "vscode": {
     "languageId": "r"
    }
   },
   "outputs": [],
   "source": [
    "# load imputed data\n",
    "imputed <- read.csv(\"ML4G_Project_2_Data/imputed_data/imputed_data_scISR_pp.csv\", header=TRUE, row.names=1)\n",
    "\n",
    "# load metadata\n",
    "metadata <- read.csv(\"ML4G_Project_2_Data/train_data/pancreas_sc_metadata_train.csv\", header=TRUE, row.names=1)"
   ]
  },
  {
   "cell_type": "markdown",
   "metadata": {},
   "source": []
  }
 ],
 "metadata": {
  "kernelspec": {
   "display_name": "R",
   "language": "R",
   "name": "ir"
  },
  "language_info": {
   "codemirror_mode": "r",
   "file_extension": ".r",
   "mimetype": "text/x-r-source",
   "name": "R",
   "pygments_lexer": "r",
   "version": "4.1.2"
  },
  "orig_nbformat": 4
 },
 "nbformat": 4,
 "nbformat_minor": 2
}
