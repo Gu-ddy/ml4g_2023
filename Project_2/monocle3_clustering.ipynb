{
 "cells": [
  {
   "cell_type": "code",
   "execution_count": 1,
   "metadata": {
    "vscode": {
     "languageId": "r"
    }
   },
   "outputs": [],
   "source": [
    "# load imputed data\n",
    "imputed <- read.csv(\"ML4G_Project_2_Data/imputed_data/imputed_data_scISR_pp.csv\", header=TRUE, row.names=1)\n",
    "\n",
    "# load metadata\n",
    "metadata <- read.csv(\"ML4G_Project_2_Data/train_data/pancreas_sc_metadata_train.csv\", header=TRUE, row.names=1)"
   ]
  },
  {
   "cell_type": "code",
   "execution_count": 2,
   "metadata": {
    "vscode": {
     "languageId": "r"
    }
   },
   "outputs": [
    {
     "name": "stderr",
     "output_type": "stream",
     "text": [
      "'getOption(\"repos\")' replaces Bioconductor standard repositories, see\n",
      "'help(\"repositories\", package = \"BiocManager\")' for details.\n",
      "Replacement repositories:\n",
      "    CRAN: https://cloud.r-project.org\n",
      "\n",
      "Bioconductor version 3.14 (BiocManager 1.30.20), R 4.1.2 (2021-11-01)\n",
      "\n"
     ]
    }
   ],
   "source": [
    "if (!requireNamespace(\"BiocManager\", quietly = TRUE))\n",
    "install.packages(\"BiocManager\")\n",
    "BiocManager::install(version = \"3.14\")"
   ]
  },
  {
   "cell_type": "code",
   "execution_count": 3,
   "metadata": {
    "vscode": {
     "languageId": "r"
    }
   },
   "outputs": [
    {
     "name": "stderr",
     "output_type": "stream",
     "text": [
      "'getOption(\"repos\")' replaces Bioconductor standard repositories, see\n",
      "'help(\"repositories\", package = \"BiocManager\")' for details.\n",
      "Replacement repositories:\n",
      "    CRAN: https://cloud.r-project.org\n",
      "\n",
      "Bioconductor version 3.14 (BiocManager 1.30.20), R 4.1.2 (2021-11-01)\n",
      "\n",
      "Installing package(s) 'BiocGenerics', 'DelayedArray', 'DelayedMatrixStats',\n",
      "  'limma', 'lme4', 'S4Vectors', 'SingleCellExperiment', 'SummarizedExperiment',\n",
      "  'batchelor', 'HDF5Array', 'terra', 'ggrastr'\n",
      "\n",
      "also installing the dependencies ‘formatR’, ‘colorspace’, ‘zlibbioc’, ‘bitops’, ‘lambda.r’, ‘futile.options’, ‘farver’, ‘labeling’, ‘munsell’, ‘RColorBrewer’, ‘viridisLite’, ‘XVector’, ‘RCurl’, ‘GenomeInfoDbData’, ‘RcppHNSW’, ‘rsvd’, ‘futile.logger’, ‘snow’, ‘BH’, ‘gtable’, ‘isoband’, ‘scales’, ‘beeswarm’, ‘vipor’, ‘MatrixGenerics’, ‘IRanges’, ‘sparseMatrixStats’, ‘minqa’, ‘nloptr’, ‘RcppEigen’, ‘GenomicRanges’, ‘Biobase’, ‘GenomeInfoDb’, ‘igraph’, ‘BiocNeighbors’, ‘BiocSingular’, ‘BiocParallel’, ‘scuttle’, ‘ResidualMatrix’, ‘ScaledMatrix’, ‘beachmat’, ‘rhdf5’, ‘rhdf5filters’, ‘Rhdf5lib’, ‘ggplot2’, ‘Cairo’, ‘ggbeeswarm’, ‘png’\n",
      "\n",
      "\n",
      "Warning message in install.packages(...):\n",
      "“installation of package ‘nloptr’ had non-zero exit status”\n",
      "Warning message in install.packages(...):\n",
      "“installation of package ‘igraph’ had non-zero exit status”\n",
      "Warning message in install.packages(...):\n",
      "“installation of package ‘Cairo’ had non-zero exit status”\n",
      "Warning message in install.packages(...):\n",
      "“installation of package ‘terra’ had non-zero exit status”\n",
      "Warning message in install.packages(...):\n",
      "“installation of package ‘lme4’ had non-zero exit status”\n",
      "Warning message in install.packages(...):\n",
      "“installation of package ‘ggrastr’ had non-zero exit status”\n",
      "Warning message in install.packages(...):\n",
      "“installation of package ‘batchelor’ had non-zero exit status”\n"
     ]
    }
   ],
   "source": [
    "BiocManager::install(c('BiocGenerics', 'DelayedArray', 'DelayedMatrixStats',\n",
    "                       'limma', 'lme4', 'S4Vectors', 'SingleCellExperiment',\n",
    "                       'SummarizedExperiment', 'batchelor', 'HDF5Array',\n",
    "                       'terra', 'ggrastr'))"
   ]
  },
  {
   "cell_type": "code",
   "execution_count": 1,
   "metadata": {
    "vscode": {
     "languageId": "r"
    }
   },
   "outputs": [
    {
     "name": "stderr",
     "output_type": "stream",
     "text": [
      "Downloading package from url: https://packagemanager.rstudio.com/cran/2023-03-31/src/contrib/speedglm_0.3-4.tar.gz\n",
      "\n",
      "Installing package into ‘/home/mike/R/x86_64-pc-linux-gnu-library/4.1’\n",
      "(as ‘lib’ is unspecified)\n",
      "\n"
     ]
    }
   ],
   "source": [
    "devtools::install_version('speedglm', '0.3-4', repos = 'https://packagemanager.rstudio.com/cran/2023-03-31')"
   ]
  },
  {
   "cell_type": "code",
   "execution_count": 2,
   "metadata": {
    "vscode": {
     "languageId": "r"
    }
   },
   "outputs": [
    {
     "name": "stderr",
     "output_type": "stream",
     "text": [
      "Downloading GitHub repo cole-trapnell-lab/monocle3@HEAD\n",
      "\n"
     ]
    },
    {
     "name": "stdout",
     "output_type": "stream",
     "text": [
      "wk           (NA -> 0.7.2  ) [CRAN]\n",
      "e1071        (NA -> 1.7-13 ) [CRAN]\n",
      "units        (NA -> 0.8-1  ) [CRAN]\n",
      "s2           (NA -> 1.1.2  ) [CRAN]\n",
      "DBI          (NA -> 1.1.3  ) [CRAN]\n",
      "classInt     (NA -> 0.4-9  ) [CRAN]\n",
      "sp           (NA -> 1.6-0  ) [CRAN]\n",
      "warp         (NA -> 0.2.0  ) [CRAN]\n",
      "parallelly   (NA -> 1.35.0 ) [CRAN]\n",
      "listenv      (NA -> 0.9.0  ) [CRAN]\n",
      "globals      (NA -> 0.16.2 ) [CRAN]\n",
      "future       (NA -> 1.32.0 ) [CRAN]\n",
      "tidyselect   (NA -> 1.2.0  ) [CRAN]\n",
      "generics     (NA -> 0.1.3  ) [CRAN]\n",
      "dplyr        (NA -> 1.1.1  ) [CRAN]\n",
      "gridExtra    (NA -> 2.3    ) [CRAN]\n",
      "dqrng        (NA -> 0.3.0  ) [CRAN]\n",
      "RcppProgress (NA -> 0.4.2  ) [CRAN]\n",
      "RcppAnnoy    (NA -> 0.0.20 ) [CRAN]\n",
      "deldir       (NA -> 1.0-6  ) [CRAN]\n",
      "sf           (NA -> 1.0-12 ) [CRAN]\n",
      "spData       (NA -> 2.2.2  ) [CRAN]\n",
      "tidyr        (NA -> 1.3.0  ) [CRAN]\n",
      "slider       (NA -> 0.3.0  ) [CRAN]\n",
      "furrr        (NA -> 0.3.1  ) [CRAN]\n",
      "plyr         (NA -> 1.8.8  ) [CRAN]\n",
      "data.table   (NA -> 1.14.8 ) [CRAN]\n",
      "crosstalk    (NA -> 1.2.0  ) [CRAN]\n",
      "zoo          (NA -> 1.8-12 ) [CRAN]\n",
      "nloptr       (NA -> 2.0.3  ) [CRAN]\n",
      "igraph       (NA -> 1.4.2  ) [CRAN]\n",
      "Cairo        (NA -> 1.6-0  ) [CRAN]\n",
      "viridis      (NA -> 0.6.2  ) [CRAN]\n",
      "terra        (NA -> 1.7-23 ) [CRAN]\n",
      "uwot         (NA -> 0.1.14 ) [CRAN]\n",
      "spdep        (NA -> 1.2-8  ) [CRAN]\n",
      "slam         (NA -> 0.1-50 ) [CRAN]\n",
      "Rtsne        (NA -> 0.16   ) [CRAN]\n",
      "RhpcBLASctl  (NA -> 0.23-42) [CRAN]\n",
      "rsample      (NA -> 1.1.1  ) [CRAN]\n",
      "reshape2     (NA -> 1.4.4  ) [CRAN]\n",
      "RANN         (NA -> 2.6.1  ) [CRAN]\n",
      "pscl         (NA -> 1.5.5  ) [CRAN]\n",
      "plotly       (NA -> 4.10.1 ) [CRAN]\n",
      "pheatmap     (NA -> 1.0.12 ) [CRAN]\n",
      "pbmcapply    (NA -> 1.5.1  ) [CRAN]\n",
      "pbapply      (NA -> 1.7-0  ) [CRAN]\n",
      "lmtest       (NA -> 0.9-40 ) [CRAN]\n",
      "lme4         (NA -> 1.1-32 ) [CRAN]\n",
      "leidenbase   (NA -> 0.1.18 ) [CRAN]\n",
      "grr          (NA -> 0.9.5  ) [CRAN]\n",
      "ggrepel      (NA -> 0.9.3  ) [CRAN]\n",
      "ggrastr      (NA -> 1.0.1  ) [CRAN]\n",
      "batchelor    (NA -> 1.10.0 ) [CRAN]\n",
      "assertthat   (NA -> 0.2.1  ) [CRAN]\n"
     ]
    },
    {
     "name": "stderr",
     "output_type": "stream",
     "text": [
      "Skipping 1 packages not available: speedglm\n",
      "\n",
      "Installing 55 packages: wk, e1071, units, s2, DBI, classInt, sp, warp, parallelly, listenv, globals, future, tidyselect, generics, dplyr, gridExtra, dqrng, RcppProgress, RcppAnnoy, deldir, sf, spData, tidyr, slider, furrr, plyr, data.table, crosstalk, zoo, nloptr, igraph, Cairo, viridis, terra, uwot, spdep, slam, Rtsne, RhpcBLASctl, rsample, reshape2, RANN, pscl, plotly, pheatmap, pbmcapply, pbapply, lmtest, lme4, leidenbase, grr, ggrepel, ggrastr, batchelor, assertthat\n",
      "\n",
      "Installing packages into ‘/home/mike/R/x86_64-pc-linux-gnu-library/4.1’\n",
      "(as ‘lib’ is unspecified)\n",
      "\n",
      "Warning message in i.p(...):\n",
      "“installation of package ‘wk’ had non-zero exit status”\n",
      "Warning message in i.p(...):\n",
      "“installation of package ‘units’ had non-zero exit status”\n",
      "Warning message in i.p(...):\n",
      "“installation of package ‘nloptr’ had non-zero exit status”\n",
      "Warning message in i.p(...):\n",
      "“installation of package ‘igraph’ had non-zero exit status”\n",
      "Warning message in i.p(...):\n",
      "“installation of package ‘Cairo’ had non-zero exit status”\n",
      "Warning message in i.p(...):\n",
      "“installation of package ‘terra’ had non-zero exit status”\n",
      "Warning message in i.p(...):\n",
      "“installation of package ‘s2’ had non-zero exit status”\n",
      "Warning message in i.p(...):\n",
      "“installation of package ‘lme4’ had non-zero exit status”\n",
      "Warning message in i.p(...):\n",
      "“installation of package ‘leidenbase’ had non-zero exit status”\n",
      "Warning message in i.p(...):\n",
      "“installation of package ‘ggrastr’ had non-zero exit status”\n",
      "Warning message in i.p(...):\n",
      "“installation of package ‘batchelor’ had non-zero exit status”\n",
      "Warning message in i.p(...):\n",
      "“installation of package ‘sf’ had non-zero exit status”\n",
      "Warning message in i.p(...):\n",
      "“installation of package ‘spdep’ had non-zero exit status”\n"
     ]
    },
    {
     "name": "stdout",
     "output_type": "stream",
     "text": [
      "\u001b[36m──\u001b[39m \u001b[36mR CMD build\u001b[39m \u001b[36m─────────────────────────────────────────────────────────────────\u001b[39m\n",
      "* checking for file ‘/tmp/RtmpPBMB3H/remotes15bef1e27e158/cole-trapnell-lab-monocle3-b545460/DESCRIPTION’ ... OK\n",
      "* preparing ‘monocle3’:\n",
      "* checking DESCRIPTION meta-information ... OK\n",
      "* cleaning src\n",
      "* checking for LF line-endings in source and make files and shell scripts\n",
      "* checking for empty or unneeded directories\n",
      "Omitted ‘LazyData’ from DESCRIPTION\n",
      "* building ‘monocle3_1.3.1.tar.gz’\n",
      "\n"
     ]
    },
    {
     "name": "stderr",
     "output_type": "stream",
     "text": [
      "Installing package into ‘/home/mike/R/x86_64-pc-linux-gnu-library/4.1’\n",
      "(as ‘lib’ is unspecified)\n",
      "\n",
      "Warning message in i.p(...):\n",
      "“installation of package ‘/tmp/RtmpPBMB3H/file15bef12ab83cb/monocle3_1.3.1.tar.gz’ had non-zero exit status”\n"
     ]
    }
   ],
   "source": [
    "devtools::install_github('cole-trapnell-lab/monocle3')"
   ]
  },
  {
   "cell_type": "code",
   "execution_count": null,
   "metadata": {
    "vscode": {
     "languageId": "r"
    }
   },
   "outputs": [],
   "source": []
  }
 ],
 "metadata": {
  "kernelspec": {
   "display_name": "R",
   "language": "R",
   "name": "ir"
  },
  "language_info": {
   "codemirror_mode": "r",
   "file_extension": ".r",
   "mimetype": "text/x-r-source",
   "name": "R",
   "pygments_lexer": "r",
   "version": "4.1.2"
  },
  "orig_nbformat": 4
 },
 "nbformat": 4,
 "nbformat_minor": 2
}
