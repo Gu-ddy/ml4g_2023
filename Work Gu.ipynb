{
 "cells": [
  {
   "cell_type": "code",
   "execution_count": 1,
   "metadata": {
    "collapsed": true
   },
   "outputs": [
    {
     "data": {
      "text/plain": "(['DNase-bed',\n  'H3K27ac-bed',\n  'H3K27me3-bed',\n  'H3K36me3-bed',\n  'H3K4me1-bed',\n  'H3K4me3-bed',\n  'H3K9me3-bed'],\n ['X1_train_info.tsv',\n  'X1_train_y.tsv',\n  'X1_val_info.tsv',\n  'X1_val_y.tsv',\n  'X2_train_info.tsv',\n  'X2_train_y.tsv',\n  'X2_val_info.tsv',\n  'X2_val_y.tsv',\n  'X3_test_info.tsv'])"
     },
     "execution_count": 1,
     "metadata": {},
     "output_type": "execute_result"
    }
   ],
   "source": [
    "import os\n",
    "import pandas as pd\n",
    "import numpy as np\n",
    "\n",
    "\n",
    "path_cwd = os.getcwd()\n",
    "path_X = path_cwd+\"/ML4G_Project_1_Data/X_data\"\n",
    "path_y=path_cwd+\"/ML4G_Project_1_Data/CAGE-train\"\n",
    "X_folders=os.listdir(path_X)\n",
    "y_folders=os.listdir(path_y)\n",
    "#pd.read_csv(path_test, sep='\\t')\n",
    "X_folders,y_folders"
   ]
  },
  {
   "cell_type": "markdown",
   "source": [
    "For every gene collector:\n",
    "We will create a numpy 2d array for every feature of size gene per window\n",
    "and then we will stack them."
   ],
   "metadata": {
    "collapsed": false
   }
  },
  {
   "cell_type": "code",
   "execution_count": 2,
   "outputs": [],
   "source": [
    "window_size=1000\n",
    "binary=True\n",
    "\n",
    "def window(start,end,window_size):\n",
    "    r=int(window_size/2)\n",
    "    m=(start+end)/2\n",
    "    return (m-r,m+r)\n",
    "\n",
    "\n",
    "for y_file_name in y_folders:\n",
    "    if not 'info' in y_file_name: continue\n",
    "    collector_name=y_file_name[:-9]\n",
    "    cell_line=y_file_name[:2]\n",
    "    y_file_path= path_y+ '/' + y_file_name\n",
    "    y_pd=pd.read_csv(y_file_path, sep='\\t')\n",
    "    n_genes=y_pd.shape[0]\n",
    "    for X_file_name in X_folders:\n",
    "        X_file_path=path_X+ '/' + X_file_name\n",
    "        variable_name=X_file_name[:-4]\n",
    "        X_pd=pd.read_csv(X_file_path +'/'+cell_line + '.bed', sep='\\t',header=None)\n",
    "        X= collector_name + '_' +variable_name\n",
    "        vars().__setitem__(X, np.zeros((n_genes,window_size),dtype=int))\n",
    "        for idx, yrow in y_pd.iterrows():\n",
    "            chr=yrow.chr\n",
    "            start_pos, end_pos= window(yrow.TSS_start,yrow.TSS_end,window_size)\n",
    "            exit\n",
    "\n",
    "\n",
    "\n"
   ],
   "metadata": {
    "collapsed": false
   }
  },
  {
   "cell_type": "code",
   "execution_count": 3,
   "outputs": [
    {
     "data": {
      "text/plain": "'X3_test'"
     },
     "execution_count": 3,
     "metadata": {},
     "output_type": "execute_result"
    }
   ],
   "source": [
    "collector_name"
   ],
   "metadata": {
    "collapsed": false
   }
  },
  {
   "cell_type": "markdown",
   "source": [
    "# Draft"
   ],
   "metadata": {
    "collapsed": false
   }
  },
  {
   "cell_type": "code",
   "execution_count": 3,
   "outputs": [],
   "source": [
    "path_test = path_data+\"/CAGE-train/X1_train_info.tsv\"   # X3_test_info.tsv ; TODO\n",
    "test_genes ="
   ],
   "metadata": {
    "collapsed": false
   }
  },
  {
   "cell_type": "code",
   "execution_count": 63,
   "outputs": [
    {
     "data": {
      "text/plain": "97"
     },
     "execution_count": 63,
     "metadata": {},
     "output_type": "execute_result"
    }
   ],
   "source": [
    "\n",
    "myStr='ciao'\n",
    "vars().__setitem__(myStr, 97)\n",
    "ciao"
   ],
   "metadata": {
    "collapsed": false
   }
  },
  {
   "cell_type": "code",
   "execution_count": 85,
   "outputs": [
    {
     "name": "stdout",
     "output_type": "stream",
     "text": [
      "0         chr1\n",
      "1       181405\n",
      "2       181555\n",
      "3            .\n",
      "4            0\n",
      "5            .\n",
      "6    12.379543\n",
      "7           -1\n",
      "8           -1\n",
      "9           75\n",
      "Name: 0, dtype: object\n"
     ]
    }
   ],
   "source": [
    "path_cwd = os.getcwd()\n",
    "path_data = path_cwd+\"/ML4G_Project_1_Data/X_Data/DNase-bed/X1.bed\"\n",
    "test_bed=pd.read_csv(path_data, sep='\\t',header=None)\n",
    "for i, row in test_bed.iterrows():\n",
    "    print(row)\n",
    "    break"
   ],
   "metadata": {
    "collapsed": false
   }
  },
  {
   "cell_type": "code",
   "execution_count": 80,
   "outputs": [
    {
     "data": {
      "text/plain": "('C:\\\\Users\\\\gugli\\\\Documents\\\\GitHub\\\\ml4g_2023/ML4G_Project_1_Data/X_Data/DNase-bed/X1.bed',\n 'C:\\\\Users\\\\gugli\\\\Documents\\\\GitHub\\\\ml4g_2023/ML4G_Project_1_Data/X_data/DNase-bed')"
     },
     "execution_count": 80,
     "metadata": {},
     "output_type": "execute_result"
    }
   ],
   "source": [
    "path_data,X_file_path"
   ],
   "metadata": {
    "collapsed": false
   }
  },
  {
   "cell_type": "markdown",
   "source": [
    "§B"
   ],
   "metadata": {
    "collapsed": false
   }
  }
 ],
 "metadata": {
  "kernelspec": {
   "display_name": "Python 3",
   "language": "python",
   "name": "python3"
  },
  "language_info": {
   "codemirror_mode": {
    "name": "ipython",
    "version": 2
   },
   "file_extension": ".py",
   "mimetype": "text/x-python",
   "name": "python",
   "nbconvert_exporter": "python",
   "pygments_lexer": "ipython2",
   "version": "2.7.6"
  }
 },
 "nbformat": 4,
 "nbformat_minor": 0
}
